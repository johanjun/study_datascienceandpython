{
  "nbformat": 4,
  "nbformat_minor": 0,
  "metadata": {
    "colab": {
      "name": "text classification.ipynb",
      "provenance": [],
      "machine_shape": "hm",
      "mount_file_id": "1GzGzjPKjB99s1_bWF1x3XLy1GVLHGZ1F",
      "authorship_tag": "ABX9TyN6G7yy1XOKzSfck8cgTaI+",
      "include_colab_link": true
    },
    "kernelspec": {
      "name": "python3",
      "display_name": "Python 3"
    },
    "language_info": {
      "name": "python"
    },
    "accelerator": "GPU"
  },
  "cells": [
    {
      "cell_type": "markdown",
      "metadata": {
        "id": "view-in-github",
        "colab_type": "text"
      },
      "source": [
        "<a href=\"https://colab.research.google.com/github/johanjun/study_datascienceandpython/blob/main/NLP/text%20classification/text_classification.ipynb\" target=\"_parent\"><img src=\"https://colab.research.google.com/assets/colab-badge.svg\" alt=\"Open In Colab\"/></a>"
      ]
    },
    {
      "cell_type": "code",
      "metadata": {
        "colab": {
          "base_uri": "https://localhost:8080/"
        },
        "id": "kevqaELlo3Y-",
        "outputId": "585796b1-7e7b-41da-a87c-a6554797bced"
      },
      "source": [
        "cd /content/drive/MyDrive/study_datascienceandpython/NLP/text classification/05-text_classification"
      ],
      "execution_count": 1,
      "outputs": [
        {
          "output_type": "stream",
          "name": "stdout",
          "text": [
            "/content/drive/MyDrive/study_datascienceandpython/NLP/text classification/05-text_classification\n"
          ]
        }
      ]
    },
    {
      "cell_type": "code",
      "metadata": {
        "colab": {
          "base_uri": "https://localhost:8080/"
        },
        "id": "5QVnr6Z0pAbS",
        "outputId": "eff59f30-d1fe-4ced-ddeb-d4953a34f18c"
      },
      "source": [
        "ls"
      ],
      "execution_count": 2,
      "outputs": [
        {
          "output_type": "stream",
          "name": "stdout",
          "text": [
            " readme.txt\n",
            " review.sorted.uniq.refined.tok.shuf.fasttext.test.txt\n",
            " review.sorted.uniq.refined.tok.shuf.fasttext.train.txt\n",
            " review.sorted.uniq.refined.tok.shuf.test.no_label.txt\n",
            " review.sorted.uniq.refined.tok.shuf.test.tsv\n",
            " review.sorted.uniq.refined.tok.shuf.train.tsv\n",
            " \u001b[0m\u001b[01;34msimple-ntc\u001b[0m/\n",
            "'text classification.ipynb'\n"
          ]
        }
      ]
    },
    {
      "cell_type": "code",
      "metadata": {
        "colab": {
          "base_uri": "https://localhost:8080/"
        },
        "id": "ScgolCWTojUx",
        "outputId": "1ced57e2-9881-4e3b-8f92-5221dbe1cc51"
      },
      "source": [
        "!head -n 1 ./review.sorted.uniq.refined.tok.shuf.test.tsv"
      ],
      "execution_count": 3,
      "outputs": [
        {
          "output_type": "stream",
          "name": "stdout",
          "text": [
            "positive\t생각 보다 밝 아요 ㅎㅎ \n"
          ]
        }
      ]
    },
    {
      "cell_type": "markdown",
      "metadata": {
        "id": "b2fiil6hrAG9"
      },
      "source": [
        "# 모델 학습"
      ]
    },
    {
      "cell_type": "code",
      "metadata": {
        "colab": {
          "base_uri": "https://localhost:8080/"
        },
        "id": "m2nXtmCksQqG",
        "outputId": "ba3c3b7b-c763-4957-fbbc-92fffc21c53c"
      },
      "source": [
        "!pip install pytorch-ignite"
      ],
      "execution_count": 15,
      "outputs": [
        {
          "output_type": "stream",
          "name": "stdout",
          "text": [
            "Collecting pytorch-ignite\n",
            "  Downloading pytorch_ignite-0.4.7-py3-none-any.whl (240 kB)\n",
            "\u001b[?25l\r\u001b[K     |█▍                              | 10 kB 30.7 MB/s eta 0:00:01\r\u001b[K     |██▊                             | 20 kB 9.4 MB/s eta 0:00:01\r\u001b[K     |████                            | 30 kB 8.1 MB/s eta 0:00:01\r\u001b[K     |█████▌                          | 40 kB 7.8 MB/s eta 0:00:01\r\u001b[K     |██████▉                         | 51 kB 4.2 MB/s eta 0:00:01\r\u001b[K     |████████▏                       | 61 kB 4.4 MB/s eta 0:00:01\r\u001b[K     |█████████▌                      | 71 kB 4.5 MB/s eta 0:00:01\r\u001b[K     |███████████                     | 81 kB 5.1 MB/s eta 0:00:01\r\u001b[K     |████████████▎                   | 92 kB 5.3 MB/s eta 0:00:01\r\u001b[K     |█████████████▋                  | 102 kB 4.2 MB/s eta 0:00:01\r\u001b[K     |███████████████                 | 112 kB 4.2 MB/s eta 0:00:01\r\u001b[K     |████████████████▍               | 122 kB 4.2 MB/s eta 0:00:01\r\u001b[K     |█████████████████▊              | 133 kB 4.2 MB/s eta 0:00:01\r\u001b[K     |███████████████████             | 143 kB 4.2 MB/s eta 0:00:01\r\u001b[K     |████████████████████▌           | 153 kB 4.2 MB/s eta 0:00:01\r\u001b[K     |█████████████████████▉          | 163 kB 4.2 MB/s eta 0:00:01\r\u001b[K     |███████████████████████▏        | 174 kB 4.2 MB/s eta 0:00:01\r\u001b[K     |████████████████████████▌       | 184 kB 4.2 MB/s eta 0:00:01\r\u001b[K     |██████████████████████████      | 194 kB 4.2 MB/s eta 0:00:01\r\u001b[K     |███████████████████████████▎    | 204 kB 4.2 MB/s eta 0:00:01\r\u001b[K     |████████████████████████████▋   | 215 kB 4.2 MB/s eta 0:00:01\r\u001b[K     |██████████████████████████████  | 225 kB 4.2 MB/s eta 0:00:01\r\u001b[K     |███████████████████████████████▍| 235 kB 4.2 MB/s eta 0:00:01\r\u001b[K     |████████████████████████████████| 240 kB 4.2 MB/s \n",
            "\u001b[?25hRequirement already satisfied: torch<2,>=1.3 in /usr/local/lib/python3.7/dist-packages (from pytorch-ignite) (1.10.0+cu111)\n",
            "Requirement already satisfied: typing-extensions in /usr/local/lib/python3.7/dist-packages (from torch<2,>=1.3->pytorch-ignite) (3.10.0.2)\n",
            "Installing collected packages: pytorch-ignite\n",
            "Successfully installed pytorch-ignite-0.4.7\n"
          ]
        }
      ]
    },
    {
      "cell_type": "code",
      "metadata": {
        "colab": {
          "base_uri": "https://localhost:8080/"
        },
        "id": "yLKqxzz7rBpJ",
        "outputId": "6c621c44-2ceb-40e9-e08e-169984a57443"
      },
      "source": [
        "!python ./simple-ntc/train.py --model_fn ./simple-ntc/models/review.pth --train_fn ./review.sorted.uniq.refined.tok.shuf.train.tsv --gpu_id 0 --batch_size 128 --n_epochs 10 --word_vec_size 256 --dropout .3 --rnn --hidden_size 512 --n_layers 4 --cnn --window_sizes 3 4 5 6 7 8 --n_filters 128 128 128 128 128 128"
      ],
      "execution_count": 17,
      "outputs": [
        {
          "output_type": "stream",
          "name": "stdout",
          "text": [
            "|train| = 118314 |valid| = 29579\n",
            "|vocab| = 13014 |classes| = 2\n",
            "RNNClassifier(\n",
            "  (emb): Embedding(13014, 256)\n",
            "  (rnn): LSTM(256, 512, num_layers=4, batch_first=True, dropout=0.3, bidirectional=True)\n",
            "  (generator): Linear(in_features=1024, out_features=2, bias=True)\n",
            "  (activation): LogSoftmax(dim=-1)\n",
            ")\n",
            "Epoch 1 - |param|=1.83e+03 |g_param|=3.06e-01 loss=2.1563e-01 accuracy=0.9245\n",
            "Validation - loss=2.3354e-01 accuracy=0.9090 best_loss=inf\n",
            "Epoch 2 - |param|=1.83e+03 |g_param|=2.40e-01 loss=1.8275e-01 accuracy=0.9359\n",
            "Validation - loss=1.7346e-01 accuracy=0.9399 best_loss=2.3354e-01\n",
            "Epoch 3 - |param|=1.84e+03 |g_param|=2.09e-01 loss=1.5372e-01 accuracy=0.9487\n",
            "Validation - loss=1.6264e-01 accuracy=0.9443 best_loss=1.7346e-01\n",
            "Epoch 4 - |param|=1.84e+03 |g_param|=2.05e-01 loss=1.3648e-01 accuracy=0.9533\n",
            "Validation - loss=1.5864e-01 accuracy=0.9459 best_loss=1.6264e-01\n",
            "Epoch 5 - |param|=1.85e+03 |g_param|=1.94e-01 loss=1.1520e-01 accuracy=0.9619\n",
            "Validation - loss=1.8894e-01 accuracy=0.9423 best_loss=1.5864e-01\n",
            "Epoch 6 - |param|=1.85e+03 |g_param|=2.12e-01 loss=9.3937e-02 accuracy=0.9694\n",
            "Validation - loss=2.0344e-01 accuracy=0.9406 best_loss=1.5864e-01\n",
            "Epoch 7 - |param|=1.86e+03 |g_param|=2.19e-01 loss=8.5451e-02 accuracy=0.9697\n",
            "Validation - loss=2.1414e-01 accuracy=0.9418 best_loss=1.5864e-01\n",
            "Epoch 8 - |param|=1.86e+03 |g_param|=2.11e-01 loss=6.8721e-02 accuracy=0.9766\n",
            "Validation - loss=2.3587e-01 accuracy=0.9423 best_loss=1.5864e-01\n",
            "Epoch 9 - |param|=1.87e+03 |g_param|=2.04e-01 loss=6.0453e-02 accuracy=0.9796\n",
            "Validation - loss=2.5759e-01 accuracy=0.9406 best_loss=1.5864e-01\n",
            "Epoch 10 - |param|=1.87e+03 |g_param|=2.25e-01 loss=4.8105e-02 accuracy=0.9832\n",
            "Validation - loss=2.6075e-01 accuracy=0.9408 best_loss=1.5864e-01\n",
            "CNNClassifier(\n",
            "  (emb): Embedding(13014, 256)\n",
            "  (feature_extractors): ModuleList(\n",
            "    (0): Sequential(\n",
            "      (0): Conv2d(1, 128, kernel_size=(3, 256), stride=(1, 1))\n",
            "      (1): ReLU()\n",
            "      (2): Dropout(p=0.3, inplace=False)\n",
            "    )\n",
            "    (1): Sequential(\n",
            "      (0): Conv2d(1, 128, kernel_size=(4, 256), stride=(1, 1))\n",
            "      (1): ReLU()\n",
            "      (2): Dropout(p=0.3, inplace=False)\n",
            "    )\n",
            "    (2): Sequential(\n",
            "      (0): Conv2d(1, 128, kernel_size=(5, 256), stride=(1, 1))\n",
            "      (1): ReLU()\n",
            "      (2): Dropout(p=0.3, inplace=False)\n",
            "    )\n",
            "    (3): Sequential(\n",
            "      (0): Conv2d(1, 128, kernel_size=(6, 256), stride=(1, 1))\n",
            "      (1): ReLU()\n",
            "      (2): Dropout(p=0.3, inplace=False)\n",
            "    )\n",
            "    (4): Sequential(\n",
            "      (0): Conv2d(1, 128, kernel_size=(7, 256), stride=(1, 1))\n",
            "      (1): ReLU()\n",
            "      (2): Dropout(p=0.3, inplace=False)\n",
            "    )\n",
            "    (5): Sequential(\n",
            "      (0): Conv2d(1, 128, kernel_size=(8, 256), stride=(1, 1))\n",
            "      (1): ReLU()\n",
            "      (2): Dropout(p=0.3, inplace=False)\n",
            "    )\n",
            "  )\n",
            "  (generator): Linear(in_features=768, out_features=2, bias=True)\n",
            "  (activation): LogSoftmax(dim=-1)\n",
            ")\n",
            "Epoch 1 - |param|=1.83e+03 |g_param|=2.54e+00 loss=2.2594e-01 accuracy=0.9174\n",
            "Validation - loss=2.0228e-01 accuracy=0.9291 best_loss=inf\n",
            "Epoch 2 - |param|=1.83e+03 |g_param|=4.99e+00 loss=2.5205e-01 accuracy=0.9134\n",
            "Validation - loss=2.3655e-01 accuracy=0.9166 best_loss=2.0228e-01\n",
            "Epoch 3 - |param|=1.83e+03 |g_param|=2.05e+00 loss=1.5600e-01 accuracy=0.9439\n",
            "Validation - loss=1.7549e-01 accuracy=0.9341 best_loss=2.0228e-01\n",
            "Epoch 4 - |param|=1.83e+03 |g_param|=1.91e+00 loss=1.2417e-01 accuracy=0.9584\n",
            "Validation - loss=1.9217e-01 accuracy=0.9360 best_loss=1.7549e-01\n",
            "Epoch 5 - |param|=1.83e+03 |g_param|=1.57e+00 loss=9.4878e-02 accuracy=0.9669\n",
            "Validation - loss=2.2824e-01 accuracy=0.9333 best_loss=1.7549e-01\n",
            "Epoch 6 - |param|=1.83e+03 |g_param|=1.49e+00 loss=8.7405e-02 accuracy=0.9709\n",
            "Validation - loss=3.1053e-01 accuracy=0.9224 best_loss=1.7549e-01\n",
            "Epoch 7 - |param|=1.83e+03 |g_param|=1.31e+00 loss=7.5642e-02 accuracy=0.9730\n",
            "Validation - loss=2.7509e-01 accuracy=0.9300 best_loss=1.7549e-01\n",
            "Epoch 8 - |param|=1.84e+03 |g_param|=1.01e+00 loss=5.9137e-02 accuracy=0.9802\n",
            "Validation - loss=3.1388e-01 accuracy=0.9326 best_loss=1.7549e-01\n",
            "Epoch 9 - |param|=1.84e+03 |g_param|=9.26e-01 loss=5.7090e-02 accuracy=0.9830\n",
            "Validation - loss=3.4377e-01 accuracy=0.9324 best_loss=1.7549e-01\n",
            "Epoch 10 - |param|=1.84e+03 |g_param|=9.77e-01 loss=6.1201e-02 accuracy=0.9797\n",
            "Validation - loss=3.5568e-01 accuracy=0.9297 best_loss=1.7549e-01\n"
          ]
        }
      ]
    },
    {
      "cell_type": "code",
      "metadata": {
        "colab": {
          "base_uri": "https://localhost:8080/",
          "height": 35
        },
        "id": "qlS_I2dJfW9A",
        "outputId": "7ee9422c-bf44-4aad-9ae0-c19372db16cc"
      },
      "source": [
        "pwd"
      ],
      "execution_count": 16,
      "outputs": [
        {
          "output_type": "execute_result",
          "data": {
            "application/vnd.google.colaboratory.intrinsic+json": {
              "type": "string"
            },
            "text/plain": [
              "'/content/drive/My Drive/study_datascienceandpython/NLP/text classification/05-text_classification/simple-ntc'"
            ]
          },
          "metadata": {},
          "execution_count": 16
        }
      ]
    },
    {
      "cell_type": "code",
      "metadata": {
        "colab": {
          "base_uri": "https://localhost:8080/"
        },
        "id": "vuy3t0I6pEzS",
        "outputId": "627bbc1f-b8ee-4605-f1e4-2c0ab52207e4"
      },
      "source": [
        "!cut -f2 ../review.sorted.uniq.refined.tok.shuf.test.tsv | shuf | head -n 10 | python ./classify.py --model_fn ./models/review.pth --gpu_id 0"
      ],
      "execution_count": 18,
      "outputs": [
        {
          "output_type": "stream",
          "name": "stdout",
          "text": [
            "positive\t겨울 에 꼭 필요 해요\n",
            "positive\t유명 한 고데 기 연습 이 필요 할 듯 ㅎ\n",
            "positive\t고급 스럽 고 깔끔 해서 좋 아요\n",
            "negative\t좀 그러 네요\n",
            "positive\t가격 대비 괜찮 네요 추천 합니다 ^^\n",
            "positive\t사이트 를 몇 년 째 쓰 고 있 지만 , 이런 건 참 불편 하 다 , , 고작 마일리지 백 원 때문 에 나 는 오늘 도 이 짓 을 하 고 있 다 , , ㅠㅠㅠ 하하하하하하 하하하하 다 들 쿠폰 신공 으로 즐거운 쇼핑 합시다 ㅋㅋ\n",
            "negative\t애 가 안 먹 어요 . 엄청 큰 것 샀 는데 ㅠ\n",
            "negative\t물건 은 둘째치 고 배송 이 정말 마음 에 안 드 네요 . 너무 느리 고 문 의 차 전화 를 드려도 받 지 도 않 으시 고 .\n",
            "positive\t가격 이 저렴 해 음질 이 안 좋 을까 봐 걱정 했 는데 걱정 할 필요 가 없 어요 . . 정말 만족 이 에요 . . 배송 도 빠르 고 충전 표시 도 확인 할 수 있 어 만족 합니다 . 오랫동안 고장 없이 사용 하 고 싶 어요 ~~\n",
            "positive\t맛있 어요 아이 들 이 너무 잘 먹 어요 굿 굿 입니다요\n"
          ]
        }
      ]
    },
    {
      "cell_type": "code",
      "metadata": {
        "colab": {
          "base_uri": "https://localhost:8080/"
        },
        "id": "NHzA4Vxthtx1",
        "outputId": "c91381a3-6a25-4828-cb0c-510e6f439bbe"
      },
      "source": [
        "!pip install pybind11"
      ],
      "execution_count": 21,
      "outputs": [
        {
          "output_type": "stream",
          "name": "stdout",
          "text": [
            "Requirement already satisfied: pybind11 in /usr/local/lib/python3.7/dist-packages (2.8.1)\n"
          ]
        }
      ]
    },
    {
      "cell_type": "code",
      "metadata": {
        "colab": {
          "base_uri": "https://localhost:8080/"
        },
        "id": "T2GWyBEQhKh3",
        "outputId": "88a9e711-405d-40a6-ec95-8ac422c0c1ce"
      },
      "source": [
        "!pip install python-mecab-ko"
      ],
      "execution_count": 22,
      "outputs": [
        {
          "output_type": "stream",
          "name": "stdout",
          "text": [
            "Collecting python-mecab-ko\n",
            "  Using cached python-mecab-ko-1.0.12.tar.gz (9.7 kB)\n",
            "Requirement already satisfied: pybind11~=2.0 in /usr/local/lib/python3.7/dist-packages (from python-mecab-ko) (2.8.1)\n",
            "Building wheels for collected packages: python-mecab-ko\n",
            "  Building wheel for python-mecab-ko (setup.py) ... \u001b[?25l\u001b[?25hdone\n",
            "  Created wheel for python-mecab-ko: filename=python_mecab_ko-1.0.12-cp37-cp37m-linux_x86_64.whl size=2845716 sha256=aa91501d787aec3524f1d298a994c1ca9521b7e2bf37c7004f18bf588a5aa63d\n",
            "  Stored in directory: /root/.cache/pip/wheels/cd/7c/d5/aec6f2cb9b798f588273304126c4604a2ca3a78958d0e734e8\n",
            "Successfully built python-mecab-ko\n",
            "Installing collected packages: python-mecab-ko\n",
            "Successfully installed python-mecab-ko-1.0.12\n"
          ]
        }
      ]
    },
    {
      "cell_type": "code",
      "metadata": {
        "colab": {
          "base_uri": "https://localhost:8080/"
        },
        "id": "qkZGYzkMfKsq",
        "outputId": "7c89c272-497d-48b1-ac30-667b5bd7d2e3"
      },
      "source": [
        "!echo \"에코는 좋긴 한데 불량인지 아닌지 좀 많이 끊겨요.. 그래도 코로나 때문에 노래방 잘 못 가는 저로서는 나름 만족하고 있어요ㅎㅎ̊̈ 이거 쓰니까 마이크 두개 있는 거 살걸 후회도 좀 되네요...ㅎ̊̈ 가족들 단위로 쓰실 거면 돈 조금 더 보태서 마이크 두개 짜리 추천드려요~\" | mecab -O wakati | python ./classify.py --model_fn ./models/review.pth --gpu_id 0"
      ],
      "execution_count": 25,
      "outputs": [
        {
          "output_type": "stream",
          "name": "stdout",
          "text": [
            "positive\t에코 는 좋 긴 한데 불량 인지 아닌지 좀 많이 끊겨 요 . . 그래도 코로나 때문 에 노래방 잘 못 가 는 저 로서 는 나름 만족 하 고 있 어요 ㅎㅎ ̊̈ 이거 쓰 니까 마이크 두 개 있 는 거 살걸 후회 도 좀 되 네요 . .. ㅎ ̊̈ 가족 들 단위 로 쓰 실 거 면 돈 조금 더 보태 서 마이크 두 개 짜리 추천 드려요 ~\n"
          ]
        }
      ]
    },
    {
      "cell_type": "code",
      "metadata": {
        "id": "BGlHDBaYhJ3V"
      },
      "source": [
        ""
      ],
      "execution_count": null,
      "outputs": []
    }
  ]
}