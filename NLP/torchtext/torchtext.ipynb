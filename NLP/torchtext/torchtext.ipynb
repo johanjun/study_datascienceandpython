{
 "cells": [
  {
   "cell_type": "code",
   "execution_count": 1,
   "metadata": {
    "ExecuteTime": {
     "end_time": "2021-11-24T06:04:27.421628Z",
     "start_time": "2021-11-24T06:04:23.114345Z"
    }
   },
   "outputs": [],
   "source": [
    "from data_loader import DataLoader"
   ]
  },
  {
   "cell_type": "code",
   "execution_count": 2,
   "metadata": {
    "ExecuteTime": {
     "end_time": "2021-11-24T06:04:35.881318Z",
     "start_time": "2021-11-24T06:04:28.955053Z"
    }
   },
   "outputs": [],
   "source": [
    "loaders = DataLoader(\n",
    "    train_fn='./review.sorted.uniq.refined.tok.shuf.train.tsv',\n",
    "    batch_size=256,\n",
    "    valid_ratio=.2,\n",
    "    device=-1,\n",
    "    max_vocab=999999,\n",
    "    min_freq=5,\n",
    ")"
   ]
  },
  {
   "cell_type": "code",
   "execution_count": 5,
   "metadata": {
    "ExecuteTime": {
     "end_time": "2021-11-24T06:12:19.335160Z",
     "start_time": "2021-11-24T06:12:19.319903Z"
    }
   },
   "outputs": [
    {
     "name": "stdout",
     "output_type": "stream",
     "text": [
      "|train|=217998\n",
      "|valid|=54500\n",
      "|vocab|=17788\n",
      "|label|=2\n"
     ]
    }
   ],
   "source": [
    "print(\"|train|=%d\" % len(loaders.train_loader.dataset))\n",
    "print(\"|valid|=%d\" % len(loaders.valid_loader.dataset))\n",
    "print(\"|vocab|=%d\" % len(loaders.text.vocab))\n",
    "print(\"|label|=%d\" % len(loaders.label.vocab))"
   ]
  },
  {
   "cell_type": "code",
   "execution_count": 6,
   "metadata": {
    "ExecuteTime": {
     "end_time": "2021-11-24T06:14:27.987543Z",
     "start_time": "2021-11-24T06:14:27.548020Z"
    }
   },
   "outputs": [
    {
     "name": "stdout",
     "output_type": "stream",
     "text": [
      "torch.Size([256, 30])\n",
      "torch.Size([256])\n"
     ]
    }
   ],
   "source": [
    "data = next(iter(loaders.train_loader))\n",
    "\n",
    "print(data.text.shape)\n",
    "print(data.label.shape)"
   ]
  },
  {
   "cell_type": "code",
   "execution_count": 15,
   "metadata": {
    "ExecuteTime": {
     "end_time": "2021-11-24T06:17:48.527046Z",
     "start_time": "2021-11-24T06:17:48.523016Z"
    }
   },
   "outputs": [
    {
     "name": "stdout",
     "output_type": "stream",
     "text": [
      "세라믹\n",
      "7777\n"
     ]
    }
   ],
   "source": [
    "print(loaders.text.vocab.itos[7777])\n",
    "print(loaders.text.vocab.stoi['세라믹'])"
   ]
  },
  {
   "cell_type": "code",
   "execution_count": 18,
   "metadata": {
    "ExecuteTime": {
     "end_time": "2021-11-24T06:19:18.918287Z",
     "start_time": "2021-11-24T06:19:18.913185Z"
    }
   },
   "outputs": [
    {
     "name": "stdout",
     "output_type": "stream",
     "text": [
      "    0: <unk>\t0\n",
      "    1: <pad>\t0\n",
      "    2: .\t261513\n",
      "    3: 고\t149958\n",
      "    4: 이\t143263\n",
      "    5: 하\t123330\n",
      "    6: 도\t101991\n",
      "    7: 네요\t99382\n",
      "    8: 좋\t96413\n",
      "    9: 에\t92638\n",
      "   10: 는\t86014\n",
      "   11: 가\t70096\n",
      "   12: 은\t65965\n",
      "   13: 는데\t56838\n",
      "   14: 아요\t54207\n",
      "   15: 게\t54111\n",
      "   16: 잘\t52760\n",
      "   17: 어요\t50107\n",
      "   18: 배송\t47572\n",
      "   19: 있\t45092\n",
      "   20: 했\t42339\n",
      "   21: 습니다\t42169\n",
      "   22: 안\t38552\n",
      "   23: 을\t37697\n",
      "   24: 한\t35808\n",
      "   25: ~\t34010\n",
      "   26: 구매\t31619\n",
      "   27: 같\t30130\n",
      "   28: 너무\t29579\n",
      "   29: 거\t29319\n"
     ]
    }
   ],
   "source": [
    "for i in range(30):\n",
    "    word = loaders.text.vocab.itos[i]\n",
    "    print('%5d: %s\\t%d' % (i, word, loaders.text.vocab.freqs[word]))"
   ]
  },
  {
   "cell_type": "code",
   "execution_count": 19,
   "metadata": {
    "ExecuteTime": {
     "end_time": "2021-11-24T06:21:47.877848Z",
     "start_time": "2021-11-24T06:21:47.868362Z"
    }
   },
   "outputs": [
    {
     "name": "stdout",
     "output_type": "stream",
     "text": [
      "tensor([2514,  524, 6574,   11,  549,    8,   46,   94,   25,  900,   82,   74,\n",
      "           5,   60, 4085, 1205,  239,    3,  156,   17,  129,  594,  900,   23,\n",
      "          22,    5,  182,  153,  152,    1])\n"
     ]
    }
   ],
   "source": [
    "print(data.text[-1])"
   ]
  },
  {
   "cell_type": "code",
   "execution_count": 20,
   "metadata": {
    "ExecuteTime": {
     "end_time": "2021-11-24T06:21:52.467026Z",
     "start_time": "2021-11-24T06:21:52.457297Z"
    }
   },
   "outputs": [
    {
     "name": "stdout",
     "output_type": "stream",
     "text": [
      "27 개월 딸내미 가 너무너무 좋 아 해요 ~ 딜 좀 많이 하 면 왕창 쟁여 놓 고 싶 어요 ㅋㅋ 그런데 딜 을 안 하 네 용 ㅠㅠ <pad>\n"
     ]
    }
   ],
   "source": [
    "x = data.text[-1]\n",
    "line = []\n",
    "for x_i in x:\n",
    "    line += [loaders.text.vocab.itos[x_i]]\n",
    "    \n",
    "print(' '.join(line))"
   ]
  },
  {
   "cell_type": "code",
   "execution_count": 22,
   "metadata": {
    "ExecuteTime": {
     "end_time": "2021-11-24T06:24:18.298023Z",
     "start_time": "2021-11-24T06:24:18.288934Z"
    }
   },
   "outputs": [
    {
     "data": {
      "text/plain": [
       "tensor(0)"
      ]
     },
     "execution_count": 22,
     "metadata": {},
     "output_type": "execute_result"
    }
   ],
   "source": [
    "data.label[-1]"
   ]
  },
  {
   "cell_type": "code",
   "execution_count": null,
   "metadata": {},
   "outputs": [],
   "source": []
  }
 ],
 "metadata": {
  "kernelspec": {
   "display_name": "Python 3",
   "language": "python",
   "name": "python3"
  },
  "language_info": {
   "codemirror_mode": {
    "name": "ipython",
    "version": 3
   },
   "file_extension": ".py",
   "mimetype": "text/x-python",
   "name": "python",
   "nbconvert_exporter": "python",
   "pygments_lexer": "ipython3",
   "version": "3.8.5"
  },
  "toc": {
   "base_numbering": 1,
   "nav_menu": {},
   "number_sections": true,
   "sideBar": true,
   "skip_h1_title": false,
   "title_cell": "Table of Contents",
   "title_sidebar": "Contents",
   "toc_cell": false,
   "toc_position": {},
   "toc_section_display": true,
   "toc_window_display": false
  },
  "varInspector": {
   "cols": {
    "lenName": 16,
    "lenType": 16,
    "lenVar": 40
   },
   "kernels_config": {
    "python": {
     "delete_cmd_postfix": "",
     "delete_cmd_prefix": "del ",
     "library": "var_list.py",
     "varRefreshCmd": "print(var_dic_list())"
    },
    "r": {
     "delete_cmd_postfix": ") ",
     "delete_cmd_prefix": "rm(",
     "library": "var_list.r",
     "varRefreshCmd": "cat(var_dic_list()) "
    }
   },
   "types_to_exclude": [
    "module",
    "function",
    "builtin_function_or_method",
    "instance",
    "_Feature"
   ],
   "window_display": false
  }
 },
 "nbformat": 4,
 "nbformat_minor": 4
}
