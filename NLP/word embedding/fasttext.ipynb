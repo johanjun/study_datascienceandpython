{
 "cells": [
  {
   "cell_type": "code",
   "execution_count": 2,
   "metadata": {
    "ExecuteTime": {
     "end_time": "2021-11-30T08:43:24.985856Z",
     "start_time": "2021-11-30T08:43:24.818864Z"
    }
   },
   "outputs": [
    {
     "name": "stdout",
     "output_type": "stream",
     "text": [
      "usage: fasttext <command> <args>\r\n",
      "\r\n",
      "The commands supported by fasttext are:\r\n",
      "\r\n",
      "  supervised              train a supervised classifier\r\n",
      "  quantize                quantize a model to reduce the memory usage\r\n",
      "  test                    evaluate a supervised classifier\r\n",
      "  test-label              print labels with precision and recall scores\r\n",
      "  predict                 predict most likely labels\r\n",
      "  predict-prob            predict most likely labels with probabilities\r\n",
      "  skipgram                train a skipgram model\r\n",
      "  cbow                    train a cbow model\r\n",
      "  print-word-vectors      print word vectors given a trained model\r\n",
      "  print-sentence-vectors  print sentence vectors given a trained model\r\n",
      "  print-ngrams            print ngrams given a trained model and word\r\n",
      "  nn                      query for nearest neighbors\r\n",
      "  analogies               query for analogies\r\n",
      "  dump                    dump arguments,dictionary,input/output vectors\r\n",
      "\r\n"
     ]
    }
   ],
   "source": [
    "!fasttext"
   ]
  },
  {
   "cell_type": "code",
   "execution_count": 4,
   "metadata": {
    "ExecuteTime": {
     "end_time": "2021-11-30T08:49:04.443209Z",
     "start_time": "2021-11-30T08:49:04.305150Z"
    }
   },
   "outputs": [
    {
     "name": "stdout",
     "output_type": "stream",
     "text": [
      "/Users/johanjun/Desktop/study_datascienceandpython/NLP/word embedding\r\n"
     ]
    }
   ],
   "source": [
    "!pwd"
   ]
  },
  {
   "cell_type": "code",
   "execution_count": 1,
   "metadata": {
    "ExecuteTime": {
     "end_time": "2021-11-30T08:43:01.483644Z",
     "start_time": "2021-11-30T08:43:01.308732Z"
    }
   },
   "outputs": [
    {
     "name": "stdout",
     "output_type": "stream",
     "text": [
      "▁!\r\n",
      "▁! ▁다 녹 아서 ▁왓 어요 ▁. . ▁짜증\r\n",
      "▁!!!!!!!!!!!!!\r\n",
      "▁!!!! 이게 뭐 야 ? 진짜 이게 뭐 야 ? 리뷰 보고 구매 했 는데 ! 나원참 !\r\n",
      "▁\" 싼 ▁게 ▁비지떡 \". 200 ml 라고 ▁판매 하 는데 ▁내 가 ▁보 기 엔 ▁절대 ▁이거 ▁100 ml 도 ▁안 된다 . 뚜껑 ▁열 다가 ▁손톱 ▁부러지 고 , 향기 는 ▁에프 킬 라 . . 구매 후기 ▁잘 ▁안 쓰 는데 ▁이건 ▁진짜 ▁최악 이 다 .\r\n",
      "▁\" 축 ▁결혼 \" 이 라는 ▁리본 도 ▁없 고 ▁화환 ▁하나 에 ▁두 사람 ▁이름 만 ▁있 는 ▁걸 ▁보 니까 ▁화 가 ▁났 습니다 . ▁근처 에 ▁화환 ▁몇 개 ▁놓 을 ▁자리 도 ▁있 었 는데 ?\r\n",
      "▁\" 가죽 ▁검정 \" 이 라는 ▁상품명 에서 ▁누구 나 ▁알 ▁수 ▁있 ▁듯 ▁인조 가죽 ▁느낌 의 ▁재질 입니다 . ▁비닐 에 ▁가까운 ▁재질 이 라 ▁진짜 ▁인조 가 죽이 라도 ▁저렴 한 ▁소재 일 ▁것 ▁같 습니다 . ▁이 ▁가격 에 ▁사 는 ▁사람 은 ▁소재 에 ▁대한 ▁기대 는 ▁없 을 ▁테 지만 ▁참고 하 시 기 ▁바랍니다 . 패드 ▁뒷 ▁면 은 ▁전면 이 ▁양면 ▁테이프 로 ▁부착 되 어 ▁있 으며 ▁그대로 ▁신발 에 ▁접착 시키 는 ▁방식 입니다 . ▁하지만 ▁양면 ▁테이프 가 ▁강해 보이 지 ▁않 습니다 . ▁신발 이 ▁조금 만 ▁고급 이 라도 ▁주문 하 지 ▁마세요 . ▁패드 야 ▁며칠 ▁못 쓰 고 ▁떨어지 는 ▁건 ▁참 을 ▁수 ▁있 지만 ▁신발 ▁안감 이 ▁상할 ▁것 ▁같 은 ▁느낌 의 ▁양면 ▁테이프 입니다 . ▁일단 ▁부착 ▁후 ▁3 일 간 은 ▁신지 ▁않 을 ▁예정 이 며 ▁매일 ▁신 는 ▁신발 도 ▁아니 기에 ▁생각 보다 ▁오래 ▁쓸 ▁수 도 ▁있 겠 지만 ▁다시 ▁구매 할 ▁생각 은 ▁없 습니다 .\r\n",
      "▁\" 루피 ▁아니 야 \" ▁우리 ▁아이 ▁말 이 에요 ▁ㅠㅠ ▁루피 ▁좋 아 하 는 ▁우리 ▁아이 , ▁항상 ▁껴안 고 ▁다녀 ▁많이 ▁헤졌 어요 . ▁그래서 ▁최저 가 ▁판매처 에서 ▁두 ▁개 ▁더 ▁구매 했 는데 ▁기존 에 ▁샀 던 ▁두 ▁개 랑 은 ▁다른 ▁디자인 이 네요 . ▁얼굴 은 ▁이쁘 지만 , ▁전체 적 으로 ▁별로 인걸요 ? ▁왜 ▁이리 ▁뚱뚱 하 고 ▁앉 아 ▁있 는지 . .. ▁몸 을 ▁안 아야 ▁하 는 데 ▁앉 아 ▁있 으니 ▁안 고 ▁다니 기 ▁불편 해요 . ▁그냥 ▁전 시용 인가 봐요 . ▁우리 ▁애 는 ▁새로 ▁산 ▁루피 는 ▁그냥 ▁던져 버리 고 , ▁때 ▁타 고 ▁찢어지 고 ▁다 ▁헤진 ▁예전 ▁루피 만 ▁갖 고 ▁노 네요 . ▁미미 월드 라고 ▁적혀 는 ▁있 어요 . ▁판매처 엔 ▁3 기 라고 ▁적혀 ▁있 긴 한데 , ▁다른 ▁판매자 들 ▁3 기 ▁상품 이랑 도 ▁다른 ▁모양 이 라 ▁다 들 ▁정품 인지 도 ▁의심 스럽 네요 .\r\n",
      "▁\" 비싸 ~~~~ 요 \" ▁라고 ▁후기 를 ▁남기 네요\r\n",
      "▁\" 화이트 \" 로 ▁구매 했 는데 . .. 왜 ▁다른 제품 으로 ▁오 죠 ? ▁외국 에서 ▁배송 받 지 않 았 다면 . .. 당장 ▁반품 인데 ~~~\r\n"
     ]
    }
   ],
   "source": [
    "!head ./review.sorted.uniq.refined.tsv.text.tok"
   ]
  },
  {
   "cell_type": "code",
   "execution_count": 5,
   "metadata": {
    "ExecuteTime": {
     "end_time": "2021-11-30T09:45:04.447722Z",
     "start_time": "2021-11-30T08:49:51.688463Z"
    }
   },
   "outputs": [
    {
     "name": "stdout",
     "output_type": "stream",
     "text": [
      "Read 3M words\n",
      "Number of words:  17344\n",
      "Number of labels: 0\n",
      "Progress: 100.0% words/sec/thread:    9010 lr:  0.000000 avg.loss:  1.086303 ETA:   0h 0m 0s16s avg.loss:  2.372911 ETA:   1h 1m44sm33sh 1m45s1h 1m41s1m41s1.4% words/sec/thread:    7649 lr:  0.049312 avg.loss:  2.275737 ETA:   1h 3m47s10s% words/sec/thread:    6953 lr:  0.049163 avg.loss:  2.276295 ETA:   1h 9m57s11m49sm33s32sm12sm35s26sh54m44s  0h53m 7ss ETA:   0h52m 1s50m54s49m 7s0h48m32s26s48m 2s0h48m 2s  0h47m53sh46m22s2.238036 ETA:   0h46m19s  0h46m19s46m 4s  0h45m56sh45m56s45m33sm12ss2.232842 ETA:   0h44m41sh44m36sm30sh44m26s0h44m 5s  0h43m29s 0.045646 avg.loss:  2.226718 ETA:   0h43m 5sm 9sm52sh41m43s  0h41m25s41m22sh41m16s  0h41m10s 5s50s40m50s0h40m48s 2.217373 ETA:   0h40m24s0h40m23s0.044469 avg.loss:  2.217320 ETA:   0h40m23s0h40m20s 1sh39m52s0h39m41s 2.214152 ETA:   0h39m38s39m23s 2.209198 ETA:   0h39m 6s39m 3sm26s37m44sh37m31s0h37m29s  0h37m20s 0s  11220 lr:  0.042262 avg.loss:  2.194464 ETA:   0h37m15sm42s  0h38m50sh38m52sm57s39m 7s0h39m22s lr:  0.041151 avg.loss:  2.187531 ETA:   0h39m39s10s words/sec/thread:   10072 lr:  0.040871 avg.loss:  2.185977 ETA:   0h40m 8sm13ssh40m11s8s   9963 lr:  0.040403 avg.loss:  2.183429 ETA:   0h40m 7s 6s40m 6sh40m 2s39m59s39m57s39m54sm52s avg.loss:  2.180338 ETA:   0h39m54s39m54s39m48s39m50sm49s0h39m40sssm37sm32s 2.168141 ETA:   0h39m29s39m16sm13sm14s 6s  0h38m56s0h38m56sm55sh38m56s  0h38m56sm56s lr:  0.037527 avg.loss:  2.144968 ETA:   0h38m58s0h38m54s  0h38m50s lr:  0.037373 avg.loss:  2.143319 ETA:   0h38m47s38m45s38m36s30sh38m30s27s0h38m11s 27.2% words/sec/thread:    9457 lr:  0.036377 avg.loss:  2.132309 ETA:   0h38m 3s 3s  0h37m46sm28s37m23s37m17s11s avg.loss:  2.121459 ETA:   0h37m11s0h37m10sh37m 7s7ss 1s37m 1s0h36m58s0h36m57s 2.113904 ETA:   0h36m44s0h36m32s  0h36m31s22sh36m12s11sh36m 9s  0h36m 3sh35m55s9219 lr:  0.033316 avg.loss:  2.103005 ETA:   0h35m45sh35m44s  0h35m44sh35m43sm40s 33.6% words/sec/thread:    9214 lr:  0.033193 avg.loss:  2.101813 ETA:   0h35m38sm34ss20s ETA:   0h35m17sh35m11sh35m 3sm 1s words/sec/thread:    9086 lr:  0.032067 avg.loss:  2.092359 ETA:   0h34m55s2.092269 ETA:   0h34m54sh34m51s34m50sm32s2.086852 ETA:   0h34m29s34m26s34m24s avg.loss:  2.083622 ETA:   0h34m 6s 1s8987 lr:  0.030708 avg.loss:  2.080661 ETA:   0h33m48ss33m35s33m26s33m19s 2.076726 ETA:   0h33m10sh33m 4s 0s33m 0s 40.4% words/sec/thread:    8982 lr:  0.029813 avg.loss:  2.075144 ETA:   0h32m50s32m45sh32m24s32m 8s32m 5sh32m 3sh32m 2s  0h32m 2s32m 0s31m57ss 0.028796 avg.loss:  2.068433 ETA:   0h31m41sm38sh31m32sm10s 7sm 2s1s30m56s0.028001 avg.loss:  2.063665 ETA:   0h30m51s0h30m47s30m45sh30m45s30m43s 2.044658 ETA:   0h30m39sh30m20s0h30m19sh30m16s45.5% words/sec/thread:    8952 lr:  0.027252 avg.loss:  2.010379 ETA:   0h30m 7s 1.999203 ETA:   0h29m53s words/sec/thread:    8968 lr:  0.027028 avg.loss:  1.994975 ETA:   0h29m49s29m46s0.026877 avg.loss:  1.984802 ETA:   0h29m38s29m37s0h29m35s20s29m 6s28m54s 1.930021 ETA:   0h28m35ss30ss  0h28m21sh28m13sh28m 1s0h27m57s40s 1.880690 ETA:   0h27m35sh27m26sm19s16s lr:  0.024888 avg.loss:  1.859105 ETA:   0h27m 8s   9074 lr:  0.024847 avg.loss:  1.856763 ETA:   0h27m 5s3s 1.844379 ETA:   0h26m49s  0h26m46s 50.9% words/sec/thread:    9077 lr:  0.024561 avg.loss:  1.840171 ETA:   0h26m46s 0.024549 avg.loss:  1.839423 ETA:   0h26m46sm34s26m34s26m29s1.812197 ETA:   0h26m27sm21s0h26m16sh26m15s26m15s  0h26m11s 9s26m 6sm 4sh26m 3s 53.4% words/sec/thread:    8894 lr:  0.023311 avg.loss:  1.772106 ETA:   0h25m55sh25m55s 54.1% words/sec/thread:    8849 lr:  0.022956 avg.loss:  1.753777 ETA:   0h25m39s25m39s0h25m38s0h25m33sm32s25m27s0.022506 avg.loss:  1.731245 ETA:   0h25m22sm 2s54s24m32s24m22sm16s0h24m12s23m55s23m40s ETA:   0h23m36s   8768 lr:  0.020869 avg.loss:  1.655324 ETA:   0h23m32sh23m27s23m20s  0h23m17sm 8s23m 3s 0.020289 avg.loss:  1.630018 ETA:   0h22m51s 59.5% words/sec/thread:    8784 lr:  0.020274 avg.loss:  1.629383 ETA:   0h22m50s22m44s26s22m16sm10sm 8sm 6s ETA:   0h21m58s avg.loss:  1.589639 ETA:   0h21m46s21m44s0h21m40sh21m34sm17s lr:  0.018758 avg.loss:  1.567560 ETA:   0h21m 6s  0h21m 1s  0h20m53s0h20m46s  0h20m41s20m34s  0h20m30s 63.7% words/sec/thread:    8816 lr:  0.018131 avg.loss:  1.543603 ETA:   0h20m20s  0h20m19s20m17s20m16sh20m13s lr:  0.017979 avg.loss:  1.537996 ETA:   0h20m 9s ETA:   0h20m 6sh19m59s 64.4% words/sec/thread:    8829 lr:  0.017811 avg.loss:  1.531769 ETA:   0h19m57sm48s19m47s19m34s avg.loss:  1.516400 ETA:   0h19m29s19m25s 1.510452 ETA:   0h19m18sh19m10sm 8s0h19m 2s 0.016746 avg.loss:  1.493518 ETA:   0h18m44ss ETA:   0h18m22ssm53sh17m51sm50s ETA:   0h17m48sm45s17m45s17m20s 1.451879 ETA:   0h17m16sm 2s1s16m52s% words/sec/thread:    8898 lr:  0.015156 avg.loss:  1.440291 ETA:   0h16m51s 0.015065 avg.loss:  1.437413 ETA:   0h16m44s16m31sm28s16m25s1.427226 ETA:   0h16m21sh16m20sh16m13s16m 9sm 4s  0h16m 0s15m40sm38s15m29s 0.013978 avg.loss:  1.403471 ETA:   0h15m28s15m22s 0.013755 avg.loss:  1.396719 ETA:   0h15m13sh15m 2s  0h15m 1sh14m59s  0h14m51sh14m49sh14m42sm41s34s ETA:   0h14m31s  0h14m30s  0h14m29ss14m28s14m26sm24sh14m12s 74.4% words/sec/thread:    8960 lr:  0.012815 avg.loss:  1.369357 ETA:   0h14m 8s  0h13m56s ETA:   0h13m55s 1.360521 ETA:   0h13m48sh13m43s avg.loss:  1.356792 ETA:   0h13m40s13m33sm49s8930 lr:  0.011559 avg.loss:  1.334376 ETA:   0h12m48s12m40s0.011345 avg.loss:  1.328725 ETA:   0h12m34s0.011332 avg.loss:  1.328351 ETA:   0h12m33s12m18s12m10s12m 9s0h11m59s11m59s   8895 lr:  0.010748 avg.loss:  1.313045 ETA:   0h11m57s 1.311068 ETA:   0h11m52s0.010588 avg.loss:  1.308867 ETA:   0h11m47ss  0h11m38s 1.303234 ETA:   0h11m33s11m28s 1.300921 ETA:   0h11m28sh11m20sh11m19s 0.010077 avg.loss:  1.295815 ETA:   0h11m16s11m16s11ss  0h11m 6sh11m 2s ETA:   0h10m52s 80.9% words/sec/thread:    8841 lr:  0.009570 avg.loss:  1.283080 ETA:   0h10m42s41s10m31sm29s10m24s10m23s10m19s14s ETA:   0h10m13s12s10m 3s9m53sh 9m53sh 9m51s47sh 9m40sh 9m18s 9m 7sh 9m 5s 8m50s 8m41s8m35s lr:  0.007628 avg.loss:  1.236891 ETA:   0h 8m31s1.236530 ETA:   0h 8m30s 8m24s3s 85.7% words/sec/thread:    8867 lr:  0.007129 avg.loss:  1.225692 ETA:   0h 7m57s avg.loss:  1.218620 ETA:   0h 7m35s 7m33s 86.5% words/sec/thread:    8876 lr:  0.006762 avg.loss:  1.217565 ETA:   0h 7m32s86.8% words/sec/thread:    8881 lr:  0.006614 avg.loss:  1.214376 ETA:   0h 7m22sh 7m12s  0h 7m10sh 7m 7sm 6sm56sh 6m56s6m55ss 6m52s50s45s 1.202387 ETA:   0h 6m44sm39s  0h 6m38s  0h 6m31sm27s0.005744 avg.loss:  1.195783 ETA:   0h 6m23ss 6m13s8909 lr:  0.005503 avg.loss:  1.190676 ETA:   0h 6m 6sm 6s   8915 lr:  0.005259 avg.loss:  1.185635 ETA:   0h 5m50s 5m45s5m28s  0h 5m28s 4m53sh 4m48s4m40s4m22s0h 4m14s 4m13s 1.153858 ETA:   0h 4m 4sh 4m 2sm57s 1.149441 ETA:   0h 3m49s 93.3% words/sec/thread:    8952 lr:  0.003370 avg.loss:  1.147723 ETA:   0h 3m43s 3m37s 0.003168 avg.loss:  1.143898 ETA:   0h 3m29s  0h 3m28sh 3m10s0h 2m58s1.134078 ETA:   0h 2m55s 2m54sm48ss 2m32s 2m28sm22sh 2m19s  0h 2m13s8979 lr:  0.001961 avg.loss:  1.121054 ETA:   0h 2m 9s 96.1% words/sec/thread:    8979 lr:  0.001945 avg.loss:  1.120759 ETA:   0h 2m 8s 1s8986 lr:  0.001626 avg.loss:  1.114908 ETA:   0h 1m47s 1m40s 1m 1s1m 0s50sh 0m49sm46s0m40sh 0m30s\n"
     ]
    }
   ],
   "source": [
    "!fasttext skipgram -input ./review.sorted.uniq.refined.tsv.text.tok -output ko.tok -dim 256 -epoch 100 -minCount 5"
   ]
  },
  {
   "cell_type": "code",
   "execution_count": 6,
   "metadata": {
    "ExecuteTime": {
     "end_time": "2021-11-30T09:47:23.564253Z",
     "start_time": "2021-11-30T09:47:10.422795Z"
    }
   },
   "outputs": [
    {
     "name": "stdout",
     "output_type": "stream",
     "text": [
      "Query word? ▁반품 0.626271\n",
      "▁교환 0.5255\n",
      "▁귀찮 0.517705\n",
      "▁그냥 0.494095\n",
      "교환 0.459626\n",
      "귀찮 0.446832\n",
      "... 0.378429\n",
      ".. 0.372487\n",
      "번거로워서 0.366971\n",
      "려다 0.36602\n",
      "Query word? "
     ]
    }
   ],
   "source": [
    "!echo '반품' | fasttext nn ./ko.tok.bin 10"
   ]
  },
  {
   "cell_type": "code",
   "execution_count": null,
   "metadata": {},
   "outputs": [],
   "source": []
  }
 ],
 "metadata": {
  "kernelspec": {
   "display_name": "Python 3",
   "language": "python",
   "name": "python3"
  },
  "language_info": {
   "codemirror_mode": {
    "name": "ipython",
    "version": 3
   },
   "file_extension": ".py",
   "mimetype": "text/x-python",
   "name": "python",
   "nbconvert_exporter": "python",
   "pygments_lexer": "ipython3",
   "version": "3.8.5"
  },
  "toc": {
   "base_numbering": 1,
   "nav_menu": {},
   "number_sections": true,
   "sideBar": true,
   "skip_h1_title": false,
   "title_cell": "Table of Contents",
   "title_sidebar": "Contents",
   "toc_cell": false,
   "toc_position": {},
   "toc_section_display": true,
   "toc_window_display": false
  },
  "varInspector": {
   "cols": {
    "lenName": 16,
    "lenType": 16,
    "lenVar": 40
   },
   "kernels_config": {
    "python": {
     "delete_cmd_postfix": "",
     "delete_cmd_prefix": "del ",
     "library": "var_list.py",
     "varRefreshCmd": "print(var_dic_list())"
    },
    "r": {
     "delete_cmd_postfix": ") ",
     "delete_cmd_prefix": "rm(",
     "library": "var_list.r",
     "varRefreshCmd": "cat(var_dic_list()) "
    }
   },
   "types_to_exclude": [
    "module",
    "function",
    "builtin_function_or_method",
    "instance",
    "_Feature"
   ],
   "window_display": false
  }
 },
 "nbformat": 4,
 "nbformat_minor": 4
}
