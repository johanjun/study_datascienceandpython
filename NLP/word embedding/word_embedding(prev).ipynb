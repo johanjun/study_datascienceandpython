{
 "cells": [
  {
   "cell_type": "code",
   "execution_count": 1,
   "metadata": {
    "ExecuteTime": {
     "end_time": "2021-11-25T08:55:30.988712Z",
     "start_time": "2021-11-25T08:55:30.334666Z"
    }
   },
   "outputs": [],
   "source": [
    "import pandas as pd\n",
    "from collections import defaultdict"
   ]
  },
  {
   "cell_type": "code",
   "execution_count": 15,
   "metadata": {
    "ExecuteTime": {
     "end_time": "2021-11-25T09:00:55.707013Z",
     "start_time": "2021-11-25T09:00:55.462804Z"
    }
   },
   "outputs": [],
   "source": [
    "with open('review.sorted.uniq.refined.tsv.text.tok') as f:\n",
    "    lines = [l.strip() for l in f.read().splitlines() if l.strip()]"
   ]
  },
  {
   "cell_type": "code",
   "execution_count": 16,
   "metadata": {
    "ExecuteTime": {
     "end_time": "2021-11-25T09:00:56.311921Z",
     "start_time": "2021-11-25T09:00:56.304168Z"
    }
   },
   "outputs": [
    {
     "data": {
      "text/plain": [
       "100000"
      ]
     },
     "execution_count": 16,
     "metadata": {},
     "output_type": "execute_result"
    }
   ],
   "source": [
    "len(lines)"
   ]
  },
  {
   "cell_type": "code",
   "execution_count": 17,
   "metadata": {
    "ExecuteTime": {
     "end_time": "2021-11-25T09:00:57.202658Z",
     "start_time": "2021-11-25T09:00:57.196361Z"
    }
   },
   "outputs": [],
   "source": [
    "def get_term_frequency(document):\n",
    "    term_freq = {}\n",
    "    \n",
    "    words = document.split()\n",
    "\n",
    "    for w in words:\n",
    "        term_freq[w] = 1 + (0 if term_freq.get(w) is None else term_freq[w])\n",
    "\n",
    "    return term_freq"
   ]
  },
  {
   "cell_type": "code",
   "execution_count": 18,
   "metadata": {
    "ExecuteTime": {
     "end_time": "2021-11-25T09:00:58.133967Z",
     "start_time": "2021-11-25T09:00:58.122058Z"
    }
   },
   "outputs": [],
   "source": [
    "def get_context_counts(lines, vocab, w_size=2):\n",
    "    context_cnt = defaultdict(int)\n",
    "    \n",
    "    for line in lines:\n",
    "        words = line.split()\n",
    "        \n",
    "        for i, w in enumerate(words):\n",
    "            if w in vocab:\n",
    "                for c in words[i - w_size:i + w_size]:\n",
    "                    if w != c:\n",
    "                        context_cnt[(w, c)] += 1\n",
    "            \n",
    "    return context_cnt"
   ]
  },
  {
   "cell_type": "code",
   "execution_count": 19,
   "metadata": {
    "ExecuteTime": {
     "end_time": "2021-11-25T09:00:58.821573Z",
     "start_time": "2021-11-25T09:00:58.815576Z"
    }
   },
   "outputs": [],
   "source": [
    "def get_co_occurrence_df(context_cnt, vocab):\n",
    "    data = []\n",
    "    \n",
    "    for word1 in vocab:\n",
    "        row = []\n",
    "        \n",
    "        for word2 in vocab:\n",
    "            try:\n",
    "                count = context_cnt[(word1, word2)]\n",
    "            except KeyError:\n",
    "                count = 0\n",
    "            row.append(count)\n",
    "            \n",
    "        data.append(row)\n",
    "    \n",
    "    return pd.DataFrame(data, index=vocab, columns=vocab)"
   ]
  },
  {
   "cell_type": "code",
   "execution_count": 20,
   "metadata": {
    "ExecuteTime": {
     "end_time": "2021-11-25T09:01:01.267196Z",
     "start_time": "2021-11-25T09:00:59.521505Z"
    }
   },
   "outputs": [
    {
     "data": {
      "text/plain": [
       ".       165069\n",
       "이        91963\n",
       "고        77992\n",
       "는        57894\n",
       "네요       57552\n",
       "         ...  \n",
       "▁두두          1\n",
       "플레임          1\n",
       "함몰           1\n",
       "▁브라네         1\n",
       "요긴           1\n",
       "Length: 53172, dtype: int64"
      ]
     },
     "execution_count": 20,
     "metadata": {},
     "output_type": "execute_result"
    }
   ],
   "source": [
    "term_freq = pd.Series(\n",
    "    get_term_frequency(' '.join(lines))\n",
    ").sort_values(ascending=False)\n",
    "\n",
    "term_freq"
   ]
  },
  {
   "cell_type": "code",
   "execution_count": 21,
   "metadata": {
    "ExecuteTime": {
     "end_time": "2021-11-25T09:01:04.478178Z",
     "start_time": "2021-11-25T09:01:04.473989Z"
    }
   },
   "outputs": [],
   "source": [
    "vector_size = 1000"
   ]
  },
  {
   "cell_type": "code",
   "execution_count": 22,
   "metadata": {
    "ExecuteTime": {
     "end_time": "2021-11-25T09:01:05.341071Z",
     "start_time": "2021-11-25T09:01:05.300491Z"
    }
   },
   "outputs": [
    {
     "data": {
      "text/plain": [
       "Index(['.', '이', '고', '는', '네요', '에', '하', '가', '도', '은',\n",
       "       ...\n",
       "       '끈', '▁퀄리티', '▁올리', '화', '▁의심', '▁생기', '▁달라요', '▁가지', '▁얼룩', '동안'],\n",
       "      dtype='object', length=1000)"
      ]
     },
     "execution_count": 22,
     "metadata": {},
     "output_type": "execute_result"
    }
   ],
   "source": [
    "term_freq.index[:vector_size]"
   ]
  },
  {
   "cell_type": "code",
   "execution_count": 23,
   "metadata": {
    "ExecuteTime": {
     "end_time": "2021-11-25T09:01:28.230482Z",
     "start_time": "2021-11-25T09:01:06.868752Z"
    }
   },
   "outputs": [
    {
     "data": {
      "text/plain": [
       "어요  ▁다    681\n",
       "    녹      23\n",
       "    아서    383\n",
       "    ▁왓     58\n",
       "    ▁.    174\n",
       "         ... \n",
       "인지  딴       1\n",
       "곳   걸       1\n",
       "에서  딴       1\n",
       "▁살  딴       1\n",
       "되   부탁      1\n",
       "Length: 2140653, dtype: int64"
      ]
     },
     "execution_count": 23,
     "metadata": {},
     "output_type": "execute_result"
    }
   ],
   "source": [
    "context_cnt = pd.Series(\n",
    "    get_context_counts(\n",
    "        lines,\n",
    "        term_freq.index[:vector_size],\n",
    "        w_size=4\n",
    "    )\n",
    ")\n",
    "\n",
    "context_cnt"
   ]
  },
  {
   "cell_type": "code",
   "execution_count": 24,
   "metadata": {
    "ExecuteTime": {
     "end_time": "2021-11-25T09:02:09.557506Z",
     "start_time": "2021-11-25T09:01:28.993496Z"
    }
   },
   "outputs": [
    {
     "data": {
      "text/html": [
       "<div>\n",
       "<style scoped>\n",
       "    .dataframe tbody tr th:only-of-type {\n",
       "        vertical-align: middle;\n",
       "    }\n",
       "\n",
       "    .dataframe tbody tr th {\n",
       "        vertical-align: top;\n",
       "    }\n",
       "\n",
       "    .dataframe thead th {\n",
       "        text-align: right;\n",
       "    }\n",
       "</style>\n",
       "<table border=\"1\" class=\"dataframe\">\n",
       "  <thead>\n",
       "    <tr style=\"text-align: right;\">\n",
       "      <th></th>\n",
       "      <th>.</th>\n",
       "      <th>이</th>\n",
       "      <th>고</th>\n",
       "      <th>는</th>\n",
       "      <th>네요</th>\n",
       "      <th>에</th>\n",
       "      <th>하</th>\n",
       "      <th>가</th>\n",
       "      <th>도</th>\n",
       "      <th>은</th>\n",
       "      <th>...</th>\n",
       "      <th>끈</th>\n",
       "      <th>▁퀄리티</th>\n",
       "      <th>▁올리</th>\n",
       "      <th>화</th>\n",
       "      <th>▁의심</th>\n",
       "      <th>▁생기</th>\n",
       "      <th>▁달라요</th>\n",
       "      <th>▁가지</th>\n",
       "      <th>▁얼룩</th>\n",
       "      <th>동안</th>\n",
       "    </tr>\n",
       "  </thead>\n",
       "  <tbody>\n",
       "    <tr>\n",
       "      <th>.</th>\n",
       "      <td>0</td>\n",
       "      <td>25370</td>\n",
       "      <td>16357</td>\n",
       "      <td>11938</td>\n",
       "      <td>29278</td>\n",
       "      <td>10167</td>\n",
       "      <td>12612</td>\n",
       "      <td>12501</td>\n",
       "      <td>12971</td>\n",
       "      <td>10852</td>\n",
       "      <td>...</td>\n",
       "      <td>104</td>\n",
       "      <td>162</td>\n",
       "      <td>76</td>\n",
       "      <td>88</td>\n",
       "      <td>177</td>\n",
       "      <td>133</td>\n",
       "      <td>174</td>\n",
       "      <td>57</td>\n",
       "      <td>96</td>\n",
       "      <td>74</td>\n",
       "    </tr>\n",
       "    <tr>\n",
       "      <th>이</th>\n",
       "      <td>22278</td>\n",
       "      <td>0</td>\n",
       "      <td>9372</td>\n",
       "      <td>9826</td>\n",
       "      <td>13150</td>\n",
       "      <td>6360</td>\n",
       "      <td>4457</td>\n",
       "      <td>4571</td>\n",
       "      <td>3985</td>\n",
       "      <td>5869</td>\n",
       "      <td>...</td>\n",
       "      <td>121</td>\n",
       "      <td>40</td>\n",
       "      <td>21</td>\n",
       "      <td>43</td>\n",
       "      <td>140</td>\n",
       "      <td>179</td>\n",
       "      <td>103</td>\n",
       "      <td>27</td>\n",
       "      <td>203</td>\n",
       "      <td>31</td>\n",
       "    </tr>\n",
       "    <tr>\n",
       "      <th>고</th>\n",
       "      <td>15417</td>\n",
       "      <td>9491</td>\n",
       "      <td>0</td>\n",
       "      <td>7297</td>\n",
       "      <td>3498</td>\n",
       "      <td>6534</td>\n",
       "      <td>15893</td>\n",
       "      <td>4763</td>\n",
       "      <td>19640</td>\n",
       "      <td>5261</td>\n",
       "      <td>...</td>\n",
       "      <td>68</td>\n",
       "      <td>45</td>\n",
       "      <td>116</td>\n",
       "      <td>32</td>\n",
       "      <td>31</td>\n",
       "      <td>129</td>\n",
       "      <td>48</td>\n",
       "      <td>330</td>\n",
       "      <td>75</td>\n",
       "      <td>61</td>\n",
       "    </tr>\n",
       "    <tr>\n",
       "      <th>는</th>\n",
       "      <td>11377</td>\n",
       "      <td>9541</td>\n",
       "      <td>7095</td>\n",
       "      <td>0</td>\n",
       "      <td>3639</td>\n",
       "      <td>7439</td>\n",
       "      <td>7768</td>\n",
       "      <td>4505</td>\n",
       "      <td>4009</td>\n",
       "      <td>3237</td>\n",
       "      <td>...</td>\n",
       "      <td>37</td>\n",
       "      <td>102</td>\n",
       "      <td>66</td>\n",
       "      <td>69</td>\n",
       "      <td>39</td>\n",
       "      <td>88</td>\n",
       "      <td>22</td>\n",
       "      <td>76</td>\n",
       "      <td>44</td>\n",
       "      <td>50</td>\n",
       "    </tr>\n",
       "    <tr>\n",
       "      <th>네요</th>\n",
       "      <td>29495</td>\n",
       "      <td>15165</td>\n",
       "      <td>4105</td>\n",
       "      <td>4148</td>\n",
       "      <td>0</td>\n",
       "      <td>3470</td>\n",
       "      <td>6690</td>\n",
       "      <td>6818</td>\n",
       "      <td>4169</td>\n",
       "      <td>3645</td>\n",
       "      <td>...</td>\n",
       "      <td>30</td>\n",
       "      <td>40</td>\n",
       "      <td>33</td>\n",
       "      <td>22</td>\n",
       "      <td>109</td>\n",
       "      <td>105</td>\n",
       "      <td>5</td>\n",
       "      <td>29</td>\n",
       "      <td>50</td>\n",
       "      <td>29</td>\n",
       "    </tr>\n",
       "    <tr>\n",
       "      <th>...</th>\n",
       "      <td>...</td>\n",
       "      <td>...</td>\n",
       "      <td>...</td>\n",
       "      <td>...</td>\n",
       "      <td>...</td>\n",
       "      <td>...</td>\n",
       "      <td>...</td>\n",
       "      <td>...</td>\n",
       "      <td>...</td>\n",
       "      <td>...</td>\n",
       "      <td>...</td>\n",
       "      <td>...</td>\n",
       "      <td>...</td>\n",
       "      <td>...</td>\n",
       "      <td>...</td>\n",
       "      <td>...</td>\n",
       "      <td>...</td>\n",
       "      <td>...</td>\n",
       "      <td>...</td>\n",
       "      <td>...</td>\n",
       "      <td>...</td>\n",
       "    </tr>\n",
       "    <tr>\n",
       "      <th>▁생기</th>\n",
       "      <td>133</td>\n",
       "      <td>179</td>\n",
       "      <td>128</td>\n",
       "      <td>86</td>\n",
       "      <td>100</td>\n",
       "      <td>62</td>\n",
       "      <td>14</td>\n",
       "      <td>71</td>\n",
       "      <td>56</td>\n",
       "      <td>17</td>\n",
       "      <td>...</td>\n",
       "      <td>0</td>\n",
       "      <td>0</td>\n",
       "      <td>0</td>\n",
       "      <td>0</td>\n",
       "      <td>0</td>\n",
       "      <td>0</td>\n",
       "      <td>0</td>\n",
       "      <td>0</td>\n",
       "      <td>3</td>\n",
       "      <td>0</td>\n",
       "    </tr>\n",
       "    <tr>\n",
       "      <th>▁달라요</th>\n",
       "      <td>167</td>\n",
       "      <td>116</td>\n",
       "      <td>49</td>\n",
       "      <td>25</td>\n",
       "      <td>8</td>\n",
       "      <td>11</td>\n",
       "      <td>41</td>\n",
       "      <td>64</td>\n",
       "      <td>33</td>\n",
       "      <td>18</td>\n",
       "      <td>...</td>\n",
       "      <td>0</td>\n",
       "      <td>0</td>\n",
       "      <td>0</td>\n",
       "      <td>1</td>\n",
       "      <td>0</td>\n",
       "      <td>0</td>\n",
       "      <td>0</td>\n",
       "      <td>0</td>\n",
       "      <td>0</td>\n",
       "      <td>0</td>\n",
       "    </tr>\n",
       "    <tr>\n",
       "      <th>▁가지</th>\n",
       "      <td>46</td>\n",
       "      <td>38</td>\n",
       "      <td>335</td>\n",
       "      <td>73</td>\n",
       "      <td>27</td>\n",
       "      <td>36</td>\n",
       "      <td>30</td>\n",
       "      <td>47</td>\n",
       "      <td>26</td>\n",
       "      <td>22</td>\n",
       "      <td>...</td>\n",
       "      <td>1</td>\n",
       "      <td>0</td>\n",
       "      <td>0</td>\n",
       "      <td>0</td>\n",
       "      <td>0</td>\n",
       "      <td>1</td>\n",
       "      <td>0</td>\n",
       "      <td>0</td>\n",
       "      <td>0</td>\n",
       "      <td>1</td>\n",
       "    </tr>\n",
       "    <tr>\n",
       "      <th>▁얼룩</th>\n",
       "      <td>64</td>\n",
       "      <td>193</td>\n",
       "      <td>67</td>\n",
       "      <td>48</td>\n",
       "      <td>45</td>\n",
       "      <td>129</td>\n",
       "      <td>9</td>\n",
       "      <td>10</td>\n",
       "      <td>62</td>\n",
       "      <td>72</td>\n",
       "      <td>...</td>\n",
       "      <td>1</td>\n",
       "      <td>0</td>\n",
       "      <td>0</td>\n",
       "      <td>1</td>\n",
       "      <td>0</td>\n",
       "      <td>3</td>\n",
       "      <td>1</td>\n",
       "      <td>0</td>\n",
       "      <td>0</td>\n",
       "      <td>0</td>\n",
       "    </tr>\n",
       "    <tr>\n",
       "      <th>동안</th>\n",
       "      <td>99</td>\n",
       "      <td>30</td>\n",
       "      <td>61</td>\n",
       "      <td>53</td>\n",
       "      <td>31</td>\n",
       "      <td>32</td>\n",
       "      <td>33</td>\n",
       "      <td>19</td>\n",
       "      <td>29</td>\n",
       "      <td>9</td>\n",
       "      <td>...</td>\n",
       "      <td>0</td>\n",
       "      <td>0</td>\n",
       "      <td>0</td>\n",
       "      <td>0</td>\n",
       "      <td>0</td>\n",
       "      <td>0</td>\n",
       "      <td>0</td>\n",
       "      <td>1</td>\n",
       "      <td>0</td>\n",
       "      <td>0</td>\n",
       "    </tr>\n",
       "  </tbody>\n",
       "</table>\n",
       "<p>1000 rows × 1000 columns</p>\n",
       "</div>"
      ],
      "text/plain": [
       "          .      이      고      는     네요      에      하      가      도      은  \\\n",
       ".         0  25370  16357  11938  29278  10167  12612  12501  12971  10852   \n",
       "이     22278      0   9372   9826  13150   6360   4457   4571   3985   5869   \n",
       "고     15417   9491      0   7297   3498   6534  15893   4763  19640   5261   \n",
       "는     11377   9541   7095      0   3639   7439   7768   4505   4009   3237   \n",
       "네요    29495  15165   4105   4148      0   3470   6690   6818   4169   3645   \n",
       "...     ...    ...    ...    ...    ...    ...    ...    ...    ...    ...   \n",
       "▁생기     133    179    128     86    100     62     14     71     56     17   \n",
       "▁달라요    167    116     49     25      8     11     41     64     33     18   \n",
       "▁가지      46     38    335     73     27     36     30     47     26     22   \n",
       "▁얼룩      64    193     67     48     45    129      9     10     62     72   \n",
       "동안       99     30     61     53     31     32     33     19     29      9   \n",
       "\n",
       "      ...    끈  ▁퀄리티  ▁올리   화  ▁의심  ▁생기  ▁달라요  ▁가지  ▁얼룩  동안  \n",
       ".     ...  104   162   76  88  177  133   174   57   96  74  \n",
       "이     ...  121    40   21  43  140  179   103   27  203  31  \n",
       "고     ...   68    45  116  32   31  129    48  330   75  61  \n",
       "는     ...   37   102   66  69   39   88    22   76   44  50  \n",
       "네요    ...   30    40   33  22  109  105     5   29   50  29  \n",
       "...   ...  ...   ...  ...  ..  ...  ...   ...  ...  ...  ..  \n",
       "▁생기   ...    0     0    0   0    0    0     0    0    3   0  \n",
       "▁달라요  ...    0     0    0   1    0    0     0    0    0   0  \n",
       "▁가지   ...    1     0    0   0    0    1     0    0    0   1  \n",
       "▁얼룩   ...    1     0    0   1    0    3     1    0    0   0  \n",
       "동안    ...    0     0    0   0    0    0     0    1    0   0  \n",
       "\n",
       "[1000 rows x 1000 columns]"
      ]
     },
     "execution_count": 24,
     "metadata": {},
     "output_type": "execute_result"
    }
   ],
   "source": [
    "df = get_co_occurrence_df(context_cnt, term_freq.index[:vector_size])\n",
    "\n",
    "df"
   ]
  },
  {
   "cell_type": "code",
   "execution_count": 25,
   "metadata": {
    "ExecuteTime": {
     "end_time": "2021-11-25T09:03:19.453743Z",
     "start_time": "2021-11-25T09:03:16.475515Z"
    }
   },
   "outputs": [],
   "source": [
    "import torch"
   ]
  },
  {
   "cell_type": "code",
   "execution_count": 28,
   "metadata": {
    "ExecuteTime": {
     "end_time": "2021-11-25T09:03:48.723983Z",
     "start_time": "2021-11-25T09:03:48.714645Z"
    }
   },
   "outputs": [
    {
     "name": "stdout",
     "output_type": "stream",
     "text": [
      "1.10.0\n"
     ]
    }
   ],
   "source": [
    "print(torch.__version__)"
   ]
  },
  {
   "cell_type": "code",
   "execution_count": 29,
   "metadata": {
    "ExecuteTime": {
     "end_time": "2021-11-25T09:04:29.257217Z",
     "start_time": "2021-11-25T09:04:29.219846Z"
    }
   },
   "outputs": [],
   "source": [
    "def get_cosine_similarity(x1, x2):\n",
    "    return (x1 * x2).sum() / ((x1**2).sum()**.5 * (x2**2).sum()**.5 + 1e-10)"
   ]
  },
  {
   "cell_type": "code",
   "execution_count": 41,
   "metadata": {
    "ExecuteTime": {
     "end_time": "2021-11-25T09:07:58.627327Z",
     "start_time": "2021-11-25T09:07:58.616257Z"
    }
   },
   "outputs": [],
   "source": [
    "def get_nearest(query, dataframe, metric, top_k, ascending=True):\n",
    "    vector = torch.from_numpy(dataframe.loc[query].values).float()\n",
    "    distances = dataframe.apply(\n",
    "        lambda x: metric(vector, torch.from_numpy(x.values).float()),\n",
    "        axis=1,\n",
    "    )\n",
    "    top_distances = distances.sort_values(ascending=ascending)[:top_k]\n",
    "\n",
    "    print(', '.join([f'{k} ({v:.1f})' for k, v in top_distances.items()]))"
   ]
  },
  {
   "cell_type": "code",
   "execution_count": 42,
   "metadata": {
    "ExecuteTime": {
     "end_time": "2021-11-25T09:07:59.487626Z",
     "start_time": "2021-11-25T09:07:59.368769Z"
    }
   },
   "outputs": [
    {
     "name": "stdout",
     "output_type": "stream",
     "text": [
      "\n",
      "Cosine similarity:\n",
      "반품 (1.0), 교환 (0.9), ▁반품 (0.9), ▁그냥 (0.9), ▁황당 (0.9), ▁교환 (0.9), ▁참 (0.9), ▁걍 (0.9), 사용 (0.9), ▁찝찝 (0.9), ▁그래서 (0.9), 그냥 (0.9), ▁. (0.8), ▁허접 (0.8), ㅠㅠ (0.8), 정말 (0.8), ▁뭐 (0.8), 너무 (0.8), 다 (0.8), ㅠ (0.8), 그리고 (0.8), ▁일단 (0.8), ▁불편 (0.8), ㅜ (0.8), 배송 (0.8), ▁후회 (0.8), ㅋ (0.8), 진짜 (0.8), ▁진짜 (0.8), ㅡㅡ (0.8)\n"
     ]
    }
   ],
   "source": [
    "print('\\nCosine similarity:')\n",
    "get_nearest('반품', df, get_cosine_similarity, 30, ascending=False)"
   ]
  },
  {
   "cell_type": "code",
   "execution_count": null,
   "metadata": {},
   "outputs": [],
   "source": []
  }
 ],
 "metadata": {
  "kernelspec": {
   "display_name": "Python 3",
   "language": "python",
   "name": "python3"
  },
  "language_info": {
   "codemirror_mode": {
    "name": "ipython",
    "version": 3
   },
   "file_extension": ".py",
   "mimetype": "text/x-python",
   "name": "python",
   "nbconvert_exporter": "python",
   "pygments_lexer": "ipython3",
   "version": "3.8.5"
  },
  "toc": {
   "base_numbering": 1,
   "nav_menu": {},
   "number_sections": true,
   "sideBar": true,
   "skip_h1_title": false,
   "title_cell": "Table of Contents",
   "title_sidebar": "Contents",
   "toc_cell": false,
   "toc_position": {},
   "toc_section_display": true,
   "toc_window_display": false
  },
  "varInspector": {
   "cols": {
    "lenName": 16,
    "lenType": 16,
    "lenVar": 40
   },
   "kernels_config": {
    "python": {
     "delete_cmd_postfix": "",
     "delete_cmd_prefix": "del ",
     "library": "var_list.py",
     "varRefreshCmd": "print(var_dic_list())"
    },
    "r": {
     "delete_cmd_postfix": ") ",
     "delete_cmd_prefix": "rm(",
     "library": "var_list.r",
     "varRefreshCmd": "cat(var_dic_list()) "
    }
   },
   "types_to_exclude": [
    "module",
    "function",
    "builtin_function_or_method",
    "instance",
    "_Feature"
   ],
   "window_display": false
  }
 },
 "nbformat": 4,
 "nbformat_minor": 4
}
