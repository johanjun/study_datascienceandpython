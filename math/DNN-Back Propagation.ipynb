{
 "cells": [
  {
   "cell_type": "code",
   "execution_count": 2,
   "metadata": {},
   "outputs": [],
   "source": [
    "import time\n",
    "import numpy as np"
   ]
  },
  {
   "cell_type": "markdown",
   "metadata": {},
   "source": [
    "### 유틸리티 함수"
   ]
  },
  {
   "cell_type": "code",
   "execution_count": 14,
   "metadata": {},
   "outputs": [],
   "source": [
    "epsilon = 0.0001\n",
    "\n",
    "def _t(x):\n",
    "    return np.transpose(x)\n",
    "\n",
    "def _m(A, B):\n",
    "    return np.matmul(A, B)\n",
    "\n",
    "def sigmoid(x):\n",
    "    return 1 / (1 + np.exp(-x))\n",
    "\n",
    "def mean_squared_error(h, y):\n",
    "    return 1 / 2 * np.mean(np.square(h - y))"
   ]
  },
  {
   "cell_type": "markdown",
   "metadata": {},
   "source": [
    "### Sigmoid 구현"
   ]
  },
  {
   "cell_type": "code",
   "execution_count": 1,
   "metadata": {},
   "outputs": [],
   "source": [
    "class Sigmoid:\n",
    "    def __init__(self):\n",
    "        self.last_o = 1\n",
    "        \n",
    "    def __call__(self, x):\n",
    "        self.last_o = 1 / (1.0 + np.exp(-x))\n",
    "        return self.last_o\n",
    "    \n",
    "    def grad(self):\n",
    "        return self.last_o * (1 - self.last_o)"
   ]
  },
  {
   "cell_type": "markdown",
   "metadata": {},
   "source": [
    "### MSE"
   ]
  },
  {
   "cell_type": "code",
   "execution_count": 3,
   "metadata": {},
   "outputs": [],
   "source": [
    "class MeanSquaredError:\n",
    "    def __init__(self):\n",
    "        # gradient\n",
    "        self.dh = 1\n",
    "        self.last_diff = 1\n",
    "        \n",
    "    def __call__(self, h, y): # 1/2 * mean((h-y)^2)\n",
    "        self.last_diff = h - y\n",
    "        return 1 / 2 * np.mean(np.square(h-y))\n",
    "        \n",
    "    def grad(self): #h-y\n",
    "        return self.last_diff"
   ]
  },
  {
   "cell_type": "markdown",
   "metadata": {},
   "source": [
    "### 뉴런 구현"
   ]
  },
  {
   "cell_type": "code",
   "execution_count": 15,
   "metadata": {},
   "outputs": [],
   "source": [
    "class Neuron:\n",
    "    def __init__(self, W, b, a_obj):\n",
    "        #model params\n",
    "        self.W = W\n",
    "        self.b = b\n",
    "        self.a = a_obj()\n",
    "        \n",
    "        #gradients\n",
    "        self.dW = np.zeros_like(self.W)\n",
    "        self.db = np.zeros_like(self.b)\n",
    "        self.dh = np.zeros_like(_t(self.W))\n",
    "        \n",
    "        self.last_x = np.zeros((self.W.shape[0]))\n",
    "        \n",
    "    def __call__(self, x):\n",
    "        self.last_x = x\n",
    "        self.last_h = _m(_t(self.W), x) + self.b\n",
    "        return self.a(self.last_h)\n",
    "    \n",
    "    def grad(self): #dy/dh = W\n",
    "        return self.W * self.a.grad()\n",
    "    \n",
    "    def grad_W(self, dh):\n",
    "        grad = np.ones_like(self.W)\n",
    "        grad_a = self.a.grad()\n",
    "        for j in range(grad.shape[1]): # y = W^Tx + b\n",
    "            grad[:, j] = dh[j] * grad_a[j] * self.last_x\n",
    "        return grad\n",
    "    \n",
    "    def grad_b(self, dh): # dy/dh = 1\n",
    "        return dh * self.a.grad() * 1\n",
    "    "
   ]
  },
  {
   "cell_type": "markdown",
   "metadata": {},
   "source": [
    "### DNN"
   ]
  },
  {
   "cell_type": "code",
   "execution_count": 27,
   "metadata": {},
   "outputs": [],
   "source": [
    "class DNN:\n",
    "    def __init__(self, hidden_depth, num_neuron, num_input, num_output, activation=sigmoid):\n",
    "        def init_var(i, o):\n",
    "            return np.random.normal(0.0, 0.01, (i, o)), np.zeros((o,))\n",
    "        \n",
    "        self.sequence = list()\n",
    "        \n",
    "        #first hidden layer\n",
    "        W, b = init_var(num_input, num_neuron)\n",
    "        self.sequence.append(Neuron(W, b, activation))\n",
    "        \n",
    "        #hidden\n",
    "        for _ in range(hidden_depth -1):\n",
    "            W, b = init_var(num_neuron, num_neuron)\n",
    "            self.sequence.append(Neuron(W, b, activation))\n",
    "        \n",
    "        #output\n",
    "        W, b = init_var(num_neuron, num_output)\n",
    "        self.sequence.append(Neuron(W, b, activation))\n",
    "        \n",
    "    def __call__(self, x):\n",
    "        for layer in self.sequence:\n",
    "            x = layer(x)\n",
    "        return x\n",
    "    \n",
    "    def calc_gradient(self, x, y, loss_func):\n",
    "        def get_new_sequence(layer_index, new_neuron):\n",
    "            new_sequence = list()\n",
    "            for i, layer in enumerate(self.sequence):\n",
    "                if i == layer_index:\n",
    "                    new_sequence.append(new_neuron)\n",
    "                else:\n",
    "                    new_sequence.append(layer)\n",
    "            return new_sequence\n",
    "        \n",
    "        def eval_sequence(x, sequence):\n",
    "            for layer in sequence:\n",
    "                x = layer(x)\n",
    "            return x\n",
    "        \n",
    "        loss = loss_func(self(x), y)\n",
    "        \n",
    "        for layer_id, layer in enumerate(self.sequence): #iterate layer\n",
    "            for w_i, w in enumerate(layer.W): #iterate W(row)\n",
    "                for w_j, ww in enumerate(w): #iterate W(col)\n",
    "                    W = np.copy(layer.W)\n",
    "                    W[w_i][w_j] = ww + epsilon\n",
    "                    \n",
    "                    new_neuron = Neuron(W, layer.b, layer.a)\n",
    "                    new_seq = get_new_sequence(layer_id, new_neuron)\n",
    "                    h = eval_sequence(x, new_seq)\n",
    "                    \n",
    "                    num_grad = (loss_func(h, y) - loss) / epsilon\n",
    "                    layer.dW[w_i][w_j] = num_grad\n",
    "            \n",
    "                for b_i, bb in enumerate(layer.b):\n",
    "                    b = np.copy(layer.b)\n",
    "                    b[b_i] = bb + epsilon\n",
    "\n",
    "                    new_neuron = Neuron(layer.W, b, layer.a)\n",
    "                    new_seq = get_new_sequence(layer_id, new_neuron)\n",
    "                    h = eval_sequence(x, new_seq)\n",
    "\n",
    "                    num_grad = (loss_func(h, y) - loss) / epsilon\n",
    "                    layer.db[b_i] = num_grad\n",
    "        return loss\n",
    "                "
   ]
  },
  {
   "cell_type": "markdown",
   "metadata": {},
   "source": [
    "### Gradient Descent"
   ]
  },
  {
   "cell_type": "code",
   "execution_count": 28,
   "metadata": {},
   "outputs": [],
   "source": [
    "def gradient_descent(network, x, y, loss_obj, alpha=0.01):\n",
    "    loss = network.calc_gradient(x, y, loss_obj)\n",
    "    for layer in network.sequence:\n",
    "        layer.W += -alpha * layer.dW\n",
    "        layer.b += -alpha * layer.db\n",
    "    return loss"
   ]
  },
  {
   "cell_type": "markdown",
   "metadata": {},
   "source": [
    "### Test"
   ]
  },
  {
   "cell_type": "code",
   "execution_count": 30,
   "metadata": {},
   "outputs": [
    {
     "name": "stdout",
     "output_type": "stream",
     "text": [
      "Epoch 0: Test loss0.7885620805778328\n",
      "Epoch 1: Test loss0.776781443658949\n",
      "Epoch 2: Test loss0.7651782456011257\n",
      "Epoch 3: Test loss0.7537505190823045\n",
      "Epoch 4: Test loss0.7424962759971061\n",
      "Epoch 5: Test loss0.7314135094425132\n",
      "Epoch 6: Test loss0.7205001957050653\n",
      "Epoch 7: Test loss0.7097542962407211\n",
      "Epoch 8: Test loss0.6991737596405375\n",
      "Epoch 9: Test loss0.6887565235748756\n",
      "Epoch 10: Test loss0.6785005167099863\n",
      "Epoch 11: Test loss0.6684036605906546\n",
      "Epoch 12: Test loss0.6584638714840345\n",
      "Epoch 13: Test loss0.6486790621796903\n",
      "Epoch 14: Test loss0.6390471437413442\n",
      "Epoch 15: Test loss0.629566027206956\n",
      "Epoch 16: Test loss0.6202336252338465\n",
      "Epoch 17: Test loss0.6110478536857811\n",
      "Epoch 18: Test loss0.6020066331600094\n",
      "Epoch 19: Test loss0.5931078904524391\n",
      "Epoch 20: Test loss0.5843495599592796\n",
      "Epoch 21: Test loss0.5757295850141226\n",
      "Epoch 22: Test loss0.5672459191601822\n",
      "Epoch 23: Test loss0.5588965273567525\n",
      "Epoch 24: Test loss0.5506793871204074\n",
      "Epoch 25: Test loss0.5425924896007346\n",
      "Epoch 26: Test loss0.5346338405914136\n",
      "Epoch 27: Test loss0.5268014614774477\n",
      "Epoch 28: Test loss0.5190933901191598\n",
      "Epoch 29: Test loss0.5115076816745494\n",
      "Epoch 30: Test loss0.5040424093610169\n",
      "Epoch 31: Test loss0.4966956651581073\n",
      "Epoch 32: Test loss0.48946556045272394\n",
      "Epoch 33: Test loss0.48235022662872984\n",
      "Epoch 34: Test loss0.475347815602339\n",
      "Epoch 35: Test loss0.46845650030572006\n",
      "Epoch 36: Test loss0.46167447512002424\n",
      "Epoch 37: Test loss0.45499995626048895\n",
      "Epoch 38: Test loss0.44843118211510363\n",
      "Epoch 39: Test loss0.4419664135390472\n",
      "Epoch 40: Test loss0.43560393410671727\n",
      "Epoch 41: Test loss0.4293420503237395\n",
      "Epoch 42: Test loss0.42317909180037966\n",
      "Epoch 43: Test loss0.41711341138878505\n",
      "Epoch 44: Test loss0.4111433852857196\n",
      "Epoch 45: Test loss0.40526741310274494\n",
      "Epoch 46: Test loss0.3994839179057561\n",
      "Epoch 47: Test loss0.3937913462256921\n",
      "Epoch 48: Test loss0.3881881680419901\n",
      "Epoch 49: Test loss0.382672876740743\n",
      "Epoch 50: Test loss0.37724398904902046\n",
      "Epoch 51: Test loss0.37190004494704215\n",
      "Epoch 52: Test loss0.3666396075598222\n",
      "Epoch 53: Test loss0.36146126302953346\n",
      "Epoch 54: Test loss0.35636362037021985\n",
      "Epoch 55: Test loss0.3513453113061694\n",
      "Epoch 56: Test loss0.3464049900951962\n",
      "Epoch 57: Test loss0.34154133333816544\n",
      "Epoch 58: Test loss0.3367530397758189\n",
      "Epoch 59: Test loss0.33203883007426316\n",
      "Epoch 60: Test loss0.32739744659984216\n",
      "Epoch 61: Test loss0.32282765318480683\n",
      "Epoch 62: Test loss0.31832823488445317\n",
      "Epoch 63: Test loss0.3138979977267607\n",
      "Epoch 64: Test loss0.30953576845538316\n",
      "Epoch 65: Test loss0.3052403942667971\n",
      "Epoch 66: Test loss0.30101074254245175\n",
      "Epoch 67: Test loss0.2968457005763996\n",
      "Epoch 68: Test loss0.2927441752993921\n",
      "Epoch 69: Test loss0.28870509299988656\n",
      "Epoch 70: Test loss0.2847273990425968\n",
      "Epoch 71: Test loss0.28081005758513317\n",
      "Epoch 72: Test loss0.27695205129328854\n",
      "Epoch 73: Test loss0.2731523810553974\n",
      "Epoch 74: Test loss0.269410065696262\n",
      "Epoch 75: Test loss0.26572414169099356\n",
      "Epoch 76: Test loss0.26209366287928043\n",
      "Epoch 77: Test loss0.258517700180249\n",
      "Epoch 78: Test loss0.25499534130846013\n",
      "Epoch 79: Test loss0.251525690491141\n",
      "Epoch 80: Test loss0.24810786818707056\n",
      "Epoch 81: Test loss0.24474101080730612\n",
      "Epoch 82: Test loss0.24142427043801853\n",
      "Epoch 83: Test loss0.23815681456559534\n",
      "Epoch 84: Test loss0.23493782580425077\n",
      "Epoch 85: Test loss0.23176650162629742\n",
      "Epoch 86: Test loss0.228642054095228\n",
      "Epoch 87: Test loss0.22556370960176178\n",
      "Epoch 88: Test loss0.22253070860298016\n",
      "Epoch 89: Test loss0.2195423053646154\n",
      "Epoch 90: Test loss0.21659776770665662\n",
      "Epoch 91: Test loss0.2136963767523294\n",
      "Epoch 92: Test loss0.21083742668049785\n",
      "Epoch 93: Test loss0.20802022448157467\n",
      "Epoch 94: Test loss0.20524408971700292\n",
      "Epoch 95: Test loss0.20250835428232203\n",
      "Epoch 96: Test loss0.1998123621738476\n",
      "Epoch 97: Test loss0.19715546925904956\n",
      "Epoch 98: Test loss0.19453704305057026\n",
      "Epoch 99: Test loss0.19195646248394402\n",
      "86.253977060318 seconds elapsed.\n"
     ]
    }
   ],
   "source": [
    "x = np.random.normal(0.0, 1.0, (10,))\n",
    "y = np.random.normal(0.0, 1.0, (2,))\n",
    "\n",
    "dnn = DNN(hidden_depth=5, num_neuron=32, num_input=10, num_output=2, activation=sigmoid)\n",
    "\n",
    "t = time.time()\n",
    "\n",
    "for epoch in range(100):\n",
    "    loss = gradient_descent(dnn, x, y, mean_squared_error, 0.01)\n",
    "    print('Epoch {}: Test loss{}'.format(epoch, loss))\n",
    "print('{} seconds elapsed.'.format(time.time() - t))"
   ]
  },
  {
   "cell_type": "code",
   "execution_count": null,
   "metadata": {},
   "outputs": [],
   "source": []
  },
  {
   "cell_type": "code",
   "execution_count": null,
   "metadata": {},
   "outputs": [],
   "source": []
  }
 ],
 "metadata": {
  "kernelspec": {
   "display_name": "Python 3",
   "language": "python",
   "name": "python3"
  },
  "language_info": {
   "codemirror_mode": {
    "name": "ipython",
    "version": 3
   },
   "file_extension": ".py",
   "mimetype": "text/x-python",
   "name": "python",
   "nbconvert_exporter": "python",
   "pygments_lexer": "ipython3",
   "version": "3.8.5"
  }
 },
 "nbformat": 4,
 "nbformat_minor": 4
}
