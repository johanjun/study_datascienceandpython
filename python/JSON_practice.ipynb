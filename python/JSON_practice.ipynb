{
  "nbformat": 4,
  "nbformat_minor": 0,
  "metadata": {
    "colab": {
      "name": "JSON practice.ipynb",
      "provenance": [],
      "authorship_tag": "ABX9TyMre+OBRxzlf3WMoD2Xb2GY",
      "include_colab_link": true
    },
    "kernelspec": {
      "name": "python3",
      "display_name": "Python 3"
    },
    "language_info": {
      "name": "python"
    }
  },
  "cells": [
    {
      "cell_type": "markdown",
      "metadata": {
        "id": "view-in-github",
        "colab_type": "text"
      },
      "source": [
        "<a href=\"https://colab.research.google.com/github/johanjun/study_datascienceandpython/blob/main/python/JSON_practice.ipynb\" target=\"_parent\"><img src=\"https://colab.research.google.com/assets/colab-badge.svg\" alt=\"Open In Colab\"/></a>"
      ]
    },
    {
      "cell_type": "code",
      "execution_count": 2,
      "metadata": {
        "id": "1yp-_oP3Kcq6"
      },
      "outputs": [],
      "source": [
        "import json\n",
        "import urllib.request, urllib.parse, urllib.error"
      ]
    },
    {
      "cell_type": "markdown",
      "source": [
        "#Basic"
      ],
      "metadata": {
        "id": "PkEKRhYQRLqS"
      }
    },
    {
      "cell_type": "code",
      "source": [
        "data = [ { 'Hola':'Hello', 'Hoi':\"Hello\", 'noun':\"hello\" } ]\n",
        "print(type(data), data)\n",
        "print(type(data[0]), data[0])"
      ],
      "metadata": {
        "colab": {
          "base_uri": "https://localhost:8080/"
        },
        "id": "eflHOlnfRNYr",
        "outputId": "6609a197-a5a7-451e-ea1a-e620cbd7e231"
      },
      "execution_count": 78,
      "outputs": [
        {
          "output_type": "stream",
          "name": "stdout",
          "text": [
            "<class 'list'> [{'Hola': 'Hello', 'Hoi': 'Hello', 'noun': 'hello'}]\n",
            "<class 'dict'> {'Hola': 'Hello', 'Hoi': 'Hello', 'noun': 'hello'}\n"
          ]
        }
      ]
    },
    {
      "cell_type": "code",
      "source": [
        "json_encoded = json.dumps(data)"
      ],
      "metadata": {
        "id": "jpg7M76URXGQ"
      },
      "execution_count": 79,
      "outputs": []
    },
    {
      "cell_type": "code",
      "source": [
        "print(type(json_encoded), json_encoded)"
      ],
      "metadata": {
        "colab": {
          "base_uri": "https://localhost:8080/"
        },
        "id": "7xBe_x7RRa8u",
        "outputId": "8bc18d4d-cfd0-4d3d-83f8-1f12dc3bfa76"
      },
      "execution_count": 81,
      "outputs": [
        {
          "output_type": "stream",
          "name": "stdout",
          "text": [
            "<class 'str'> [{\"Hola\": \"Hello\", \"Hoi\": \"Hello\", \"noun\": \"hello\"}]\n"
          ]
        }
      ]
    },
    {
      "cell_type": "code",
      "source": [
        "decoded_data = json.loads(json_encoded)"
      ],
      "metadata": {
        "id": "_owVW1gwRkeF"
      },
      "execution_count": 82,
      "outputs": []
    },
    {
      "cell_type": "code",
      "source": [
        "print(type(decoded_data), decoded_data)"
      ],
      "metadata": {
        "colab": {
          "base_uri": "https://localhost:8080/"
        },
        "id": "xj5Tb3pzRoP3",
        "outputId": "cc992b56-ee76-419d-f848-f5db49219aee"
      },
      "execution_count": 83,
      "outputs": [
        {
          "output_type": "stream",
          "name": "stdout",
          "text": [
            "<class 'list'> [{'Hola': 'Hello', 'Hoi': 'Hello', 'noun': 'hello'}]\n"
          ]
        }
      ]
    },
    {
      "cell_type": "markdown",
      "source": [
        "#practice 0"
      ],
      "metadata": {
        "id": "ULKQMkuWRyZu"
      }
    },
    {
      "cell_type": "code",
      "source": [
        "data = {\n",
        "  \"menu\": {\n",
        "    \"id\": \"file\",\n",
        "    \"value\": \"File\",\n",
        "    \"popup\": {\n",
        "      \"menuitem\": [\n",
        "        {\"value\": \"New\", \"onclick\": \"CreateNewDoc()\"},\n",
        "        {\"value\": \"Open\", \"onclick\": \"OpenDoc()\"},\n",
        "        {\"value\": \"Close\", \"onclick\": \"CloseDoc()\"}\n",
        "    ]\n",
        "  }\n",
        "}}"
      ],
      "metadata": {
        "id": "z9tRniFTR0Mq"
      },
      "execution_count": 84,
      "outputs": []
    },
    {
      "cell_type": "code",
      "source": [
        "json_data = json.dumps(data, indent=4)"
      ],
      "metadata": {
        "id": "hmgHtoMoR3Ln"
      },
      "execution_count": 85,
      "outputs": []
    },
    {
      "cell_type": "code",
      "source": [
        "print(json_data)"
      ],
      "metadata": {
        "colab": {
          "base_uri": "https://localhost:8080/"
        },
        "id": "IJ1qBCFSR7G8",
        "outputId": "b185dcf2-690b-4392-94d2-98e63f967363"
      },
      "execution_count": 86,
      "outputs": [
        {
          "output_type": "stream",
          "name": "stdout",
          "text": [
            "{\n",
            "    \"menu\": {\n",
            "        \"id\": \"file\",\n",
            "        \"value\": \"File\",\n",
            "        \"popup\": {\n",
            "            \"menuitem\": [\n",
            "                {\n",
            "                    \"value\": \"New\",\n",
            "                    \"onclick\": \"CreateNewDoc()\"\n",
            "                },\n",
            "                {\n",
            "                    \"value\": \"Open\",\n",
            "                    \"onclick\": \"OpenDoc()\"\n",
            "                },\n",
            "                {\n",
            "                    \"value\": \"Close\",\n",
            "                    \"onclick\": \"CloseDoc()\"\n",
            "                }\n",
            "            ]\n",
            "        }\n",
            "    }\n",
            "}\n"
          ]
        }
      ]
    },
    {
      "cell_type": "code",
      "source": [
        "data = json.loads(json_data)\n",
        "menu = data.get('menu')\n",
        "menu"
      ],
      "metadata": {
        "colab": {
          "base_uri": "https://localhost:8080/"
        },
        "id": "fAg02eKgR_jI",
        "outputId": "e9866006-eaf7-4335-c81c-3d20c7bf914a"
      },
      "execution_count": 93,
      "outputs": [
        {
          "output_type": "execute_result",
          "data": {
            "text/plain": [
              "{'id': 'file',\n",
              " 'popup': {'menuitem': [{'onclick': 'CreateNewDoc()', 'value': 'New'},\n",
              "   {'onclick': 'OpenDoc()', 'value': 'Open'},\n",
              "   {'onclick': 'CloseDoc()', 'value': 'Close'}]},\n",
              " 'value': 'File'}"
            ]
          },
          "metadata": {},
          "execution_count": 93
        }
      ]
    },
    {
      "cell_type": "code",
      "source": [
        "menu.get('value')"
      ],
      "metadata": {
        "colab": {
          "base_uri": "https://localhost:8080/",
          "height": 35
        },
        "id": "leKNGvv_SURF",
        "outputId": "29ac9372-5d37-4577-ba41-a97f0a6dbb99"
      },
      "execution_count": 95,
      "outputs": [
        {
          "output_type": "execute_result",
          "data": {
            "application/vnd.google.colaboratory.intrinsic+json": {
              "type": "string"
            },
            "text/plain": [
              "'File'"
            ]
          },
          "metadata": {},
          "execution_count": 95
        }
      ]
    },
    {
      "cell_type": "markdown",
      "source": [
        "#practice 1"
      ],
      "metadata": {
        "id": "Zugn_qhHNW-7"
      }
    },
    {
      "cell_type": "code",
      "source": [
        "#웹에서 json 파일 불러오기\n",
        "url = 'http://py4e-data.dr-chuck.net/comments_42.json'\n",
        "f = urllib.request.urlopen(url).read()"
      ],
      "metadata": {
        "id": "lO5RJ0zBKtXS"
      },
      "execution_count": 62,
      "outputs": []
    },
    {
      "cell_type": "code",
      "source": [
        "data = json.loads(f)"
      ],
      "metadata": {
        "id": "mxIheiCBK46G"
      },
      "execution_count": 63,
      "outputs": []
    },
    {
      "cell_type": "code",
      "source": [
        "type(data)"
      ],
      "metadata": {
        "colab": {
          "base_uri": "https://localhost:8080/"
        },
        "id": "2AqFu2hDQnkB",
        "outputId": "27a31e99-6fb6-454e-f32e-2a7090d99368"
      },
      "execution_count": 64,
      "outputs": [
        {
          "output_type": "execute_result",
          "data": {
            "text/plain": [
              "dict"
            ]
          },
          "metadata": {},
          "execution_count": 64
        }
      ]
    },
    {
      "cell_type": "code",
      "source": [
        "len(data)"
      ],
      "metadata": {
        "colab": {
          "base_uri": "https://localhost:8080/"
        },
        "id": "KMDTIAA4K9En",
        "outputId": "d6131f4c-c03f-4359-c78a-dbb81c049c7b"
      },
      "execution_count": 6,
      "outputs": [
        {
          "output_type": "execute_result",
          "data": {
            "text/plain": [
              "2"
            ]
          },
          "metadata": {},
          "execution_count": 6
        }
      ]
    },
    {
      "cell_type": "code",
      "source": [
        "data"
      ],
      "metadata": {
        "colab": {
          "base_uri": "https://localhost:8080/"
        },
        "id": "slSxDBfHK-Ah",
        "outputId": "482bdb56-2b91-4a3b-d56a-e43809e091de"
      },
      "execution_count": 7,
      "outputs": [
        {
          "output_type": "execute_result",
          "data": {
            "text/plain": [
              "{'comments': [{'count': 97, 'name': 'Romina'},\n",
              "  {'count': 97, 'name': 'Laurie'},\n",
              "  {'count': 90, 'name': 'Bayli'},\n",
              "  {'count': 90, 'name': 'Siyona'},\n",
              "  {'count': 88, 'name': 'Taisha'},\n",
              "  {'count': 87, 'name': 'Alanda'},\n",
              "  {'count': 87, 'name': 'Ameelia'},\n",
              "  {'count': 80, 'name': 'Prasheeta'},\n",
              "  {'count': 79, 'name': 'Asif'},\n",
              "  {'count': 79, 'name': 'Risa'},\n",
              "  {'count': 78, 'name': 'Zi'},\n",
              "  {'count': 76, 'name': 'Danyil'},\n",
              "  {'count': 76, 'name': 'Ediomi'},\n",
              "  {'count': 72, 'name': 'Barry'},\n",
              "  {'count': 72, 'name': 'Lance'},\n",
              "  {'count': 66, 'name': 'Hattie'},\n",
              "  {'count': 66, 'name': 'Mathu'},\n",
              "  {'count': 65, 'name': 'Bowie'},\n",
              "  {'count': 65, 'name': 'Samara'},\n",
              "  {'count': 64, 'name': 'Uchenna'},\n",
              "  {'count': 61, 'name': 'Shauni'},\n",
              "  {'count': 61, 'name': 'Georgia'},\n",
              "  {'count': 59, 'name': 'Rivan'},\n",
              "  {'count': 58, 'name': 'Kenan'},\n",
              "  {'count': 57, 'name': 'Hassan'},\n",
              "  {'count': 57, 'name': 'Isma'},\n",
              "  {'count': 54, 'name': 'Samanthalee'},\n",
              "  {'count': 51, 'name': 'Alexa'},\n",
              "  {'count': 49, 'name': 'Caine'},\n",
              "  {'count': 47, 'name': 'Grady'},\n",
              "  {'count': 40, 'name': 'Anne'},\n",
              "  {'count': 38, 'name': 'Rihan'},\n",
              "  {'count': 37, 'name': 'Alexei'},\n",
              "  {'count': 36, 'name': 'Indie'},\n",
              "  {'count': 36, 'name': 'Rhuairidh'},\n",
              "  {'count': 32, 'name': 'Annoushka'},\n",
              "  {'count': 25, 'name': 'Kenzi'},\n",
              "  {'count': 24, 'name': 'Shahd'},\n",
              "  {'count': 22, 'name': 'Irvine'},\n",
              "  {'count': 21, 'name': 'Carys'},\n",
              "  {'count': 19, 'name': 'Skye'},\n",
              "  {'count': 18, 'name': 'Atiya'},\n",
              "  {'count': 18, 'name': 'Rohan'},\n",
              "  {'count': 14, 'name': 'Nuala'},\n",
              "  {'count': 12, 'name': 'Maram'},\n",
              "  {'count': 12, 'name': 'Carlo'},\n",
              "  {'count': 9, 'name': 'Japleen'},\n",
              "  {'count': 7, 'name': 'Breeanna'},\n",
              "  {'count': 3, 'name': 'Zaaine'},\n",
              "  {'count': 2, 'name': 'Inika'}],\n",
              " 'note': 'This file contains the sample data for testing'}"
            ]
          },
          "metadata": {},
          "execution_count": 7
        }
      ]
    },
    {
      "cell_type": "code",
      "source": [
        "data['comments']"
      ],
      "metadata": {
        "colab": {
          "base_uri": "https://localhost:8080/"
        },
        "id": "wOKeuRu4K-ea",
        "outputId": "92ced31a-3e86-40ec-fe97-e9ab0972f7ee"
      },
      "execution_count": 15,
      "outputs": [
        {
          "output_type": "execute_result",
          "data": {
            "text/plain": [
              "[{'count': 97, 'name': 'Romina'},\n",
              " {'count': 97, 'name': 'Laurie'},\n",
              " {'count': 90, 'name': 'Bayli'},\n",
              " {'count': 90, 'name': 'Siyona'},\n",
              " {'count': 88, 'name': 'Taisha'},\n",
              " {'count': 87, 'name': 'Alanda'},\n",
              " {'count': 87, 'name': 'Ameelia'},\n",
              " {'count': 80, 'name': 'Prasheeta'},\n",
              " {'count': 79, 'name': 'Asif'},\n",
              " {'count': 79, 'name': 'Risa'},\n",
              " {'count': 78, 'name': 'Zi'},\n",
              " {'count': 76, 'name': 'Danyil'},\n",
              " {'count': 76, 'name': 'Ediomi'},\n",
              " {'count': 72, 'name': 'Barry'},\n",
              " {'count': 72, 'name': 'Lance'},\n",
              " {'count': 66, 'name': 'Hattie'},\n",
              " {'count': 66, 'name': 'Mathu'},\n",
              " {'count': 65, 'name': 'Bowie'},\n",
              " {'count': 65, 'name': 'Samara'},\n",
              " {'count': 64, 'name': 'Uchenna'},\n",
              " {'count': 61, 'name': 'Shauni'},\n",
              " {'count': 61, 'name': 'Georgia'},\n",
              " {'count': 59, 'name': 'Rivan'},\n",
              " {'count': 58, 'name': 'Kenan'},\n",
              " {'count': 57, 'name': 'Hassan'},\n",
              " {'count': 57, 'name': 'Isma'},\n",
              " {'count': 54, 'name': 'Samanthalee'},\n",
              " {'count': 51, 'name': 'Alexa'},\n",
              " {'count': 49, 'name': 'Caine'},\n",
              " {'count': 47, 'name': 'Grady'},\n",
              " {'count': 40, 'name': 'Anne'},\n",
              " {'count': 38, 'name': 'Rihan'},\n",
              " {'count': 37, 'name': 'Alexei'},\n",
              " {'count': 36, 'name': 'Indie'},\n",
              " {'count': 36, 'name': 'Rhuairidh'},\n",
              " {'count': 32, 'name': 'Annoushka'},\n",
              " {'count': 25, 'name': 'Kenzi'},\n",
              " {'count': 24, 'name': 'Shahd'},\n",
              " {'count': 22, 'name': 'Irvine'},\n",
              " {'count': 21, 'name': 'Carys'},\n",
              " {'count': 19, 'name': 'Skye'},\n",
              " {'count': 18, 'name': 'Atiya'},\n",
              " {'count': 18, 'name': 'Rohan'},\n",
              " {'count': 14, 'name': 'Nuala'},\n",
              " {'count': 12, 'name': 'Maram'},\n",
              " {'count': 12, 'name': 'Carlo'},\n",
              " {'count': 9, 'name': 'Japleen'},\n",
              " {'count': 7, 'name': 'Breeanna'},\n",
              " {'count': 3, 'name': 'Zaaine'},\n",
              " {'count': 2, 'name': 'Inika'}]"
            ]
          },
          "metadata": {},
          "execution_count": 15
        }
      ]
    },
    {
      "cell_type": "code",
      "source": [
        "data['comments'][0]"
      ],
      "metadata": {
        "colab": {
          "base_uri": "https://localhost:8080/"
        },
        "id": "vCzMxi5OLKmB",
        "outputId": "5dbf8505-f844-4223-d905-b0aa04827961"
      },
      "execution_count": 16,
      "outputs": [
        {
          "output_type": "execute_result",
          "data": {
            "text/plain": [
              "{'count': 97, 'name': 'Romina'}"
            ]
          },
          "metadata": {},
          "execution_count": 16
        }
      ]
    },
    {
      "cell_type": "code",
      "source": [
        "data['comments'][0]['count']"
      ],
      "metadata": {
        "colab": {
          "base_uri": "https://localhost:8080/"
        },
        "id": "pAIwYBSlLhGV",
        "outputId": "f85aca07-6d02-4d80-c65f-7ed5923f7583"
      },
      "execution_count": 19,
      "outputs": [
        {
          "output_type": "execute_result",
          "data": {
            "text/plain": [
              "97"
            ]
          },
          "metadata": {},
          "execution_count": 19
        }
      ]
    },
    {
      "cell_type": "code",
      "source": [
        "data['comments'][0]['name']"
      ],
      "metadata": {
        "colab": {
          "base_uri": "https://localhost:8080/",
          "height": 35
        },
        "id": "4SgiiFaCLjX4",
        "outputId": "7796d0a9-1ce1-4593-cbfa-091b9cdff89d"
      },
      "execution_count": 20,
      "outputs": [
        {
          "output_type": "execute_result",
          "data": {
            "application/vnd.google.colaboratory.intrinsic+json": {
              "type": "string"
            },
            "text/plain": [
              "'Romina'"
            ]
          },
          "metadata": {},
          "execution_count": 20
        }
      ]
    },
    {
      "cell_type": "code",
      "source": [
        "sum([d['count'] for d in data['comments']])"
      ],
      "metadata": {
        "colab": {
          "base_uri": "https://localhost:8080/"
        },
        "id": "ojpOrGeQL8KI",
        "outputId": "d27530b6-57bb-400e-b511-0361c3d9d3fa"
      },
      "execution_count": 25,
      "outputs": [
        {
          "output_type": "execute_result",
          "data": {
            "text/plain": [
              "2553"
            ]
          },
          "metadata": {},
          "execution_count": 25
        }
      ]
    },
    {
      "cell_type": "markdown",
      "source": [
        "#practice 2"
      ],
      "metadata": {
        "id": "Gj97S6QELqxn"
      }
    },
    {
      "cell_type": "code",
      "source": [
        "dict_data = {\n",
        "  \"args\": {\n",
        "    \"name\": \"sonic\", \n",
        "    \"say\": \"hello\"\n",
        "  }, \n",
        "  \"headers\": {\n",
        "    \"Accept-Encoding\": \"identity\", \n",
        "    \"Host\": \"httpbin.org\", \n",
        "    \"User-Agent\": \"Python-urllib/2.7\"\n",
        "  }, \n",
        "  \"origin\": \"119.193.245.101\", \n",
        "  \"url\": \"http://httpbin.org/get?name=sonic&say=hello\"\n",
        "}"
      ],
      "metadata": {
        "id": "rzOiN9bkNaOC"
      },
      "execution_count": 69,
      "outputs": []
    },
    {
      "cell_type": "code",
      "source": [
        "type(dict_data)"
      ],
      "metadata": {
        "colab": {
          "base_uri": "https://localhost:8080/"
        },
        "id": "Yes6bvowOgja",
        "outputId": "dc3960c3-9dda-4c85-960e-df77e95efb00"
      },
      "execution_count": 70,
      "outputs": [
        {
          "output_type": "execute_result",
          "data": {
            "text/plain": [
              "dict"
            ]
          },
          "metadata": {},
          "execution_count": 70
        }
      ]
    },
    {
      "cell_type": "code",
      "source": [
        "json_data = json.dumps(dict_data, indent=4, sort_keys=True)"
      ],
      "metadata": {
        "id": "YmB0dapaNbZh"
      },
      "execution_count": 72,
      "outputs": []
    },
    {
      "cell_type": "code",
      "source": [
        "print(json_data)"
      ],
      "metadata": {
        "colab": {
          "base_uri": "https://localhost:8080/"
        },
        "id": "Gat2IWKmNnz4",
        "outputId": "feac5a7b-5419-41e6-cafd-6f51202a40b5"
      },
      "execution_count": 73,
      "outputs": [
        {
          "output_type": "stream",
          "name": "stdout",
          "text": [
            "{\n",
            "    \"args\": {\n",
            "        \"name\": \"sonic\",\n",
            "        \"say\": \"hello\"\n",
            "    },\n",
            "    \"headers\": {\n",
            "        \"Accept-Encoding\": \"identity\",\n",
            "        \"Host\": \"httpbin.org\",\n",
            "        \"User-Agent\": \"Python-urllib/2.7\"\n",
            "    },\n",
            "    \"origin\": \"119.193.245.101\",\n",
            "    \"url\": \"http://httpbin.org/get?name=sonic&say=hello\"\n",
            "}\n"
          ]
        }
      ]
    },
    {
      "cell_type": "code",
      "source": [
        "type(json_data)"
      ],
      "metadata": {
        "colab": {
          "base_uri": "https://localhost:8080/"
        },
        "id": "CIA9UHfkQsvZ",
        "outputId": "36d68952-c07c-4dba-cdb2-c15ddcb168ba"
      },
      "execution_count": 74,
      "outputs": [
        {
          "output_type": "execute_result",
          "data": {
            "text/plain": [
              "str"
            ]
          },
          "metadata": {},
          "execution_count": 74
        }
      ]
    },
    {
      "cell_type": "code",
      "source": [
        "get_data = dict_data.get('args')"
      ],
      "metadata": {
        "id": "d5XDWPcbOk6L"
      },
      "execution_count": 75,
      "outputs": []
    },
    {
      "cell_type": "code",
      "source": [
        "get_data"
      ],
      "metadata": {
        "colab": {
          "base_uri": "https://localhost:8080/"
        },
        "id": "7r--2KCYQrdn",
        "outputId": "200d74e2-eb49-4358-93f3-7e1c3429716f"
      },
      "execution_count": 76,
      "outputs": [
        {
          "output_type": "execute_result",
          "data": {
            "text/plain": [
              "{'name': 'sonic', 'say': 'hello'}"
            ]
          },
          "metadata": {},
          "execution_count": 76
        }
      ]
    }
  ]
}