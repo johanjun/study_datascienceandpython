{
 "cells": [
  {
   "cell_type": "code",
   "execution_count": 27,
   "id": "6891abb6",
   "metadata": {},
   "outputs": [],
   "source": [
    "import pandas as pd\n",
    "import numpy as np\n",
    "import matplotlib.pyplot as plt\n",
    "import seaborn as sns\n",
    "import scipy.stats as stats\n",
    "import warnings\n",
    "import statsmodels.api as sm\n",
    "import pylab as py\n",
    "from scipy.stats import probplot\n",
    "import scipy.stats as st\n",
    "\n",
    "warnings.filterwarnings(action='ignore')"
   ]
  },
  {
   "cell_type": "code",
   "execution_count": 2,
   "id": "b31862e9",
   "metadata": {},
   "outputs": [],
   "source": [
    "df_red = pd.read_csv(\"./data/winequality-red(processed).csv\", encoding='utf-8')\n",
    "df_white = pd.read_csv(\"./data/winequality-white(processed).csv\")"
   ]
  },
  {
   "cell_type": "code",
   "execution_count": 5,
   "id": "aea97372",
   "metadata": {},
   "outputs": [
    {
     "name": "stdout",
     "output_type": "stream",
     "text": [
      "<class 'pandas.core.frame.DataFrame'>\n",
      "RangeIndex: 1599 entries, 0 to 1598\n",
      "Data columns (total 12 columns):\n",
      " #   Column                Non-Null Count  Dtype  \n",
      "---  ------                --------------  -----  \n",
      " 0   fixed acidity         1599 non-null   float64\n",
      " 1   volatile acidity      1599 non-null   float64\n",
      " 2   citric acid           1599 non-null   float64\n",
      " 3   residual sugar        1599 non-null   float64\n",
      " 4   chlorides             1599 non-null   float64\n",
      " 5   free sulfur dioxide   1599 non-null   float64\n",
      " 6   total sulfur dioxide  1599 non-null   float64\n",
      " 7   density               1599 non-null   float64\n",
      " 8   pH                    1599 non-null   float64\n",
      " 9   sulphates             1599 non-null   float64\n",
      " 10  alcohol               1599 non-null   float64\n",
      " 11  quality               1599 non-null   int64  \n",
      "dtypes: float64(11), int64(1)\n",
      "memory usage: 150.0 KB\n"
     ]
    }
   ],
   "source": [
    "df_red.info()"
   ]
  },
  {
   "cell_type": "code",
   "execution_count": 7,
   "id": "3e8335d3",
   "metadata": {},
   "outputs": [
    {
     "data": {
      "text/html": [
       "<div>\n",
       "<style scoped>\n",
       "    .dataframe tbody tr th:only-of-type {\n",
       "        vertical-align: middle;\n",
       "    }\n",
       "\n",
       "    .dataframe tbody tr th {\n",
       "        vertical-align: top;\n",
       "    }\n",
       "\n",
       "    .dataframe thead th {\n",
       "        text-align: right;\n",
       "    }\n",
       "</style>\n",
       "<table border=\"1\" class=\"dataframe\">\n",
       "  <thead>\n",
       "    <tr style=\"text-align: right;\">\n",
       "      <th></th>\n",
       "      <th>fixed acidity</th>\n",
       "      <th>volatile acidity</th>\n",
       "      <th>citric acid</th>\n",
       "      <th>residual sugar</th>\n",
       "      <th>chlorides</th>\n",
       "      <th>free sulfur dioxide</th>\n",
       "      <th>total sulfur dioxide</th>\n",
       "      <th>density</th>\n",
       "      <th>pH</th>\n",
       "      <th>sulphates</th>\n",
       "      <th>alcohol</th>\n",
       "      <th>quality</th>\n",
       "    </tr>\n",
       "  </thead>\n",
       "  <tbody>\n",
       "    <tr>\n",
       "      <th>count</th>\n",
       "      <td>1599.000000</td>\n",
       "      <td>1599.000000</td>\n",
       "      <td>1599.000000</td>\n",
       "      <td>1599.000000</td>\n",
       "      <td>1599.000000</td>\n",
       "      <td>1599.000000</td>\n",
       "      <td>1599.000000</td>\n",
       "      <td>1599.000000</td>\n",
       "      <td>1599.000000</td>\n",
       "      <td>1599.000000</td>\n",
       "      <td>1599.000000</td>\n",
       "      <td>1599.000000</td>\n",
       "    </tr>\n",
       "    <tr>\n",
       "      <th>mean</th>\n",
       "      <td>8.319637</td>\n",
       "      <td>0.527821</td>\n",
       "      <td>0.270976</td>\n",
       "      <td>2.538806</td>\n",
       "      <td>0.087467</td>\n",
       "      <td>15.874922</td>\n",
       "      <td>46.467792</td>\n",
       "      <td>0.996747</td>\n",
       "      <td>3.311113</td>\n",
       "      <td>0.658149</td>\n",
       "      <td>10.422983</td>\n",
       "      <td>5.636023</td>\n",
       "    </tr>\n",
       "    <tr>\n",
       "      <th>std</th>\n",
       "      <td>1.741096</td>\n",
       "      <td>0.179060</td>\n",
       "      <td>0.194801</td>\n",
       "      <td>1.409928</td>\n",
       "      <td>0.047065</td>\n",
       "      <td>10.460157</td>\n",
       "      <td>32.895324</td>\n",
       "      <td>0.001887</td>\n",
       "      <td>0.154386</td>\n",
       "      <td>0.169507</td>\n",
       "      <td>1.065668</td>\n",
       "      <td>0.807569</td>\n",
       "    </tr>\n",
       "    <tr>\n",
       "      <th>min</th>\n",
       "      <td>4.600000</td>\n",
       "      <td>0.120000</td>\n",
       "      <td>0.000000</td>\n",
       "      <td>0.900000</td>\n",
       "      <td>0.012000</td>\n",
       "      <td>1.000000</td>\n",
       "      <td>6.000000</td>\n",
       "      <td>0.990070</td>\n",
       "      <td>2.740000</td>\n",
       "      <td>0.330000</td>\n",
       "      <td>8.400000</td>\n",
       "      <td>3.000000</td>\n",
       "    </tr>\n",
       "    <tr>\n",
       "      <th>25%</th>\n",
       "      <td>7.100000</td>\n",
       "      <td>0.390000</td>\n",
       "      <td>0.090000</td>\n",
       "      <td>1.900000</td>\n",
       "      <td>0.070000</td>\n",
       "      <td>7.000000</td>\n",
       "      <td>22.000000</td>\n",
       "      <td>0.995600</td>\n",
       "      <td>3.210000</td>\n",
       "      <td>0.550000</td>\n",
       "      <td>9.500000</td>\n",
       "      <td>5.000000</td>\n",
       "    </tr>\n",
       "    <tr>\n",
       "      <th>50%</th>\n",
       "      <td>7.900000</td>\n",
       "      <td>0.520000</td>\n",
       "      <td>0.260000</td>\n",
       "      <td>2.200000</td>\n",
       "      <td>0.079000</td>\n",
       "      <td>14.000000</td>\n",
       "      <td>38.000000</td>\n",
       "      <td>0.996750</td>\n",
       "      <td>3.310000</td>\n",
       "      <td>0.620000</td>\n",
       "      <td>10.200000</td>\n",
       "      <td>6.000000</td>\n",
       "    </tr>\n",
       "    <tr>\n",
       "      <th>75%</th>\n",
       "      <td>9.200000</td>\n",
       "      <td>0.640000</td>\n",
       "      <td>0.420000</td>\n",
       "      <td>2.600000</td>\n",
       "      <td>0.090000</td>\n",
       "      <td>21.000000</td>\n",
       "      <td>62.000000</td>\n",
       "      <td>0.997835</td>\n",
       "      <td>3.400000</td>\n",
       "      <td>0.730000</td>\n",
       "      <td>11.100000</td>\n",
       "      <td>6.000000</td>\n",
       "    </tr>\n",
       "    <tr>\n",
       "      <th>max</th>\n",
       "      <td>15.900000</td>\n",
       "      <td>1.580000</td>\n",
       "      <td>1.000000</td>\n",
       "      <td>15.500000</td>\n",
       "      <td>0.611000</td>\n",
       "      <td>72.000000</td>\n",
       "      <td>289.000000</td>\n",
       "      <td>1.003690</td>\n",
       "      <td>4.010000</td>\n",
       "      <td>2.000000</td>\n",
       "      <td>14.900000</td>\n",
       "      <td>8.000000</td>\n",
       "    </tr>\n",
       "  </tbody>\n",
       "</table>\n",
       "</div>"
      ],
      "text/plain": [
       "       fixed acidity  volatile acidity  citric acid  residual sugar    chlorides  free sulfur dioxide  total sulfur dioxide      density           pH    sulphates      alcohol      quality\n",
       "count    1599.000000       1599.000000  1599.000000     1599.000000  1599.000000          1599.000000           1599.000000  1599.000000  1599.000000  1599.000000  1599.000000  1599.000000\n",
       "mean        8.319637          0.527821     0.270976        2.538806     0.087467            15.874922             46.467792     0.996747     3.311113     0.658149    10.422983     5.636023\n",
       "std         1.741096          0.179060     0.194801        1.409928     0.047065            10.460157             32.895324     0.001887     0.154386     0.169507     1.065668     0.807569\n",
       "min         4.600000          0.120000     0.000000        0.900000     0.012000             1.000000              6.000000     0.990070     2.740000     0.330000     8.400000     3.000000\n",
       "25%         7.100000          0.390000     0.090000        1.900000     0.070000             7.000000             22.000000     0.995600     3.210000     0.550000     9.500000     5.000000\n",
       "50%         7.900000          0.520000     0.260000        2.200000     0.079000            14.000000             38.000000     0.996750     3.310000     0.620000    10.200000     6.000000\n",
       "75%         9.200000          0.640000     0.420000        2.600000     0.090000            21.000000             62.000000     0.997835     3.400000     0.730000    11.100000     6.000000\n",
       "max        15.900000          1.580000     1.000000       15.500000     0.611000            72.000000            289.000000     1.003690     4.010000     2.000000    14.900000     8.000000"
      ]
     },
     "execution_count": 7,
     "metadata": {},
     "output_type": "execute_result"
    }
   ],
   "source": [
    "df_red.describe()"
   ]
  },
  {
   "cell_type": "code",
   "execution_count": 11,
   "id": "b48f6990",
   "metadata": {},
   "outputs": [
    {
     "data": {
      "text/plain": [
       "count    1599.000000\n",
       "mean       15.874922\n",
       "std        10.460157\n",
       "min         1.000000\n",
       "25%         7.000000\n",
       "50%        14.000000\n",
       "75%        21.000000\n",
       "max        72.000000\n",
       "Name: free sulfur dioxide, dtype: float64"
      ]
     },
     "execution_count": 11,
     "metadata": {},
     "output_type": "execute_result"
    }
   ],
   "source": [
    "df_red['free sulfur dioxide'].describe()"
   ]
  },
  {
   "cell_type": "code",
   "execution_count": 12,
   "id": "ab99e929",
   "metadata": {},
   "outputs": [
    {
     "data": {
      "text/plain": [
       "14.0"
      ]
     },
     "execution_count": 12,
     "metadata": {},
     "output_type": "execute_result"
    }
   ],
   "source": [
    "df_red['free sulfur dioxide'].median()"
   ]
  },
  {
   "cell_type": "code",
   "execution_count": 13,
   "id": "ab163ab6",
   "metadata": {},
   "outputs": [
    {
     "data": {
      "text/plain": [
       "DescribeResult(nobs=1599, minmax=(1.0, 72.0), mean=15.874921826141339, variance=109.414883833059, skewness=1.249393847434253, kurtosis=2.01348999733378)"
      ]
     },
     "execution_count": 13,
     "metadata": {},
     "output_type": "execute_result"
    }
   ],
   "source": [
    "from scipy.stats import describe\n",
    "X = df_red['free sulfur dioxide']\n",
    "describe(X)"
   ]
  },
  {
   "cell_type": "code",
   "execution_count": 10,
   "id": "b9a2dd6c",
   "metadata": {
    "scrolled": false
   },
   "outputs": [
    {
     "data": {
      "text/plain": [
       "<AxesSubplot:xlabel='free sulfur dioxide', ylabel='Count'>"
      ]
     },
     "execution_count": 10,
     "metadata": {},
     "output_type": "execute_result"
    },
    {
     "data": {
      "image/png": "[encoded data removed]",
      "text/plain": [
       "<Figure size 1080x576 with 1 Axes>"
      ]
     },
     "metadata": {},
     "output_type": "display_data"
    }
   ],
   "source": [
    "sns.histplot(df_red['free sulfur dioxide'], kde=True)"
   ]
  },
  {
   "cell_type": "markdown",
   "id": "fadb6649",
   "metadata": {},
   "source": [
    "## Standardization"
   ]
  },
  {
   "cell_type": "code",
   "execution_count": 18,
   "id": "4043ec01",
   "metadata": {},
   "outputs": [
    {
     "data": {
      "text/plain": [
       "0       11.0\n",
       "1       25.0\n",
       "2       15.0\n",
       "3       17.0\n",
       "4       11.0\n",
       "5       13.0\n",
       "6       15.0\n",
       "7       15.0\n",
       "8        9.0\n",
       "9       17.0\n",
       "10      15.0\n",
       "11      17.0\n",
       "12      16.0\n",
       "13       9.0\n",
       "14      52.0\n",
       "15      51.0\n",
       "16      35.0\n",
       "17      16.0\n",
       "18       6.0\n",
       "19      17.0\n",
       "20      29.0\n",
       "21      23.0\n",
       "22      10.0\n",
       "23       9.0\n",
       "24      21.0\n",
       "25      11.0\n",
       "26       4.0\n",
       "27      10.0\n",
       "28      14.0\n",
       "29       8.0\n",
       "30      17.0\n",
       "31      22.0\n",
       "32      15.0\n",
       "33      40.0\n",
       "34      13.0\n",
       "35       5.0\n",
       "36       3.0\n",
       "37      13.0\n",
       "38       7.0\n",
       "39      12.0\n",
       "40      12.0\n",
       "41      17.0\n",
       "42       8.0\n",
       "43       9.0\n",
       "44       5.0\n",
       "45       8.0\n",
       "46      22.0\n",
       "47      12.0\n",
       "48       5.0\n",
       "49      12.0\n",
       "50       4.0\n",
       "51       8.0\n",
       "52       6.0\n",
       "53      30.0\n",
       "54      33.0\n",
       "55      25.0\n",
       "56       4.0\n",
       "57      50.0\n",
       "58      17.0\n",
       "59       9.0\n",
       "60      19.0\n",
       "61      20.0\n",
       "62      12.0\n",
       "63      13.0\n",
       "64       4.0\n",
       "65       4.0\n",
       "66      11.0\n",
       "67       6.0\n",
       "68      27.0\n",
       "69       8.0\n",
       "70      15.0\n",
       "71      17.0\n",
       "72      18.0\n",
       "73      11.0\n",
       "74      28.0\n",
       "75       9.0\n",
       "76       9.0\n",
       "77      14.0\n",
       "78      12.0\n",
       "79      27.0\n",
       "80       3.0\n",
       "81      22.0\n",
       "82      21.0\n",
       "83      16.0\n",
       "84      18.0\n",
       "85      19.0\n",
       "86      20.0\n",
       "87       9.0\n",
       "88      34.0\n",
       "89       8.0\n",
       "90      42.0\n",
       "91      20.0\n",
       "92      19.0\n",
       "93       9.0\n",
       "94      41.0\n",
       "95      17.0\n",
       "96       8.0\n",
       "97       3.0\n",
       "98       5.0\n",
       "99      13.0\n",
       "100     11.0\n",
       "101      8.0\n",
       "102     13.0\n",
       "103     12.0\n",
       "104      5.0\n",
       "105     12.0\n",
       "106     18.0\n",
       "107     15.0\n",
       "108     18.0\n",
       "109     37.0\n",
       "110     12.0\n",
       "111     11.0\n",
       "112     14.0\n",
       "113     22.0\n",
       "114     12.0\n",
       "115     13.0\n",
       "116     11.0\n",
       "117      7.0\n",
       "118     14.0\n",
       "119     22.0\n",
       "120     10.0\n",
       "121     14.0\n",
       "122      3.0\n",
       "123     11.0\n",
       "124     21.0\n",
       "125     27.0\n",
       "126      3.0\n",
       "127      3.0\n",
       "128      3.0\n",
       "129      6.0\n",
       "130     30.0\n",
       "131     17.0\n",
       "132     17.0\n",
       "133     17.0\n",
       "134     13.0\n",
       "135     16.0\n",
       "136     10.0\n",
       "137     13.0\n",
       "138     15.0\n",
       "139     17.0\n",
       "140     16.0\n",
       "141     10.0\n",
       "142     27.0\n",
       "143      3.0\n",
       "144     27.0\n",
       "145     32.0\n",
       "146     21.0\n",
       "147     10.0\n",
       "148     12.0\n",
       "149     11.0\n",
       "150      5.0\n",
       "151     32.0\n",
       "152     25.0\n",
       "153     25.0\n",
       "154     29.0\n",
       "155     28.0\n",
       "156     29.0\n",
       "157     28.0\n",
       "158     12.0\n",
       "159     18.0\n",
       "160      7.0\n",
       "161      9.0\n",
       "162     17.0\n",
       "163     36.0\n",
       "164     35.0\n",
       "165     14.0\n",
       "166     18.0\n",
       "167     17.0\n",
       "168     11.0\n",
       "169     15.0\n",
       "170      4.0\n",
       "171      6.0\n",
       "172      6.0\n",
       "173     24.0\n",
       "174      7.0\n",
       "175     19.0\n",
       "176      7.0\n",
       "177      8.0\n",
       "178      7.0\n",
       "179     10.0\n",
       "180     10.0\n",
       "181     23.0\n",
       "182     16.0\n",
       "183     11.0\n",
       "184      8.0\n",
       "185     26.0\n",
       "186     14.0\n",
       "187      9.0\n",
       "188     15.0\n",
       "189     17.0\n",
       "190     21.0\n",
       "191     21.0\n",
       "192     16.0\n",
       "193      7.0\n",
       "194      7.0\n",
       "195     24.0\n",
       "196     15.0\n",
       "197     12.0\n",
       "198     13.0\n",
       "199     12.0\n",
       "200      9.0\n",
       "201     39.0\n",
       "202     16.0\n",
       "203     16.0\n",
       "204     14.0\n",
       "205      9.0\n",
       "206      9.0\n",
       "207     26.0\n",
       "208     18.0\n",
       "209      7.0\n",
       "210      5.0\n",
       "211     10.0\n",
       "212      5.0\n",
       "213     28.0\n",
       "214     10.0\n",
       "215     26.0\n",
       "216     13.0\n",
       "217     11.0\n",
       "218     10.0\n",
       "219     24.0\n",
       "220     24.0\n",
       "221     16.0\n",
       "222      5.0\n",
       "223      8.0\n",
       "224     15.0\n",
       "225     29.0\n",
       "226     27.0\n",
       "227      9.0\n",
       "228     29.0\n",
       "229     10.0\n",
       "230     19.0\n",
       "231     12.0\n",
       "232     18.0\n",
       "233     10.0\n",
       "234      7.0\n",
       "235     14.0\n",
       "236     14.0\n",
       "237     15.0\n",
       "238     14.0\n",
       "239      7.0\n",
       "240      5.0\n",
       "241      6.0\n",
       "242     28.0\n",
       "243     10.0\n",
       "244     10.0\n",
       "245      6.0\n",
       "246     16.0\n",
       "247     11.0\n",
       "248      9.0\n",
       "249      6.0\n",
       "250     16.0\n",
       "251     16.0\n",
       "252      5.0\n",
       "253      8.0\n",
       "254     16.0\n",
       "255     17.0\n",
       "256      5.0\n",
       "257     12.0\n",
       "258      8.0\n",
       "259     14.0\n",
       "260     18.0\n",
       "261     12.0\n",
       "262     10.0\n",
       "263     23.0\n",
       "264      5.0\n",
       "265      6.0\n",
       "266     26.0\n",
       "267     15.0\n",
       "268      7.0\n",
       "269      4.0\n",
       "270     27.0\n",
       "271      4.0\n",
       "272     17.0\n",
       "273     10.0\n",
       "274     27.0\n",
       "275     27.0\n",
       "276      7.0\n",
       "277      4.0\n",
       "278      5.0\n",
       "279     10.0\n",
       "280      6.0\n",
       "281      5.0\n",
       "282     12.0\n",
       "283     10.0\n",
       "284     32.0\n",
       "285     32.0\n",
       "286     25.0\n",
       "287     29.0\n",
       "288     20.0\n",
       "289     33.0\n",
       "290     20.0\n",
       "291      6.0\n",
       "292     18.0\n",
       "293      5.0\n",
       "294     17.0\n",
       "295      5.0\n",
       "296     26.0\n",
       "297      8.0\n",
       "298      5.0\n",
       "299      8.0\n",
       "300     20.0\n",
       "301      7.0\n",
       "302     12.0\n",
       "303      5.0\n",
       "304     12.0\n",
       "305      6.0\n",
       "306      7.0\n",
       "307      6.0\n",
       "308      5.0\n",
       "309      9.0\n",
       "310      6.0\n",
       "311     15.0\n",
       "312     19.0\n",
       "313     30.0\n",
       "314     26.0\n",
       "315     20.0\n",
       "316     37.0\n",
       "317     30.0\n",
       "318     21.0\n",
       "319     30.0\n",
       "320     21.0\n",
       "321     25.0\n",
       "322      6.0\n",
       "323     35.0\n",
       "324     13.0\n",
       "325     13.0\n",
       "326      6.0\n",
       "327      5.0\n",
       "328      6.0\n",
       "329      7.0\n",
       "330     10.0\n",
       "331     10.0\n",
       "332     21.0\n",
       "333     16.0\n",
       "334     17.0\n",
       "335      7.0\n",
       "336      6.0\n",
       "337     29.0\n",
       "338     28.0\n",
       "339     12.0\n",
       "340     10.0\n",
       "341      5.0\n",
       "342      6.0\n",
       "343      6.0\n",
       "344      6.0\n",
       "345     40.0\n",
       "346     17.0\n",
       "347      6.0\n",
       "348     15.0\n",
       "349     11.0\n",
       "350     17.0\n",
       "351     11.0\n",
       "352      8.0\n",
       "353     23.0\n",
       "354     40.5\n",
       "355     17.0\n",
       "356     29.0\n",
       "357     12.0\n",
       "358     10.0\n",
       "359     10.0\n",
       "360     14.0\n",
       "361     21.0\n",
       "362      6.0\n",
       "363      6.0\n",
       "364      7.0\n",
       "365      7.0\n",
       "366      7.0\n",
       "367     11.0\n",
       "368     15.0\n",
       "369      6.0\n",
       "370     35.0\n",
       "371     11.0\n",
       "372     26.0\n",
       "373     12.0\n",
       "374      6.0\n",
       "375      6.0\n",
       "376     19.0\n",
       "377      6.0\n",
       "378      6.0\n",
       "379     24.0\n",
       "380     11.0\n",
       "381     17.0\n",
       "382     11.0\n",
       "383     11.0\n",
       "384     23.0\n",
       "385     11.0\n",
       "386     23.0\n",
       "387     17.0\n",
       "388     23.0\n",
       "389     16.0\n",
       "390     12.0\n",
       "391     17.0\n",
       "392      6.0\n",
       "393     13.0\n",
       "394      6.0\n",
       "395      7.0\n",
       "396     68.0\n",
       "397     13.0\n",
       "398     13.0\n",
       "399      9.0\n",
       "400     68.0\n",
       "401     20.0\n",
       "402     19.0\n",
       "403     10.0\n",
       "404     15.0\n",
       "405     11.0\n",
       "406      9.0\n",
       "407     12.0\n",
       "408      6.0\n",
       "409     26.0\n",
       "410     26.0\n",
       "411     23.0\n",
       "412     15.0\n",
       "413      6.0\n",
       "414     24.0\n",
       "415     31.0\n",
       "416      6.0\n",
       "417     34.0\n",
       "418      7.0\n",
       "419     34.0\n",
       "420     35.0\n",
       "421     32.0\n",
       "422     15.0\n",
       "423      6.0\n",
       "424     15.0\n",
       "425     32.0\n",
       "426     19.0\n",
       "427      6.0\n",
       "428      9.0\n",
       "429     13.0\n",
       "430      6.0\n",
       "431     21.0\n",
       "432     12.0\n",
       "433      6.0\n",
       "434     22.0\n",
       "435      6.0\n",
       "436     38.0\n",
       "437      6.0\n",
       "438     22.0\n",
       "439      7.0\n",
       "440      6.0\n",
       "441      7.0\n",
       "442      6.0\n",
       "443     11.0\n",
       "444      5.0\n",
       "445      6.0\n",
       "446     31.0\n",
       "447      6.0\n",
       "448      7.0\n",
       "449     17.0\n",
       "450     17.0\n",
       "451      9.0\n",
       "452     18.0\n",
       "453      5.0\n",
       "454     21.0\n",
       "455      6.0\n",
       "456      5.0\n",
       "457     29.0\n",
       "458      5.0\n",
       "459     10.0\n",
       "460     14.0\n",
       "461      6.0\n",
       "462     10.0\n",
       "463     25.0\n",
       "464      5.0\n",
       "465     10.0\n",
       "466     21.0\n",
       "467      7.0\n",
       "468      6.0\n",
       "469     36.0\n",
       "470     15.0\n",
       "471     25.0\n",
       "472     25.0\n",
       "473      5.0\n",
       "474     10.0\n",
       "475      5.0\n",
       "476      6.0\n",
       "477      6.0\n",
       "478      5.0\n",
       "479      6.0\n",
       "480      6.0\n",
       "481      6.0\n",
       "482      6.0\n",
       "483      7.0\n",
       "484      6.0\n",
       "485      6.0\n",
       "486      6.0\n",
       "487      5.0\n",
       "488     35.0\n",
       "489     10.0\n",
       "490     24.0\n",
       "491     12.0\n",
       "492     13.0\n",
       "493     23.0\n",
       "494     28.0\n",
       "495      5.0\n",
       "496     14.0\n",
       "497     43.0\n",
       "498      5.0\n",
       "499     23.0\n",
       "500     14.0\n",
       "501     38.0\n",
       "502     38.0\n",
       "503      6.0\n",
       "504      6.0\n",
       "505     10.0\n",
       "506      6.0\n",
       "507      6.0\n",
       "508     26.0\n",
       "509     23.0\n",
       "510     19.0\n",
       "511     26.0\n",
       "512     15.0\n",
       "513      6.0\n",
       "514      6.0\n",
       "515     34.0\n",
       "516      5.0\n",
       "517      5.0\n",
       "518     11.0\n",
       "519     39.0\n",
       "520     15.0\n",
       "521     16.0\n",
       "522     47.0\n",
       "523     38.0\n",
       "524     23.0\n",
       "525     29.0\n",
       "526     39.0\n",
       "527     33.0\n",
       "528     32.0\n",
       "529      6.0\n",
       "530      1.0\n",
       "531     12.0\n",
       "532     12.0\n",
       "533     15.0\n",
       "534     13.0\n",
       "535      1.0\n",
       "536      6.0\n",
       "537      5.0\n",
       "538      5.0\n",
       "539      5.0\n",
       "540     20.0\n",
       "541      5.0\n",
       "542      5.0\n",
       "543     16.0\n",
       "544      6.0\n",
       "545     38.0\n",
       "546     10.0\n",
       "547      6.0\n",
       "548     27.0\n",
       "549      6.0\n",
       "550      9.0\n",
       "551     14.0\n",
       "552     14.0\n",
       "553     32.0\n",
       "554     10.0\n",
       "555     10.0\n",
       "556     10.0\n",
       "557     10.0\n",
       "558     10.0\n",
       "559      6.0\n",
       "560      5.0\n",
       "561     26.0\n",
       "562     41.0\n",
       "563     25.0\n",
       "564      6.0\n",
       "565      5.0\n",
       "566      5.0\n",
       "567      5.0\n",
       "568      5.0\n",
       "569     19.0\n",
       "570     10.0\n",
       "571     19.0\n",
       "572     10.0\n",
       "573     14.0\n",
       "574     20.0\n",
       "575     28.0\n",
       "576      6.0\n",
       "577     18.0\n",
       "578     17.0\n",
       "579     18.0\n",
       "580      5.0\n",
       "581      5.0\n",
       "582      5.0\n",
       "583     10.0\n",
       "584     54.0\n",
       "585      8.0\n",
       "586     16.0\n",
       "587     18.0\n",
       "588     19.0\n",
       "589      5.0\n",
       "590     21.0\n",
       "591     23.0\n",
       "592     21.0\n",
       "593      9.0\n",
       "594     20.0\n",
       "595     30.0\n",
       "596      6.0\n",
       "597      5.0\n",
       "598      5.0\n",
       "599     11.0\n",
       "600      7.0\n",
       "601     12.0\n",
       "602      6.0\n",
       "603     12.0\n",
       "604     14.0\n",
       "605      6.0\n",
       "606     10.0\n",
       "607     26.0\n",
       "608     11.0\n",
       "609     15.0\n",
       "610     25.0\n",
       "611      5.0\n",
       "612     18.0\n",
       "613     10.0\n",
       "614     10.0\n",
       "615     28.0\n",
       "616     28.0\n",
       "617     14.0\n",
       "618      4.0\n",
       "619      6.0\n",
       "620     16.0\n",
       "621     14.0\n",
       "622      9.0\n",
       "623     21.0\n",
       "624     21.0\n",
       "625     21.0\n",
       "626      5.0\n",
       "627      5.0\n",
       "628      7.0\n",
       "629     20.0\n",
       "630      7.0\n",
       "631      5.0\n",
       "632     21.0\n",
       "633     11.0\n",
       "634     46.0\n",
       "635     24.0\n",
       "636     30.0\n",
       "637     31.0\n",
       "638      7.0\n",
       "639     25.0\n",
       "640     16.0\n",
       "641     21.0\n",
       "642     16.0\n",
       "643     21.0\n",
       "644     16.0\n",
       "645      5.0\n",
       "646      6.0\n",
       "647      5.0\n",
       "648     10.0\n",
       "649     24.0\n",
       "650      8.0\n",
       "651     35.0\n",
       "652     22.0\n",
       "653      9.0\n",
       "654      7.0\n",
       "655     20.0\n",
       "656      8.0\n",
       "657     23.0\n",
       "658      5.0\n",
       "659      5.0\n",
       "660      5.0\n",
       "661     15.0\n",
       "662      9.0\n",
       "663      5.0\n",
       "664     15.0\n",
       "665     25.0\n",
       "666      6.0\n",
       "667      6.0\n",
       "668     15.0\n",
       "669      6.0\n",
       "670     30.0\n",
       "671      5.0\n",
       "672     32.0\n",
       "673      5.0\n",
       "674      7.0\n",
       "675     12.0\n",
       "676      7.0\n",
       "677     12.0\n",
       "678     45.0\n",
       "679     20.0\n",
       "680     15.0\n",
       "681     16.0\n",
       "682     32.0\n",
       "683      5.0\n",
       "684     35.0\n",
       "685      5.0\n",
       "686     13.0\n",
       "687     13.0\n",
       "688      4.0\n",
       "689      5.0\n",
       "690      5.0\n",
       "691     12.0\n",
       "692     16.0\n",
       "693     21.0\n",
       "694     24.0\n",
       "695     18.0\n",
       "696      8.0\n",
       "697      8.0\n",
       "698     18.0\n",
       "699      5.0\n",
       "700     26.0\n",
       "701      8.0\n",
       "702      9.0\n",
       "703     22.0\n",
       "704      4.0\n",
       "705     11.0\n",
       "706     10.0\n",
       "707     16.0\n",
       "708     11.0\n",
       "709     13.0\n",
       "710     21.0\n",
       "711     16.0\n",
       "712     13.0\n",
       "713     10.0\n",
       "714     21.0\n",
       "715     13.0\n",
       "716     10.0\n",
       "717     12.0\n",
       "718     10.0\n",
       "719     17.0\n",
       "720     10.0\n",
       "721     35.0\n",
       "722     15.0\n",
       "723     36.0\n",
       "724      5.0\n",
       "725      5.0\n",
       "726     18.0\n",
       "727      4.0\n",
       "728      4.0\n",
       "729     27.0\n",
       "730     12.0\n",
       "731      4.0\n",
       "732     10.0\n",
       "733     16.0\n",
       "734      9.0\n",
       "735     11.0\n",
       "736     11.0\n",
       "737     19.0\n",
       "738     28.0\n",
       "739     19.0\n",
       "740     12.0\n",
       "741     28.0\n",
       "742      9.0\n",
       "743     25.0\n",
       "744     21.0\n",
       "745     12.0\n",
       "746     12.0\n",
       "747     16.0\n",
       "748     12.0\n",
       "749     12.0\n",
       "750     17.0\n",
       "751     17.0\n",
       "752     24.0\n",
       "753     17.0\n",
       "754     14.0\n",
       "755     22.0\n",
       "756     15.0\n",
       "757     10.0\n",
       "758     10.0\n",
       "759     33.0\n",
       "760      9.0\n",
       "761      5.0\n",
       "762      8.0\n",
       "763      5.0\n",
       "764     11.0\n",
       "765     12.0\n",
       "766     12.0\n",
       "767     13.0\n",
       "768     24.0\n",
       "769      7.0\n",
       "770     24.0\n",
       "771     23.0\n",
       "772     23.0\n",
       "773      1.0\n",
       "774      2.0\n",
       "775      7.0\n",
       "776      5.5\n",
       "777      6.0\n",
       "778      7.0\n",
       "779     21.0\n",
       "780     12.0\n",
       "781      9.0\n",
       "782     26.0\n",
       "783      9.0\n",
       "784     20.0\n",
       "785     11.0\n",
       "786     11.0\n",
       "787     19.0\n",
       "788     19.0\n",
       "789     21.0\n",
       "790     18.0\n",
       "791     25.0\n",
       "792     17.0\n",
       "793      7.0\n",
       "794      7.0\n",
       "795      7.0\n",
       "796     24.0\n",
       "797     21.0\n",
       "798      5.0\n",
       "799      5.0\n",
       "800     26.0\n",
       "801      8.0\n",
       "802     14.0\n",
       "803     14.0\n",
       "804      4.0\n",
       "805      4.0\n",
       "806      4.0\n",
       "807      4.0\n",
       "808      4.0\n",
       "809      4.0\n",
       "810      4.0\n",
       "811      7.0\n",
       "812     20.0\n",
       "813      4.0\n",
       "814     19.0\n",
       "815     20.0\n",
       "816      8.0\n",
       "817     19.0\n",
       "818     21.0\n",
       "819      9.0\n",
       "820      9.0\n",
       "821     16.0\n",
       "822     15.0\n",
       "823     15.0\n",
       "824      6.0\n",
       "825     15.0\n",
       "826      4.0\n",
       "827     15.0\n",
       "828     34.0\n",
       "829     16.0\n",
       "830      5.0\n",
       "831     16.0\n",
       "832     34.0\n",
       "833     36.0\n",
       "834     16.0\n",
       "835     27.0\n",
       "836     36.0\n",
       "837     36.0\n",
       "838      9.0\n",
       "839     13.0\n",
       "840      9.0\n",
       "841     21.0\n",
       "842     34.0\n",
       "843      9.0\n",
       "844     26.0\n",
       "845     14.0\n",
       "846     14.0\n",
       "847     12.0\n",
       "848     14.0\n",
       "849     12.0\n",
       "850      9.0\n",
       "851      9.0\n",
       "852     26.0\n",
       "853     41.0\n",
       "854     41.0\n",
       "855     10.0\n",
       "856     41.0\n",
       "857     16.0\n",
       "858     17.0\n",
       "859     15.0\n",
       "860     15.0\n",
       "861     15.0\n",
       "862      7.0\n",
       "863     17.0\n",
       "864     15.0\n",
       "865     16.0\n",
       "866     13.0\n",
       "867     13.0\n",
       "868     15.0\n",
       "869     27.0\n",
       "870     31.0\n",
       "871     36.0\n",
       "872     28.0\n",
       "873      6.0\n",
       "874      6.0\n",
       "875      7.0\n",
       "876      7.0\n",
       "877     31.0\n",
       "878     30.0\n",
       "879     18.0\n",
       "880     10.0\n",
       "881     30.0\n",
       "882     14.0\n",
       "883     18.0\n",
       "884     30.0\n",
       "885      9.0\n",
       "886      8.0\n",
       "887     29.0\n",
       "888     32.0\n",
       "889     23.0\n",
       "890     30.0\n",
       "891     16.0\n",
       "892     10.0\n",
       "893     16.0\n",
       "894     17.0\n",
       "895     27.0\n",
       "896     17.0\n",
       "897     27.0\n",
       "898     17.0\n",
       "899      6.0\n",
       "900     10.0\n",
       "901     16.0\n",
       "902     16.0\n",
       "903     11.0\n",
       "904     11.0\n",
       "905     15.0\n",
       "906     12.0\n",
       "907      6.0\n",
       "908     34.0\n",
       "909      7.0\n",
       "910      3.0\n",
       "911      3.0\n",
       "912      4.0\n",
       "913      3.0\n",
       "914      7.0\n",
       "915      3.0\n",
       "916      7.0\n",
       "917     26.0\n",
       "918     32.0\n",
       "919     38.0\n",
       "920     10.0\n",
       "921     32.0\n",
       "922     38.0\n",
       "923     26.0\n",
       "924     14.0\n",
       "925     53.0\n",
       "926     52.0\n",
       "927     11.0\n",
       "928     14.0\n",
       "929     10.0\n",
       "930      8.0\n",
       "931     13.0\n",
       "932     29.0\n",
       "933     13.0\n",
       "934      8.0\n",
       "935     19.0\n",
       "936     19.0\n",
       "937      6.0\n",
       "938     23.0\n",
       "939      7.0\n",
       "940     13.0\n",
       "941      9.0\n",
       "942     13.0\n",
       "943     10.0\n",
       "944     11.0\n",
       "945      7.0\n",
       "946     11.0\n",
       "947      6.0\n",
       "948     10.0\n",
       "949     10.0\n",
       "950     10.0\n",
       "951      6.0\n",
       "952      6.0\n",
       "953      5.0\n",
       "954      6.0\n",
       "955      9.0\n",
       "956      5.0\n",
       "957     12.0\n",
       "958     25.0\n",
       "959     12.0\n",
       "960     18.0\n",
       "961      7.0\n",
       "962      6.0\n",
       "963     20.0\n",
       "964     18.0\n",
       "965     24.0\n",
       "966      6.0\n",
       "967     23.0\n",
       "968     29.0\n",
       "969      7.0\n",
       "970      6.0\n",
       "971      6.0\n",
       "972      6.0\n",
       "973      6.0\n",
       "974      7.0\n",
       "975     35.0\n",
       "976     35.0\n",
       "977     31.0\n",
       "978      9.0\n",
       "979      3.0\n",
       "980      8.0\n",
       "981     13.0\n",
       "982     51.0\n",
       "983      8.0\n",
       "984      3.0\n",
       "985      7.0\n",
       "986      3.0\n",
       "987     35.0\n",
       "988     19.0\n",
       "989     14.0\n",
       "990     19.0\n",
       "991     31.0\n",
       "992     30.0\n",
       "993     31.0\n",
       "994     20.0\n",
       "995     19.0\n",
       "996      3.0\n",
       "997      3.0\n",
       "998      4.0\n",
       "999      7.0\n",
       "1000     6.0\n",
       "1001    31.0\n",
       "1002    13.0\n",
       "1003     4.0\n",
       "1004    27.0\n",
       "1005     4.0\n",
       "1006    13.0\n",
       "1007    12.0\n",
       "1008    12.0\n",
       "1009    26.0\n",
       "1010     7.0\n",
       "1011    12.0\n",
       "1012    11.0\n",
       "1013    22.0\n",
       "1014     3.0\n",
       "1015    14.0\n",
       "1016    12.0\n",
       "1017    36.0\n",
       "1018    36.0\n",
       "1019    10.0\n",
       "1020     3.0\n",
       "1021     3.0\n",
       "1022     4.0\n",
       "1023     3.0\n",
       "1024    12.0\n",
       "1025    17.0\n",
       "1026    14.0\n",
       "1027    28.0\n",
       "1028    41.0\n",
       "1029    12.0\n",
       "1030     9.0\n",
       "1031     9.0\n",
       "1032     5.0\n",
       "1033    14.0\n",
       "1034    15.0\n",
       "1035     5.0\n",
       "1036    26.0\n",
       "1037    20.0\n",
       "1038    25.0\n",
       "1039    21.0\n",
       "1040    16.0\n",
       "1041    13.0\n",
       "1042    21.0\n",
       "1043    18.0\n",
       "1044    12.0\n",
       "1045    32.0\n",
       "1046    33.0\n",
       "1047    27.0\n",
       "1048     3.0\n",
       "1049     6.0\n",
       "1050    27.0\n",
       "1051    16.0\n",
       "1052    19.0\n",
       "1053     9.0\n",
       "1054     5.0\n",
       "1055     5.0\n",
       "1056     3.0\n",
       "1057    28.0\n",
       "1058    30.0\n",
       "1059     3.0\n",
       "1060     3.0\n",
       "1061     7.0\n",
       "1062     6.0\n",
       "1063     6.0\n",
       "1064     5.0\n",
       "1065     6.0\n",
       "1066    13.0\n",
       "1067     3.0\n",
       "1068     3.0\n",
       "1069    28.0\n",
       "1070    19.0\n",
       "1071    30.0\n",
       "1072    33.0\n",
       "1073    16.0\n",
       "1074    30.0\n",
       "1075    45.0\n",
       "1076     3.0\n",
       "1077     3.0\n",
       "1078     3.0\n",
       "1079    37.5\n",
       "1080     3.0\n",
       "1081    37.5\n",
       "1082    31.0\n",
       "1083    32.0\n",
       "1084    31.0\n",
       "1085    40.0\n",
       "1086     3.0\n",
       "1087    18.0\n",
       "1088    22.0\n",
       "1089    22.0\n",
       "1090    42.0\n",
       "1091     8.0\n",
       "1092    10.0\n",
       "1093    11.0\n",
       "1094     9.0\n",
       "1095     6.0\n",
       "1096     9.0\n",
       "1097     5.0\n",
       "1098     5.0\n",
       "1099     5.0\n",
       "1100    23.0\n",
       "1101    14.0\n",
       "1102    18.0\n",
       "1103    14.0\n",
       "1104    16.0\n",
       "1105    13.0\n",
       "1106     9.0\n",
       "1107    10.0\n",
       "1108     4.0\n",
       "1109    27.0\n",
       "1110     6.0\n",
       "1111    23.0\n",
       "1112     6.0\n",
       "1113     3.0\n",
       "1114    29.0\n",
       "1115    15.0\n",
       "1116    15.0\n",
       "1117    15.0\n",
       "1118    14.0\n",
       "1119     7.0\n",
       "1120     8.0\n",
       "1121    21.0\n",
       "1122    27.0\n",
       "1123    17.0\n",
       "1124     3.0\n",
       "1125    13.0\n",
       "1126     3.0\n",
       "1127    26.0\n",
       "1128    28.0\n",
       "1129    24.0\n",
       "1130     5.0\n",
       "1131    57.0\n",
       "1132    18.0\n",
       "1133    10.0\n",
       "1134     6.0\n",
       "1135    22.0\n",
       "1136     6.0\n",
       "1137     6.0\n",
       "1138    29.0\n",
       "1139    16.0\n",
       "1140    33.0\n",
       "1141    24.0\n",
       "1142     6.0\n",
       "1143    16.0\n",
       "1144    35.0\n",
       "1145    31.0\n",
       "1146     6.0\n",
       "1147     6.0\n",
       "1148     9.0\n",
       "1149     6.0\n",
       "1150     4.0\n",
       "1151    16.0\n",
       "1152     9.0\n",
       "1153    17.0\n",
       "1154    50.0\n",
       "1155     9.0\n",
       "1156    45.0\n",
       "1157    16.0\n",
       "1158    22.0\n",
       "1159    11.0\n",
       "1160     6.0\n",
       "1161    12.0\n",
       "1162    12.0\n",
       "1163    10.0\n",
       "1164    10.0\n",
       "1165    15.0\n",
       "1166     7.0\n",
       "1167    29.0\n",
       "1168     8.0\n",
       "1169     5.0\n",
       "1170     5.0\n",
       "1171    26.0\n",
       "1172     5.0\n",
       "1173    26.0\n",
       "1174    26.0\n",
       "1175    48.0\n",
       "1176    23.0\n",
       "1177     6.0\n",
       "1178    17.0\n",
       "1179    11.0\n",
       "1180    11.0\n",
       "1181     5.0\n",
       "1182    41.0\n",
       "1183    16.0\n",
       "1184    11.0\n",
       "1185     6.0\n",
       "1186     6.0\n",
       "1187     6.0\n",
       "1188    11.0\n",
       "1189     5.0\n",
       "1190     6.0\n",
       "1191     6.0\n",
       "1192    11.0\n",
       "1193     6.0\n",
       "1194    15.0\n",
       "1195    21.0\n",
       "1196    23.0\n",
       "1197     4.0\n",
       "1198    19.0\n",
       "1199    23.0\n",
       "1200     4.0\n",
       "1201     5.0\n",
       "1202     6.0\n",
       "1203    33.0\n",
       "1204    24.0\n",
       "1205    24.0\n",
       "1206    24.0\n",
       "1207    24.0\n",
       "1208    24.0\n",
       "1209    14.0\n",
       "1210     8.0\n",
       "1211    22.0\n",
       "1212     8.0\n",
       "1213     5.0\n",
       "1214     6.0\n",
       "1215    20.0\n",
       "1216    10.0\n",
       "1217    43.0\n",
       "1218     8.0\n",
       "1219    25.0\n",
       "1220    17.0\n",
       "1221    17.0\n",
       "1222    33.0\n",
       "1223     9.0\n",
       "1224     8.0\n",
       "1225    18.0\n",
       "1226    27.0\n",
       "1227     8.0\n",
       "1228    18.0\n",
       "1229    19.0\n",
       "1230    15.0\n",
       "1231    48.0\n",
       "1232    19.0\n",
       "1233    14.0\n",
       "1234    11.0\n",
       "1235     6.0\n",
       "1236     7.0\n",
       "1237    11.0\n",
       "1238    12.0\n",
       "1239    11.0\n",
       "1240    36.0\n",
       "1241    28.0\n",
       "1242    15.0\n",
       "1243    10.0\n",
       "1244    72.0\n",
       "1245    15.0\n",
       "1246    15.0\n",
       "1247    15.0\n",
       "1248    22.0\n",
       "1249    24.0\n",
       "1250    24.0\n",
       "1251    27.0\n",
       "1252     6.0\n",
       "1253     6.0\n",
       "1254    20.0\n",
       "1255    26.0\n",
       "1256    43.0\n",
       "1257    12.0\n",
       "1258    15.0\n",
       "1259    15.0\n",
       "1260    19.0\n",
       "1261    17.0\n",
       "1262    34.0\n",
       "1263    13.0\n",
       "1264    26.0\n",
       "1265    16.0\n",
       "1266    16.0\n",
       "1267    13.0\n",
       "1268    21.0\n",
       "1269    28.0\n",
       "1270    26.0\n",
       "1271    24.0\n",
       "1272    25.0\n",
       "1273    34.0\n",
       "1274    17.0\n",
       "1275    13.0\n",
       "1276     3.0\n",
       "1277     3.0\n",
       "1278    13.0\n",
       "1279     3.0\n",
       "1280    28.0\n",
       "1281    28.0\n",
       "1282     9.0\n",
       "1283    17.0\n",
       "1284    18.0\n",
       "1285    20.0\n",
       "1286    17.0\n",
       "1287     3.0\n",
       "1288    20.0\n",
       "1289    20.0\n",
       "1290     6.0\n",
       "1291    25.0\n",
       "1292    14.0\n",
       "1293     6.0\n",
       "1294    25.0\n",
       "1295    51.0\n",
       "1296    51.0\n",
       "1297    15.0\n",
       "1298    11.0\n",
       "1299     5.0\n",
       "1300    15.0\n",
       "1301    20.0\n",
       "1302     4.0\n",
       "1303    28.0\n",
       "1304    21.0\n",
       "1305    24.0\n",
       "1306    22.0\n",
       "1307    15.0\n",
       "1308    22.0\n",
       "1309    27.0\n",
       "1310    24.0\n",
       "1311    12.0\n",
       "1312    14.0\n",
       "1313    20.0\n",
       "1314    24.0\n",
       "1315    17.0\n",
       "1316    16.0\n",
       "1317    10.0\n",
       "1318    17.0\n",
       "1319    18.0\n",
       "1320    12.0\n",
       "1321    16.0\n",
       "1322     9.0\n",
       "1323    21.0\n",
       "1324    18.0\n",
       "1325    18.0\n",
       "1326    18.0\n",
       "1327    18.0\n",
       "1328    13.0\n",
       "1329    17.0\n",
       "1330    17.0\n",
       "1331    31.0\n",
       "1332     6.0\n",
       "1333    12.0\n",
       "1334     4.0\n",
       "1335    19.0\n",
       "1336    15.0\n",
       "1337    15.0\n",
       "1338    15.0\n",
       "1339    13.0\n",
       "1340    13.0\n",
       "1341    13.0\n",
       "1342    17.0\n",
       "1343    13.0\n",
       "1344     8.0\n",
       "1345    10.0\n",
       "1346     5.0\n",
       "1347     7.0\n",
       "1348     7.0\n",
       "1349    21.0\n",
       "1350    32.0\n",
       "1351     8.0\n",
       "1352    14.0\n",
       "1353    14.0\n",
       "1354     7.0\n",
       "1355     5.0\n",
       "1356     4.0\n",
       "1357    27.0\n",
       "1358    52.0\n",
       "1359     6.0\n",
       "1360    11.0\n",
       "1361    13.0\n",
       "1362     6.0\n",
       "1363    11.0\n",
       "1364    10.0\n",
       "1365    10.0\n",
       "1366    10.0\n",
       "1367     9.0\n",
       "1368    16.0\n",
       "1369     4.0\n",
       "1370    12.0\n",
       "1371     5.0\n",
       "1372    12.0\n",
       "1373    34.0\n",
       "1374    16.0\n",
       "1375    13.0\n",
       "1376     7.0\n",
       "1377    23.0\n",
       "1378    10.0\n",
       "1379    11.0\n",
       "1380    11.0\n",
       "1381     4.0\n",
       "1382    25.0\n",
       "1383    25.0\n",
       "1384    20.0\n",
       "1385    34.0\n",
       "1386     8.0\n",
       "1387     8.0\n",
       "1388     7.0\n",
       "1389    36.0\n",
       "1390    15.0\n",
       "1391     5.0\n",
       "1392     5.0\n",
       "1393    19.0\n",
       "1394    27.0\n",
       "1395     3.0\n",
       "1396     4.0\n",
       "1397    17.0\n",
       "1398    13.0\n",
       "1399    10.0\n",
       "1400    33.0\n",
       "1401    33.0\n",
       "1402     6.0\n",
       "1403     3.0\n",
       "1404    12.0\n",
       "1405    18.0\n",
       "1406     8.0\n",
       "1407    40.0\n",
       "1408    35.0\n",
       "1409    40.0\n",
       "1410     5.0\n",
       "1411     8.0\n",
       "1412     8.0\n",
       "1413    12.0\n",
       "1414     3.0\n",
       "1415     8.0\n",
       "1416     3.0\n",
       "1417    21.0\n",
       "1418     3.0\n",
       "1419    32.0\n",
       "1420     3.0\n",
       "1421    24.0\n",
       "1422    39.0\n",
       "1423    14.0\n",
       "1424     8.0\n",
       "1425     8.0\n",
       "1426    23.0\n",
       "1427     6.0\n",
       "1428    27.0\n",
       "1429    38.0\n",
       "1430    18.0\n",
       "1431    13.0\n",
       "1432     3.0\n",
       "1433    11.0\n",
       "1434    55.0\n",
       "1435    55.0\n",
       "1436    27.0\n",
       "1437    15.0\n",
       "1438     3.0\n",
       "1439    31.0\n",
       "1440    15.0\n",
       "1441    19.0\n",
       "1442    18.0\n",
       "1443     8.0\n",
       "1444    31.0\n",
       "1445    19.0\n",
       "1446    18.0\n",
       "1447    22.0\n",
       "1448    40.0\n",
       "1449    15.0\n",
       "1450    15.0\n",
       "1451     8.0\n",
       "1452    37.0\n",
       "1453    27.0\n",
       "1454     7.0\n",
       "1455     9.0\n",
       "1456    38.0\n",
       "1457    27.0\n",
       "1458     8.0\n",
       "1459     7.0\n",
       "1460    34.0\n",
       "1461     6.0\n",
       "1462    14.0\n",
       "1463    14.0\n",
       "1464    34.0\n",
       "1465    34.0\n",
       "1466    31.0\n",
       "1467    19.0\n",
       "1468    31.0\n",
       "1469    20.0\n",
       "1470     8.0\n",
       "1471     8.0\n",
       "1472    23.0\n",
       "1473    14.0\n",
       "1474    48.0\n",
       "1475    16.0\n",
       "1476    48.0\n",
       "1477    16.0\n",
       "1478     3.0\n",
       "1479    10.0\n",
       "1480     6.0\n",
       "1481    10.0\n",
       "1482     3.0\n",
       "1483     6.0\n",
       "1484     4.0\n",
       "1485     8.0\n",
       "1486     9.0\n",
       "1487     9.0\n",
       "1488     5.0\n",
       "1489     4.0\n",
       "1490     8.0\n",
       "1491     5.0\n",
       "1492     6.0\n",
       "1493    23.0\n",
       "1494    15.0\n",
       "1495    15.0\n",
       "1496    23.0\n",
       "1497     7.0\n",
       "1498     7.0\n",
       "1499     7.0\n",
       "1500     8.0\n",
       "1501    21.0\n",
       "1502    15.0\n",
       "1503     6.0\n",
       "1504     5.0\n",
       "1505     6.0\n",
       "1506     6.0\n",
       "1507     5.0\n",
       "1508    17.0\n",
       "1509     7.0\n",
       "1510    26.0\n",
       "1511    19.0\n",
       "1512    11.0\n",
       "1513    17.0\n",
       "1514    16.0\n",
       "1515    16.0\n",
       "1516    23.0\n",
       "1517    29.0\n",
       "1518     7.0\n",
       "1519    14.0\n",
       "1520    29.0\n",
       "1521     9.0\n",
       "1522    23.0\n",
       "1523    29.0\n",
       "1524    22.0\n",
       "1525    18.0\n",
       "1526    18.0\n",
       "1527    15.0\n",
       "1528    21.0\n",
       "1529    42.0\n",
       "1530     9.0\n",
       "1531    13.0\n",
       "1532    18.0\n",
       "1533    32.0\n",
       "1534    13.0\n",
       "1535    15.0\n",
       "1536    24.0\n",
       "1537    20.0\n",
       "1538    15.0\n",
       "1539    34.0\n",
       "1540    11.0\n",
       "1541    19.0\n",
       "1542    29.0\n",
       "1543    14.0\n",
       "1544    12.0\n",
       "1545    16.0\n",
       "1546    17.0\n",
       "1547    12.0\n",
       "1548    19.0\n",
       "1549    17.0\n",
       "1550    17.0\n",
       "1551    18.0\n",
       "1552    32.0\n",
       "1553    18.0\n",
       "1554    15.0\n",
       "1555    15.0\n",
       "1556    12.0\n",
       "1557    15.0\n",
       "1558    66.0\n",
       "1559    31.0\n",
       "1560    31.0\n",
       "1561    31.0\n",
       "1562    12.0\n",
       "1563    12.0\n",
       "1564    12.0\n",
       "1565    26.0\n",
       "1566    24.0\n",
       "1567    12.0\n",
       "1568    25.0\n",
       "1569    15.0\n",
       "1570    19.0\n",
       "1571    15.0\n",
       "1572    35.0\n",
       "1573    15.0\n",
       "1574    23.0\n",
       "1575    12.0\n",
       "1576    16.0\n",
       "1577    13.0\n",
       "1578    13.0\n",
       "1579    24.0\n",
       "1580     9.0\n",
       "1581    24.0\n",
       "1582    13.0\n",
       "1583    32.0\n",
       "1584    24.0\n",
       "1585    22.0\n",
       "1586    34.0\n",
       "1587    18.0\n",
       "1588    34.0\n",
       "1589    29.0\n",
       "1590    26.0\n",
       "1591    16.0\n",
       "1592    29.0\n",
       "1593    28.0\n",
       "1594    32.0\n",
       "1595    39.0\n",
       "1596    29.0\n",
       "1597    32.0\n",
       "1598    18.0\n",
       "Name: free sulfur dioxide, dtype: float64"
      ]
     },
     "execution_count": 18,
     "metadata": {},
     "output_type": "execute_result"
    }
   ],
   "source": [
    "X"
   ]
  },
  {
   "cell_type": "code",
   "execution_count": 21,
   "id": "26308004",
   "metadata": {},
   "outputs": [],
   "source": [
    "from sklearn.preprocessing import StandardScaler\n",
    "standardScaler = StandardScaler()\n",
    "X_standardScaled = standardScaler.fit_transform(np.array(X).reshape(-1, 1))"
   ]
  },
  {
   "cell_type": "code",
   "execution_count": 22,
   "id": "33520e0b",
   "metadata": {},
   "outputs": [
    {
     "data": {
      "text/plain": [
       "array([[11.],\n",
       "       [25.],\n",
       "       [15.],\n",
       "       ...,\n",
       "       [29.],\n",
       "       [32.],\n",
       "       [18.]])"
      ]
     },
     "execution_count": 22,
     "metadata": {},
     "output_type": "execute_result"
    }
   ],
   "source": [
    "np.array(X).reshape(-1, 1)"
   ]
  },
  {
   "cell_type": "code",
   "execution_count": 23,
   "id": "fe138307",
   "metadata": {},
   "outputs": [
    {
     "data": {
      "text/plain": [
       "array([[-0.46619252],\n",
       "       [ 0.87263823],\n",
       "       [-0.08366945],\n",
       "       ...,\n",
       "       [ 1.2551613 ],\n",
       "       [ 1.54205361],\n",
       "       [ 0.20322286]])"
      ]
     },
     "execution_count": 23,
     "metadata": {},
     "output_type": "execute_result"
    }
   ],
   "source": [
    "X_standardScaled"
   ]
  },
  {
   "cell_type": "code",
   "execution_count": 28,
   "id": "50276033",
   "metadata": {},
   "outputs": [
    {
     "data": {
      "text/plain": [
       "(15.361834689650543, 16.388008962632135)"
      ]
     },
     "execution_count": 28,
     "metadata": {},
     "output_type": "execute_result"
    }
   ],
   "source": [
    "st.t.interval(alpha=0.95, df=len(X)-1, loc=np.mean(X), scale=st.sem(X)) "
   ]
  },
  {
   "cell_type": "code",
   "execution_count": 33,
   "id": "563dab70",
   "metadata": {},
   "outputs": [
    {
     "data": {
      "text/plain": [
       "<AxesSubplot:>"
      ]
     },
     "execution_count": 33,
     "metadata": {},
     "output_type": "execute_result"
    },
    {
     "data": {
      "image/png": "[encoded data removed]",
      "text/plain": [
       "<Figure size 1080x576 with 1 Axes>"
      ]
     },
     "metadata": {},
     "output_type": "display_data"
    }
   ],
   "source": [
    "X.sample(30).plot()"
   ]
  },
  {
   "cell_type": "code",
   "execution_count": 61,
   "id": "792ed5da",
   "metadata": {},
   "outputs": [
    {
     "data": {
      "text/plain": [
       "array([ 0,  1,  2,  3,  4,  5,  6,  7,  8,  9, 10, 11, 12, 13, 14, 15, 16,\n",
       "       17, 18, 19, 20, 21, 22, 23, 24, 25, 26, 27, 28, 29])"
      ]
     },
     "execution_count": 61,
     "metadata": {},
     "output_type": "execute_result"
    }
   ],
   "source": [
    "time"
   ]
  },
  {
   "cell_type": "code",
   "execution_count": 64,
   "id": "8da7a1ae",
   "metadata": {},
   "outputs": [
    {
     "data": {
      "text/plain": [
       "array([-0.46619252, -0.46619252, -0.46619252, -0.46619252, -0.46619252,\n",
       "       -0.46619252, -0.46619252, -0.46619252, -0.46619252, -0.46619252,\n",
       "       -0.46619252, -0.46619252, -0.46619252, -0.46619252, -0.46619252,\n",
       "       -0.46619252, -0.46619252, -0.46619252, -0.46619252, -0.46619252,\n",
       "       -0.46619252, -0.46619252, -0.46619252, -0.46619252, -0.46619252,\n",
       "       -0.46619252, -0.46619252, -0.46619252, -0.46619252, -0.46619252])"
      ]
     },
     "execution_count": 64,
     "metadata": {},
     "output_type": "execute_result"
    }
   ],
   "source": [
    "m"
   ]
  },
  {
   "cell_type": "code",
   "execution_count": 70,
   "id": "4786940d",
   "metadata": {
    "scrolled": false
   },
   "outputs": [
    {
     "data": {
      "image/png": "[encoded data removed]",
      "text/plain": [
       "<Figure size 1080x576 with 1 Axes>"
      ]
     },
     "metadata": {},
     "output_type": "display_data"
    }
   ],
   "source": [
    "sample_mean = []\n",
    "for i in range(0, 30):\n",
    "    np.random.seed(i)\n",
    "    x = np.random.choice(X_standardScaled.reshape(1, -1)[0].tolist(), 30)\n",
    "    sample_mean.append(x.mean())\n",
    "time = np.array(np.arange(30))\n",
    "m = np.array(sample_mean)\n",
    "plt.errorbar(time, m, fmt='bo')\n",
    "plt.show()"
   ]
  },
  {
   "cell_type": "markdown",
   "id": "0ea15d93",
   "metadata": {},
   "source": [
    "# 연습문제"
   ]
  },
  {
   "cell_type": "markdown",
   "id": "37706517",
   "metadata": {},
   "source": [
    "## 1"
   ]
  },
  {
   "cell_type": "code",
   "execution_count": 72,
   "id": "c3445533",
   "metadata": {},
   "outputs": [],
   "source": [
    "experiment = np.arange(1,21)\n",
    "count = np.array([10,12,20,14,17,20,14,13,11,17,21,11,16,14,17,2,0,1,7,2])\n",
    "A=np.tile('A',8)\n",
    "B=np.tile('B',7)\n",
    "C=np.tile('C',5)\n",
    "spray=np.concatenate((A,B,C),axis=0)"
   ]
  },
  {
   "cell_type": "code",
   "execution_count": 73,
   "id": "08f77809",
   "metadata": {},
   "outputs": [
    {
     "data": {
      "text/plain": [
       "array(['A', 'A', 'A', 'A', 'A', 'A', 'A', 'A', 'B', 'B', 'B', 'B', 'B',\n",
       "       'B', 'B', 'C', 'C', 'C', 'C', 'C'], dtype='<U1')"
      ]
     },
     "execution_count": 73,
     "metadata": {},
     "output_type": "execute_result"
    }
   ],
   "source": [
    "spray"
   ]
  },
  {
   "cell_type": "code",
   "execution_count": 74,
   "id": "3530a3b7",
   "metadata": {},
   "outputs": [],
   "source": [
    "df = pd.DataFrame({'count':count, 'spray':spray})"
   ]
  },
  {
   "cell_type": "code",
   "execution_count": 76,
   "id": "33fdcefe",
   "metadata": {},
   "outputs": [
    {
     "data": {
      "text/html": [
       "<div>\n",
       "<style scoped>\n",
       "    .dataframe tbody tr th:only-of-type {\n",
       "        vertical-align: middle;\n",
       "    }\n",
       "\n",
       "    .dataframe tbody tr th {\n",
       "        vertical-align: top;\n",
       "    }\n",
       "\n",
       "    .dataframe thead th {\n",
       "        text-align: right;\n",
       "    }\n",
       "</style>\n",
       "<table border=\"1\" class=\"dataframe\">\n",
       "  <thead>\n",
       "    <tr style=\"text-align: right;\">\n",
       "      <th></th>\n",
       "      <th>count</th>\n",
       "      <th>spray</th>\n",
       "    </tr>\n",
       "  </thead>\n",
       "  <tbody>\n",
       "    <tr>\n",
       "      <th>0</th>\n",
       "      <td>10</td>\n",
       "      <td>A</td>\n",
       "    </tr>\n",
       "    <tr>\n",
       "      <th>1</th>\n",
       "      <td>12</td>\n",
       "      <td>A</td>\n",
       "    </tr>\n",
       "    <tr>\n",
       "      <th>2</th>\n",
       "      <td>20</td>\n",
       "      <td>A</td>\n",
       "    </tr>\n",
       "    <tr>\n",
       "      <th>3</th>\n",
       "      <td>14</td>\n",
       "      <td>A</td>\n",
       "    </tr>\n",
       "    <tr>\n",
       "      <th>4</th>\n",
       "      <td>17</td>\n",
       "      <td>A</td>\n",
       "    </tr>\n",
       "    <tr>\n",
       "      <th>5</th>\n",
       "      <td>20</td>\n",
       "      <td>A</td>\n",
       "    </tr>\n",
       "    <tr>\n",
       "      <th>6</th>\n",
       "      <td>14</td>\n",
       "      <td>A</td>\n",
       "    </tr>\n",
       "    <tr>\n",
       "      <th>7</th>\n",
       "      <td>13</td>\n",
       "      <td>A</td>\n",
       "    </tr>\n",
       "    <tr>\n",
       "      <th>8</th>\n",
       "      <td>11</td>\n",
       "      <td>B</td>\n",
       "    </tr>\n",
       "    <tr>\n",
       "      <th>9</th>\n",
       "      <td>17</td>\n",
       "      <td>B</td>\n",
       "    </tr>\n",
       "    <tr>\n",
       "      <th>10</th>\n",
       "      <td>21</td>\n",
       "      <td>B</td>\n",
       "    </tr>\n",
       "    <tr>\n",
       "      <th>11</th>\n",
       "      <td>11</td>\n",
       "      <td>B</td>\n",
       "    </tr>\n",
       "    <tr>\n",
       "      <th>12</th>\n",
       "      <td>16</td>\n",
       "      <td>B</td>\n",
       "    </tr>\n",
       "    <tr>\n",
       "      <th>13</th>\n",
       "      <td>14</td>\n",
       "      <td>B</td>\n",
       "    </tr>\n",
       "    <tr>\n",
       "      <th>14</th>\n",
       "      <td>17</td>\n",
       "      <td>B</td>\n",
       "    </tr>\n",
       "    <tr>\n",
       "      <th>15</th>\n",
       "      <td>2</td>\n",
       "      <td>C</td>\n",
       "    </tr>\n",
       "    <tr>\n",
       "      <th>16</th>\n",
       "      <td>0</td>\n",
       "      <td>C</td>\n",
       "    </tr>\n",
       "    <tr>\n",
       "      <th>17</th>\n",
       "      <td>1</td>\n",
       "      <td>C</td>\n",
       "    </tr>\n",
       "    <tr>\n",
       "      <th>18</th>\n",
       "      <td>7</td>\n",
       "      <td>C</td>\n",
       "    </tr>\n",
       "    <tr>\n",
       "      <th>19</th>\n",
       "      <td>2</td>\n",
       "      <td>C</td>\n",
       "    </tr>\n",
       "  </tbody>\n",
       "</table>\n",
       "</div>"
      ],
      "text/plain": [
       "    count spray\n",
       "0      10     A\n",
       "1      12     A\n",
       "2      20     A\n",
       "3      14     A\n",
       "4      17     A\n",
       "5      20     A\n",
       "6      14     A\n",
       "7      13     A\n",
       "8      11     B\n",
       "9      17     B\n",
       "10     21     B\n",
       "11     11     B\n",
       "12     16     B\n",
       "13     14     B\n",
       "14     17     B\n",
       "15      2     C\n",
       "16      0     C\n",
       "17      1     C\n",
       "18      7     C\n",
       "19      2     C"
      ]
     },
     "execution_count": 76,
     "metadata": {},
     "output_type": "execute_result"
    }
   ],
   "source": [
    "df"
   ]
  },
  {
   "cell_type": "code",
   "execution_count": 80,
   "id": "748d3fea",
   "metadata": {},
   "outputs": [
    {
     "data": {
      "text/html": [
       "<div>\n",
       "<style scoped>\n",
       "    .dataframe tbody tr th:only-of-type {\n",
       "        vertical-align: middle;\n",
       "    }\n",
       "\n",
       "    .dataframe tbody tr th {\n",
       "        vertical-align: top;\n",
       "    }\n",
       "\n",
       "    .dataframe thead th {\n",
       "        text-align: right;\n",
       "    }\n",
       "</style>\n",
       "<table border=\"1\" class=\"dataframe\">\n",
       "  <thead>\n",
       "    <tr style=\"text-align: right;\">\n",
       "      <th></th>\n",
       "      <th>count</th>\n",
       "    </tr>\n",
       "    <tr>\n",
       "      <th>spray</th>\n",
       "      <th></th>\n",
       "    </tr>\n",
       "  </thead>\n",
       "  <tbody>\n",
       "    <tr>\n",
       "      <th>A</th>\n",
       "      <td>8</td>\n",
       "    </tr>\n",
       "    <tr>\n",
       "      <th>B</th>\n",
       "      <td>7</td>\n",
       "    </tr>\n",
       "    <tr>\n",
       "      <th>C</th>\n",
       "      <td>5</td>\n",
       "    </tr>\n",
       "  </tbody>\n",
       "</table>\n",
       "</div>"
      ],
      "text/plain": [
       "       count\n",
       "spray       \n",
       "A          8\n",
       "B          7\n",
       "C          5"
      ]
     },
     "execution_count": 80,
     "metadata": {},
     "output_type": "execute_result"
    }
   ],
   "source": [
    "#(a)\n",
    "df.groupby('spray').count()"
   ]
  },
  {
   "cell_type": "code",
   "execution_count": 85,
   "id": "71c4e52b",
   "metadata": {},
   "outputs": [
    {
     "data": {
      "image/png": "[encoded data removed]",
      "text/plain": [
       "<Figure size 1080x576 with 1 Axes>"
      ]
     },
     "metadata": {},
     "output_type": "display_data"
    }
   ],
   "source": [
    "plt.pie(x=df.groupby('spray').count()['count'],\n",
    "        labels=df.groupby('spray').count().index,\n",
    "        autopct='%.0f%%')\n",
    "plt.show()"
   ]
  },
  {
   "cell_type": "code",
   "execution_count": 87,
   "id": "5649f71a",
   "metadata": {},
   "outputs": [
    {
     "data": {
      "text/html": [
       "<div>\n",
       "<style scoped>\n",
       "    .dataframe tbody tr th:only-of-type {\n",
       "        vertical-align: middle;\n",
       "    }\n",
       "\n",
       "    .dataframe tbody tr th {\n",
       "        vertical-align: top;\n",
       "    }\n",
       "\n",
       "    .dataframe thead th {\n",
       "        text-align: right;\n",
       "    }\n",
       "</style>\n",
       "<table border=\"1\" class=\"dataframe\">\n",
       "  <thead>\n",
       "    <tr style=\"text-align: right;\">\n",
       "      <th></th>\n",
       "      <th>count</th>\n",
       "    </tr>\n",
       "  </thead>\n",
       "  <tbody>\n",
       "    <tr>\n",
       "      <th>count</th>\n",
       "      <td>20.000000</td>\n",
       "    </tr>\n",
       "    <tr>\n",
       "      <th>mean</th>\n",
       "      <td>11.950000</td>\n",
       "    </tr>\n",
       "    <tr>\n",
       "      <th>std</th>\n",
       "      <td>6.525053</td>\n",
       "    </tr>\n",
       "    <tr>\n",
       "      <th>min</th>\n",
       "      <td>0.000000</td>\n",
       "    </tr>\n",
       "    <tr>\n",
       "      <th>25%</th>\n",
       "      <td>9.250000</td>\n",
       "    </tr>\n",
       "    <tr>\n",
       "      <th>50%</th>\n",
       "      <td>13.500000</td>\n",
       "    </tr>\n",
       "    <tr>\n",
       "      <th>75%</th>\n",
       "      <td>17.000000</td>\n",
       "    </tr>\n",
       "    <tr>\n",
       "      <th>max</th>\n",
       "      <td>21.000000</td>\n",
       "    </tr>\n",
       "  </tbody>\n",
       "</table>\n",
       "</div>"
      ],
      "text/plain": [
       "           count\n",
       "count  20.000000\n",
       "mean   11.950000\n",
       "std     6.525053\n",
       "min     0.000000\n",
       "25%     9.250000\n",
       "50%    13.500000\n",
       "75%    17.000000\n",
       "max    21.000000"
      ]
     },
     "execution_count": 87,
     "metadata": {},
     "output_type": "execute_result"
    }
   ],
   "source": [
    "#(b)\n",
    "df.describe()"
   ]
  },
  {
   "cell_type": "code",
   "execution_count": 88,
   "id": "cb260868",
   "metadata": {},
   "outputs": [
    {
     "data": {
      "text/html": [
       "<div>\n",
       "<style scoped>\n",
       "    .dataframe tbody tr th:only-of-type {\n",
       "        vertical-align: middle;\n",
       "    }\n",
       "\n",
       "    .dataframe tbody tr th {\n",
       "        vertical-align: top;\n",
       "    }\n",
       "\n",
       "    .dataframe thead th {\n",
       "        text-align: right;\n",
       "    }\n",
       "</style>\n",
       "<table border=\"1\" class=\"dataframe\">\n",
       "  <thead>\n",
       "    <tr style=\"text-align: right;\">\n",
       "      <th></th>\n",
       "      <th>count</th>\n",
       "    </tr>\n",
       "    <tr>\n",
       "      <th>spray</th>\n",
       "      <th></th>\n",
       "    </tr>\n",
       "  </thead>\n",
       "  <tbody>\n",
       "    <tr>\n",
       "      <th>A</th>\n",
       "      <td>120</td>\n",
       "    </tr>\n",
       "    <tr>\n",
       "      <th>B</th>\n",
       "      <td>107</td>\n",
       "    </tr>\n",
       "    <tr>\n",
       "      <th>C</th>\n",
       "      <td>12</td>\n",
       "    </tr>\n",
       "  </tbody>\n",
       "</table>\n",
       "</div>"
      ],
      "text/plain": [
       "       count\n",
       "spray       \n",
       "A        120\n",
       "B        107\n",
       "C         12"
      ]
     },
     "execution_count": 88,
     "metadata": {},
     "output_type": "execute_result"
    }
   ],
   "source": [
    "#(c)\n",
    "df.groupby('spray').sum()"
   ]
  },
  {
   "cell_type": "markdown",
   "id": "0aba6406",
   "metadata": {},
   "source": [
    "## 2"
   ]
  },
  {
   "cell_type": "code",
   "execution_count": 89,
   "id": "68e7a5c1",
   "metadata": {},
   "outputs": [],
   "source": [
    "river=np.array([735,320,325,392,524,450,1459,135,465,600,330,336,280,\n",
    "               315,870,906,202,329,290,1000,600,505,1450,840,1243,890,\n",
    "               350,407,286,280])"
   ]
  },
  {
   "cell_type": "code",
   "execution_count": 92,
   "id": "42235448",
   "metadata": {},
   "outputs": [
    {
     "name": "stdout",
     "output_type": "stream",
     "text": [
      "570.4666666666667 428.5\n"
     ]
    }
   ],
   "source": [
    "#(a)\n",
    "print(np.mean(river), np.median(river))"
   ]
  },
  {
   "cell_type": "code",
   "execution_count": 93,
   "id": "f5ee827e",
   "metadata": {},
   "outputs": [
    {
     "data": {
      "text/html": [
       "<div>\n",
       "<style scoped>\n",
       "    .dataframe tbody tr th:only-of-type {\n",
       "        vertical-align: middle;\n",
       "    }\n",
       "\n",
       "    .dataframe tbody tr th {\n",
       "        vertical-align: top;\n",
       "    }\n",
       "\n",
       "    .dataframe thead th {\n",
       "        text-align: right;\n",
       "    }\n",
       "</style>\n",
       "<table border=\"1\" class=\"dataframe\">\n",
       "  <thead>\n",
       "    <tr style=\"text-align: right;\">\n",
       "      <th></th>\n",
       "      <th>0</th>\n",
       "    </tr>\n",
       "  </thead>\n",
       "  <tbody>\n",
       "    <tr>\n",
       "      <th>count</th>\n",
       "      <td>30.000000</td>\n",
       "    </tr>\n",
       "    <tr>\n",
       "      <th>mean</th>\n",
       "      <td>570.466667</td>\n",
       "    </tr>\n",
       "    <tr>\n",
       "      <th>std</th>\n",
       "      <td>359.984457</td>\n",
       "    </tr>\n",
       "    <tr>\n",
       "      <th>min</th>\n",
       "      <td>135.000000</td>\n",
       "    </tr>\n",
       "    <tr>\n",
       "      <th>25%</th>\n",
       "      <td>321.250000</td>\n",
       "    </tr>\n",
       "    <tr>\n",
       "      <th>50%</th>\n",
       "      <td>428.500000</td>\n",
       "    </tr>\n",
       "    <tr>\n",
       "      <th>75%</th>\n",
       "      <td>813.750000</td>\n",
       "    </tr>\n",
       "    <tr>\n",
       "      <th>max</th>\n",
       "      <td>1459.000000</td>\n",
       "    </tr>\n",
       "  </tbody>\n",
       "</table>\n",
       "</div>"
      ],
      "text/plain": [
       "                 0\n",
       "count    30.000000\n",
       "mean    570.466667\n",
       "std     359.984457\n",
       "min     135.000000\n",
       "25%     321.250000\n",
       "50%     428.500000\n",
       "75%     813.750000\n",
       "max    1459.000000"
      ]
     },
     "execution_count": 93,
     "metadata": {},
     "output_type": "execute_result"
    }
   ],
   "source": [
    "#(b)\n",
    "pd.DataFrame(river).describe()"
   ]
  },
  {
   "cell_type": "code",
   "execution_count": 96,
   "id": "e2f3cc68",
   "metadata": {},
   "outputs": [
    {
     "data": {
      "text/plain": [
       "array([287.4 , 392.75, 874.  ])"
      ]
     },
     "execution_count": 96,
     "metadata": {},
     "output_type": "execute_result"
    }
   ],
   "source": [
    "#(c)\n",
    "np.percentile(river, q=[15, 45, 80])"
   ]
  },
  {
   "cell_type": "code",
   "execution_count": 98,
   "id": "ad4fa8d7",
   "metadata": {},
   "outputs": [
    {
     "data": {
      "text/plain": [
       "<AxesSubplot:ylabel='Count'>"
      ]
     },
     "execution_count": 98,
     "metadata": {},
     "output_type": "execute_result"
    },
    {
     "data": {
      "image/png": "[encoded data removed]",
      "text/plain": [
       "<Figure size 1080x576 with 1 Axes>"
      ]
     },
     "metadata": {},
     "output_type": "display_data"
    }
   ],
   "source": [
    "#(d)\n",
    "sns.histplot(river, kde=True)"
   ]
  },
  {
   "cell_type": "code",
   "execution_count": 99,
   "id": "4ba3a2f3",
   "metadata": {},
   "outputs": [
    {
     "data": {
      "text/plain": [
       "<AxesSubplot:>"
      ]
     },
     "execution_count": 99,
     "metadata": {},
     "output_type": "execute_result"
    },
    {
     "data": {
      "image/png": "[encoded data removed]",
      "text/plain": [
       "<Figure size 1080x576 with 1 Axes>"
      ]
     },
     "metadata": {},
     "output_type": "display_data"
    }
   ],
   "source": [
    "sns.boxplot(river)"
   ]
  },
  {
   "cell_type": "markdown",
   "id": "c02b5bc4",
   "metadata": {},
   "source": [
    "## 3"
   ]
  },
  {
   "cell_type": "code",
   "execution_count": 100,
   "id": "176afab0",
   "metadata": {},
   "outputs": [],
   "source": [
    "bulb=np.array([25,16,44,62,36,58,38])"
   ]
  },
  {
   "cell_type": "code",
   "execution_count": 102,
   "id": "8f6d9548",
   "metadata": {},
   "outputs": [
    {
     "data": {
      "text/html": [
       "<div>\n",
       "<style scoped>\n",
       "    .dataframe tbody tr th:only-of-type {\n",
       "        vertical-align: middle;\n",
       "    }\n",
       "\n",
       "    .dataframe tbody tr th {\n",
       "        vertical-align: top;\n",
       "    }\n",
       "\n",
       "    .dataframe thead th {\n",
       "        text-align: right;\n",
       "    }\n",
       "</style>\n",
       "<table border=\"1\" class=\"dataframe\">\n",
       "  <thead>\n",
       "    <tr style=\"text-align: right;\">\n",
       "      <th></th>\n",
       "      <th>0</th>\n",
       "    </tr>\n",
       "  </thead>\n",
       "  <tbody>\n",
       "    <tr>\n",
       "      <th>count</th>\n",
       "      <td>7.000000</td>\n",
       "    </tr>\n",
       "    <tr>\n",
       "      <th>mean</th>\n",
       "      <td>39.857143</td>\n",
       "    </tr>\n",
       "    <tr>\n",
       "      <th>std</th>\n",
       "      <td>16.557260</td>\n",
       "    </tr>\n",
       "    <tr>\n",
       "      <th>min</th>\n",
       "      <td>16.000000</td>\n",
       "    </tr>\n",
       "    <tr>\n",
       "      <th>25%</th>\n",
       "      <td>30.500000</td>\n",
       "    </tr>\n",
       "    <tr>\n",
       "      <th>50%</th>\n",
       "      <td>38.000000</td>\n",
       "    </tr>\n",
       "    <tr>\n",
       "      <th>75%</th>\n",
       "      <td>51.000000</td>\n",
       "    </tr>\n",
       "    <tr>\n",
       "      <th>max</th>\n",
       "      <td>62.000000</td>\n",
       "    </tr>\n",
       "  </tbody>\n",
       "</table>\n",
       "</div>"
      ],
      "text/plain": [
       "               0\n",
       "count   7.000000\n",
       "mean   39.857143\n",
       "std    16.557260\n",
       "min    16.000000\n",
       "25%    30.500000\n",
       "50%    38.000000\n",
       "75%    51.000000\n",
       "max    62.000000"
      ]
     },
     "execution_count": 102,
     "metadata": {},
     "output_type": "execute_result"
    }
   ],
   "source": [
    "#(a), (b), (c)\n",
    "pd.DataFrame(bulb).describe()"
   ]
  },
  {
   "cell_type": "code",
   "execution_count": 103,
   "id": "62350cec",
   "metadata": {
    "scrolled": true
   },
   "outputs": [
    {
     "data": {
      "text/plain": [
       "<AxesSubplot:>"
      ]
     },
     "execution_count": 103,
     "metadata": {},
     "output_type": "execute_result"
    },
    {
     "data": {
      "image/png": "[encoded data removed]",
      "text/plain": [
       "<Figure size 1080x576 with 1 Axes>"
      ]
     },
     "metadata": {},
     "output_type": "display_data"
    }
   ],
   "source": [
    "#(d)\n",
    "sns.boxplot(bulb)"
   ]
  },
  {
   "cell_type": "code",
   "execution_count": 107,
   "id": "8d5abcd5",
   "metadata": {
    "scrolled": false
   },
   "outputs": [
    {
     "data": {
      "text/plain": [
       "<AxesSubplot:>"
      ]
     },
     "execution_count": 107,
     "metadata": {},
     "output_type": "execute_result"
    },
    {
     "data": {
      "image/png": "[encoded data removed]",
      "text/plain": [
       "<Figure size 1080x576 with 1 Axes>"
      ]
     },
     "metadata": {},
     "output_type": "display_data"
    }
   ],
   "source": [
    "#(e)\n",
    "sns.boxplot(bulb, palette=\"hsv_r\")"
   ]
  },
  {
   "cell_type": "code",
   "execution_count": 110,
   "id": "e85edc86",
   "metadata": {},
   "outputs": [],
   "source": [
    "#(f)\n",
    "# !pip install stemgraphic\n",
    "import stemgraphic"
   ]
  },
  {
   "cell_type": "code",
   "execution_count": 111,
   "id": "a42e7d58",
   "metadata": {},
   "outputs": [
    {
     "data": {
      "text/plain": [
       "(<Figure size 540x162 with 1 Axes>, <Axes:>)"
      ]
     },
     "execution_count": 111,
     "metadata": {},
     "output_type": "execute_result"
    },
    {
     "data": {
      "image/png": "[encoded data removed]",
      "text/plain": [
       "<Figure size 540x162 with 1 Axes>"
      ]
     },
     "metadata": {},
     "output_type": "display_data"
    }
   ],
   "source": [
    "stemgraphic.stem_graphic(bulb)"
   ]
  },
  {
   "cell_type": "code",
   "execution_count": 112,
   "id": "10fdc045",
   "metadata": {},
   "outputs": [
    {
     "data": {
      "text/plain": [
       "array([25, 16, 44, 62, 36, 58, 38])"
      ]
     },
     "execution_count": 112,
     "metadata": {},
     "output_type": "execute_result"
    }
   ],
   "source": [
    "bulb"
   ]
  },
  {
   "cell_type": "markdown",
   "id": "721e1403",
   "metadata": {},
   "source": [
    "## 4"
   ]
  },
  {
   "cell_type": "code",
   "execution_count": 116,
   "id": "f5a0c28d",
   "metadata": {},
   "outputs": [],
   "source": [
    "x = st.norm.rvs(0, 1, 30)"
   ]
  },
  {
   "cell_type": "code",
   "execution_count": 117,
   "id": "bd94a18b",
   "metadata": {},
   "outputs": [
    {
     "name": "stdout",
     "output_type": "stream",
     "text": [
      "-0.0036087047399417428 1.0674415710346499\n"
     ]
    }
   ],
   "source": [
    "#(a)\n",
    "print(np.mean(x), np.std(x))"
   ]
  },
  {
   "cell_type": "code",
   "execution_count": 118,
   "id": "5ab62843",
   "metadata": {},
   "outputs": [
    {
     "data": {
      "text/plain": [
       "(-0.4090119227496146, 0.40179451326973115)"
      ]
     },
     "execution_count": 118,
     "metadata": {},
     "output_type": "execute_result"
    }
   ],
   "source": [
    "#(b)\n",
    "st.t.interval(alpha=0.95, df=len(x)-1, loc=np.mean(x), scale=st.sem(x)) "
   ]
  },
  {
   "cell_type": "markdown",
   "id": "8b6921fe",
   "metadata": {},
   "source": [
    "## 5"
   ]
  },
  {
   "cell_type": "code",
   "execution_count": 120,
   "id": "c0ff3ec2",
   "metadata": {},
   "outputs": [],
   "source": [
    "data1=np.array([19,21,15,23,24,15,15,15,16,29,\n",
    "               18,32,20,23,24,24,25,25,25,25,\n",
    "               25,25,25,36,26,28,30])"
   ]
  },
  {
   "cell_type": "code",
   "execution_count": 122,
   "id": "fa540f2f",
   "metadata": {},
   "outputs": [
    {
     "data": {
      "text/html": [
       "<div>\n",
       "<style scoped>\n",
       "    .dataframe tbody tr th:only-of-type {\n",
       "        vertical-align: middle;\n",
       "    }\n",
       "\n",
       "    .dataframe tbody tr th {\n",
       "        vertical-align: top;\n",
       "    }\n",
       "\n",
       "    .dataframe thead th {\n",
       "        text-align: right;\n",
       "    }\n",
       "</style>\n",
       "<table border=\"1\" class=\"dataframe\">\n",
       "  <thead>\n",
       "    <tr style=\"text-align: right;\">\n",
       "      <th></th>\n",
       "      <th>0</th>\n",
       "    </tr>\n",
       "  </thead>\n",
       "  <tbody>\n",
       "    <tr>\n",
       "      <th>count</th>\n",
       "      <td>27.000000</td>\n",
       "    </tr>\n",
       "    <tr>\n",
       "      <th>mean</th>\n",
       "      <td>23.259259</td>\n",
       "    </tr>\n",
       "    <tr>\n",
       "      <th>std</th>\n",
       "      <td>5.396527</td>\n",
       "    </tr>\n",
       "    <tr>\n",
       "      <th>min</th>\n",
       "      <td>15.000000</td>\n",
       "    </tr>\n",
       "    <tr>\n",
       "      <th>25%</th>\n",
       "      <td>19.500000</td>\n",
       "    </tr>\n",
       "    <tr>\n",
       "      <th>50%</th>\n",
       "      <td>24.000000</td>\n",
       "    </tr>\n",
       "    <tr>\n",
       "      <th>75%</th>\n",
       "      <td>25.000000</td>\n",
       "    </tr>\n",
       "    <tr>\n",
       "      <th>max</th>\n",
       "      <td>36.000000</td>\n",
       "    </tr>\n",
       "  </tbody>\n",
       "</table>\n",
       "</div>"
      ],
      "text/plain": [
       "               0\n",
       "count  27.000000\n",
       "mean   23.259259\n",
       "std     5.396527\n",
       "min    15.000000\n",
       "25%    19.500000\n",
       "50%    24.000000\n",
       "75%    25.000000\n",
       "max    36.000000"
      ]
     },
     "execution_count": 122,
     "metadata": {},
     "output_type": "execute_result"
    }
   ],
   "source": [
    "#(a), (b)\n",
    "pd.DataFrame(data1).describe()"
   ]
  },
  {
   "cell_type": "code",
   "execution_count": 124,
   "id": "a3dc8427",
   "metadata": {},
   "outputs": [
    {
     "data": {
      "text/plain": [
       "<AxesSubplot:ylabel='Count'>"
      ]
     },
     "execution_count": 124,
     "metadata": {},
     "output_type": "execute_result"
    },
    {
     "data": {
      "image/png": "[encoded data removed]",
      "text/plain": [
       "<Figure size 1080x576 with 1 Axes>"
      ]
     },
     "metadata": {},
     "output_type": "display_data"
    }
   ],
   "source": [
    "#(c)\n",
    "sns.histplot(data1, kde=True)"
   ]
  },
  {
   "cell_type": "code",
   "execution_count": 136,
   "id": "b35169c8",
   "metadata": {
    "scrolled": true
   },
   "outputs": [],
   "source": [
    "#(d)\n",
    "p1 = data1[data1 < 20]\n",
    "p2 = data1[np.where((data1>=20)&(data1<30))]\n",
    "p3 = data1[data1 >= 30]"
   ]
  },
  {
   "cell_type": "code",
   "execution_count": 128,
   "id": "398316a5",
   "metadata": {},
   "outputs": [
    {
     "data": {
      "text/plain": [
       "array([21, 23, 24, 29, 32, 23, 24, 24, 25, 25, 25, 25, 25, 25, 25, 36, 26,\n",
       "       28, 30])"
      ]
     },
     "execution_count": 128,
     "metadata": {},
     "output_type": "execute_result"
    }
   ],
   "source": [
    "p1"
   ]
  },
  {
   "cell_type": "code",
   "execution_count": 140,
   "id": "e654663b",
   "metadata": {},
   "outputs": [
    {
     "data": {
      "image/png": "[encoded data removed]",
      "text/plain": [
       "<Figure size 1080x576 with 1 Axes>"
      ]
     },
     "metadata": {},
     "output_type": "display_data"
    }
   ],
   "source": [
    "plt.pie(x=[len(p1), len(p2), len(p3)],\n",
    "        labels=['~20', '20~30', '30~'],\n",
    "        autopct='%.0f%%')\n",
    "plt.show()"
   ]
  },
  {
   "cell_type": "markdown",
   "id": "5f6d65af",
   "metadata": {},
   "source": [
    "## 6"
   ]
  },
  {
   "cell_type": "code",
   "execution_count": 141,
   "id": "e1b2594b",
   "metadata": {},
   "outputs": [],
   "source": [
    "data=[2.3,2.4,3.1,2.2,1.0,2.3,2.1,1.1,1.2,0.9,1.5,1.1]"
   ]
  },
  {
   "cell_type": "code",
   "execution_count": 142,
   "id": "87843393",
   "metadata": {},
   "outputs": [
    {
     "data": {
      "text/html": [
       "<div>\n",
       "<style scoped>\n",
       "    .dataframe tbody tr th:only-of-type {\n",
       "        vertical-align: middle;\n",
       "    }\n",
       "\n",
       "    .dataframe tbody tr th {\n",
       "        vertical-align: top;\n",
       "    }\n",
       "\n",
       "    .dataframe thead th {\n",
       "        text-align: right;\n",
       "    }\n",
       "</style>\n",
       "<table border=\"1\" class=\"dataframe\">\n",
       "  <thead>\n",
       "    <tr style=\"text-align: right;\">\n",
       "      <th></th>\n",
       "      <th>0</th>\n",
       "    </tr>\n",
       "  </thead>\n",
       "  <tbody>\n",
       "    <tr>\n",
       "      <th>count</th>\n",
       "      <td>12.000000</td>\n",
       "    </tr>\n",
       "    <tr>\n",
       "      <th>mean</th>\n",
       "      <td>1.766667</td>\n",
       "    </tr>\n",
       "    <tr>\n",
       "      <th>std</th>\n",
       "      <td>0.717741</td>\n",
       "    </tr>\n",
       "    <tr>\n",
       "      <th>min</th>\n",
       "      <td>0.900000</td>\n",
       "    </tr>\n",
       "    <tr>\n",
       "      <th>25%</th>\n",
       "      <td>1.100000</td>\n",
       "    </tr>\n",
       "    <tr>\n",
       "      <th>50%</th>\n",
       "      <td>1.800000</td>\n",
       "    </tr>\n",
       "    <tr>\n",
       "      <th>75%</th>\n",
       "      <td>2.300000</td>\n",
       "    </tr>\n",
       "    <tr>\n",
       "      <th>max</th>\n",
       "      <td>3.100000</td>\n",
       "    </tr>\n",
       "  </tbody>\n",
       "</table>\n",
       "</div>"
      ],
      "text/plain": [
       "               0\n",
       "count  12.000000\n",
       "mean    1.766667\n",
       "std     0.717741\n",
       "min     0.900000\n",
       "25%     1.100000\n",
       "50%     1.800000\n",
       "75%     2.300000\n",
       "max     3.100000"
      ]
     },
     "execution_count": 142,
     "metadata": {},
     "output_type": "execute_result"
    }
   ],
   "source": [
    "#(a),(b)\n",
    "pd.DataFrame(data).describe()"
   ]
  },
  {
   "cell_type": "code",
   "execution_count": 143,
   "id": "7196991b",
   "metadata": {},
   "outputs": [
    {
     "data": {
      "text/plain": [
       "(1.310636069846852, 2.2226972634864812)"
      ]
     },
     "execution_count": 143,
     "metadata": {},
     "output_type": "execute_result"
    }
   ],
   "source": [
    "#(c)\n",
    "st.t.interval(alpha=0.95, df=len(data)-1, loc=np.mean(data), scale=st.sem(data)) "
   ]
  },
  {
   "cell_type": "code",
   "execution_count": 144,
   "id": "3d21fc84",
   "metadata": {},
   "outputs": [
    {
     "data": {
      "text/plain": [
       "<AxesSubplot:>"
      ]
     },
     "execution_count": 144,
     "metadata": {},
     "output_type": "execute_result"
    },
    {
     "data": {
      "image/png": "[encoded data removed]",
      "text/plain": [
       "<Figure size 1080x576 with 1 Axes>"
      ]
     },
     "metadata": {},
     "output_type": "display_data"
    }
   ],
   "source": [
    "#(d)\n",
    "sns.boxplot(data)"
   ]
  },
  {
   "cell_type": "code",
   "execution_count": 145,
   "id": "9ce37582",
   "metadata": {},
   "outputs": [
    {
     "data": {
      "text/plain": [
       "(<Figure size 540x180 with 1 Axes>, <Axes:>)"
      ]
     },
     "execution_count": 145,
     "metadata": {},
     "output_type": "execute_result"
    },
    {
     "data": {
      "image/png": "[encoded data removed]",
      "text/plain": [
       "<Figure size 540x180 with 1 Axes>"
      ]
     },
     "metadata": {},
     "output_type": "display_data"
    }
   ],
   "source": [
    "#(e)\n",
    "stemgraphic.stem_graphic(data)"
   ]
  },
  {
   "cell_type": "markdown",
   "id": "ee53070c",
   "metadata": {},
   "source": [
    "## 7"
   ]
  },
  {
   "cell_type": "code",
   "execution_count": 146,
   "id": "df9890a3",
   "metadata": {},
   "outputs": [
    {
     "data": {
      "text/html": [
       "<div>\n",
       "<style scoped>\n",
       "    .dataframe tbody tr th:only-of-type {\n",
       "        vertical-align: middle;\n",
       "    }\n",
       "\n",
       "    .dataframe tbody tr th {\n",
       "        vertical-align: top;\n",
       "    }\n",
       "\n",
       "    .dataframe thead th {\n",
       "        text-align: right;\n",
       "    }\n",
       "</style>\n",
       "<table border=\"1\" class=\"dataframe\">\n",
       "  <thead>\n",
       "    <tr style=\"text-align: right;\">\n",
       "      <th></th>\n",
       "      <th>smoke</th>\n",
       "      <th>wrinkle</th>\n",
       "      <th>freq</th>\n",
       "    </tr>\n",
       "  </thead>\n",
       "  <tbody>\n",
       "    <tr>\n",
       "      <th>0</th>\n",
       "      <td>y</td>\n",
       "      <td>y</td>\n",
       "      <td>60</td>\n",
       "    </tr>\n",
       "    <tr>\n",
       "      <th>1</th>\n",
       "      <td>y</td>\n",
       "      <td>n</td>\n",
       "      <td>10</td>\n",
       "    </tr>\n",
       "    <tr>\n",
       "      <th>2</th>\n",
       "      <td>n</td>\n",
       "      <td>y</td>\n",
       "      <td>30</td>\n",
       "    </tr>\n",
       "    <tr>\n",
       "      <th>3</th>\n",
       "      <td>n</td>\n",
       "      <td>n</td>\n",
       "      <td>40</td>\n",
       "    </tr>\n",
       "  </tbody>\n",
       "</table>\n",
       "</div>"
      ],
      "text/plain": [
       "  smoke wrinkle  freq\n",
       "0     y       y    60\n",
       "1     y       n    10\n",
       "2     n       y    30\n",
       "3     n       n    40"
      ]
     },
     "execution_count": 146,
     "metadata": {},
     "output_type": "execute_result"
    }
   ],
   "source": [
    "smoke=np.array(['y','y','n','n'])\n",
    "wrinkle=np.array(['y','n','y','n'])\n",
    "freq=np.array([60,10,30,40])\n",
    "df=pd.DataFrame({'smoke':smoke, 'wrinkle':wrinkle,'freq':freq}); df"
   ]
  },
  {
   "cell_type": "code",
   "execution_count": 151,
   "id": "88d0705e",
   "metadata": {},
   "outputs": [
    {
     "data": {
      "text/plain": [
       "0.8571428571428571"
      ]
     },
     "execution_count": 151,
     "metadata": {},
     "output_type": "execute_result"
    }
   ],
   "source": [
    "#(a)\n",
    "df2 = df[df.smoke == 'y']\n",
    "p1 = df2[df2.wrinkle == 'y'].freq.sum() / df2.freq.sum()\n",
    "p1"
   ]
  },
  {
   "cell_type": "code",
   "execution_count": 154,
   "id": "e7588e57",
   "metadata": {},
   "outputs": [
    {
     "data": {
      "text/plain": [
       "0.42857142857142855"
      ]
     },
     "execution_count": 154,
     "metadata": {},
     "output_type": "execute_result"
    }
   ],
   "source": [
    "#(b)\n",
    "df3 = df[df.smoke == 'n']\n",
    "p2 = df3[df3.wrinkle == 'y'].freq.sum() / df3.freq.sum()\n",
    "p2"
   ]
  },
  {
   "cell_type": "code",
   "execution_count": 153,
   "id": "753c5905",
   "metadata": {},
   "outputs": [
    {
     "data": {
      "text/plain": [
       "0.42857142857142855"
      ]
     },
     "execution_count": 153,
     "metadata": {},
     "output_type": "execute_result"
    }
   ],
   "source": [
    "#(c)\n",
    "np.abs(p2-p1)"
   ]
  },
  {
   "cell_type": "code",
   "execution_count": 157,
   "id": "4cdd7f94",
   "metadata": {},
   "outputs": [
    {
     "data": {
      "text/plain": [
       "0    60\n",
       "1    10\n",
       "Name: freq, dtype: int64"
      ]
     },
     "execution_count": 157,
     "metadata": {},
     "output_type": "execute_result"
    }
   ],
   "source": [
    "df2.freq"
   ]
  },
  {
   "cell_type": "code",
   "execution_count": 158,
   "id": "a3fa4f1f",
   "metadata": {},
   "outputs": [
    {
     "data": {
      "text/html": [
       "<div>\n",
       "<style scoped>\n",
       "    .dataframe tbody tr th:only-of-type {\n",
       "        vertical-align: middle;\n",
       "    }\n",
       "\n",
       "    .dataframe tbody tr th {\n",
       "        vertical-align: top;\n",
       "    }\n",
       "\n",
       "    .dataframe thead th {\n",
       "        text-align: right;\n",
       "    }\n",
       "</style>\n",
       "<table border=\"1\" class=\"dataframe\">\n",
       "  <thead>\n",
       "    <tr style=\"text-align: right;\">\n",
       "      <th></th>\n",
       "      <th>smoke</th>\n",
       "      <th>wrinkle</th>\n",
       "      <th>freq</th>\n",
       "    </tr>\n",
       "  </thead>\n",
       "  <tbody>\n",
       "    <tr>\n",
       "      <th>0</th>\n",
       "      <td>y</td>\n",
       "      <td>y</td>\n",
       "      <td>60</td>\n",
       "    </tr>\n",
       "    <tr>\n",
       "      <th>1</th>\n",
       "      <td>y</td>\n",
       "      <td>n</td>\n",
       "      <td>10</td>\n",
       "    </tr>\n",
       "  </tbody>\n",
       "</table>\n",
       "</div>"
      ],
      "text/plain": [
       "  smoke wrinkle  freq\n",
       "0     y       y    60\n",
       "1     y       n    10"
      ]
     },
     "execution_count": 158,
     "metadata": {},
     "output_type": "execute_result"
    }
   ],
   "source": [
    "df2"
   ]
  },
  {
   "cell_type": "code",
   "execution_count": 161,
   "id": "2d53c706",
   "metadata": {},
   "outputs": [
    {
     "data": {
      "image/png": "[encoded data removed]",
      "text/plain": [
       "<Figure size 1080x576 with 1 Axes>"
      ]
     },
     "metadata": {},
     "output_type": "display_data"
    },
    {
     "data": {
      "image/png": "[encoded data removed]",
      "text/plain": [
       "<Figure size 1080x576 with 1 Axes>"
      ]
     },
     "metadata": {},
     "output_type": "display_data"
    }
   ],
   "source": [
    "#(d)\n",
    "plt.pie(x=df2.freq,\n",
    "        labels=['y', 'n'],\n",
    "        autopct='%.0f%%')\n",
    "plt.show()\n",
    "\n",
    "plt.pie(x=df3.freq,\n",
    "        labels=['y', 'n'],\n",
    "        autopct='%.0f%%')\n",
    "plt.show()"
   ]
  },
  {
   "cell_type": "markdown",
   "id": "ded80af3",
   "metadata": {},
   "source": [
    "## 8"
   ]
  },
  {
   "cell_type": "code",
   "execution_count": 162,
   "id": "b5a40585",
   "metadata": {},
   "outputs": [],
   "source": [
    "tv=[5.7,6.7,6.8,7.9,10.6,11.3,9.8,8.4,8.3,9.5,6.7,6.9,9.8,8.8,12.1,10.2,9.5,9.4,9.3,5.9]"
   ]
  },
  {
   "cell_type": "code",
   "execution_count": 163,
   "id": "00034e68",
   "metadata": {},
   "outputs": [
    {
     "data": {
      "text/plain": [
       "8.680000000000001"
      ]
     },
     "execution_count": 163,
     "metadata": {},
     "output_type": "execute_result"
    }
   ],
   "source": [
    "#(a)\n",
    "np.mean(tv)"
   ]
  },
  {
   "cell_type": "code",
   "execution_count": 169,
   "id": "de70a239",
   "metadata": {},
   "outputs": [
    {
     "data": {
      "text/plain": [
       "(7.839272675257288, 9.520727324742715)"
      ]
     },
     "execution_count": 169,
     "metadata": {},
     "output_type": "execute_result"
    }
   ],
   "source": [
    "#(b)\n",
    "st.t.interval(alpha=0.95, df=len(tv)-1, loc=np.mean(tv), scale=st.sem(tv)) "
   ]
  },
  {
   "cell_type": "code",
   "execution_count": 170,
   "id": "5c64a7b1",
   "metadata": {},
   "outputs": [
    {
     "data": {
      "text/html": [
       "<div>\n",
       "<style scoped>\n",
       "    .dataframe tbody tr th:only-of-type {\n",
       "        vertical-align: middle;\n",
       "    }\n",
       "\n",
       "    .dataframe tbody tr th {\n",
       "        vertical-align: top;\n",
       "    }\n",
       "\n",
       "    .dataframe thead th {\n",
       "        text-align: right;\n",
       "    }\n",
       "</style>\n",
       "<table border=\"1\" class=\"dataframe\">\n",
       "  <thead>\n",
       "    <tr style=\"text-align: right;\">\n",
       "      <th></th>\n",
       "      <th>0</th>\n",
       "    </tr>\n",
       "  </thead>\n",
       "  <tbody>\n",
       "    <tr>\n",
       "      <th>count</th>\n",
       "      <td>20.000000</td>\n",
       "    </tr>\n",
       "    <tr>\n",
       "      <th>mean</th>\n",
       "      <td>8.680000</td>\n",
       "    </tr>\n",
       "    <tr>\n",
       "      <th>std</th>\n",
       "      <td>1.796371</td>\n",
       "    </tr>\n",
       "    <tr>\n",
       "      <th>min</th>\n",
       "      <td>5.700000</td>\n",
       "    </tr>\n",
       "    <tr>\n",
       "      <th>25%</th>\n",
       "      <td>6.875000</td>\n",
       "    </tr>\n",
       "    <tr>\n",
       "      <th>50%</th>\n",
       "      <td>9.050000</td>\n",
       "    </tr>\n",
       "    <tr>\n",
       "      <th>75%</th>\n",
       "      <td>9.800000</td>\n",
       "    </tr>\n",
       "    <tr>\n",
       "      <th>max</th>\n",
       "      <td>12.100000</td>\n",
       "    </tr>\n",
       "  </tbody>\n",
       "</table>\n",
       "</div>"
      ],
      "text/plain": [
       "               0\n",
       "count  20.000000\n",
       "mean    8.680000\n",
       "std     1.796371\n",
       "min     5.700000\n",
       "25%     6.875000\n",
       "50%     9.050000\n",
       "75%     9.800000\n",
       "max    12.100000"
      ]
     },
     "execution_count": 170,
     "metadata": {},
     "output_type": "execute_result"
    }
   ],
   "source": [
    "#(c)\n",
    "pd.DataFrame(tv).describe()"
   ]
  },
  {
   "cell_type": "code",
   "execution_count": 171,
   "id": "f4aea472",
   "metadata": {},
   "outputs": [
    {
     "data": {
      "text/plain": [
       "<AxesSubplot:>"
      ]
     },
     "execution_count": 171,
     "metadata": {},
     "output_type": "execute_result"
    },
    {
     "data": {
      "image/png": "[encoded data removed]",
      "text/plain": [
       "<Figure size 1080x576 with 1 Axes>"
      ]
     },
     "metadata": {},
     "output_type": "display_data"
    }
   ],
   "source": [
    "#(d)\n",
    "sns.boxplot(tv)"
   ]
  },
  {
   "cell_type": "code",
   "execution_count": 172,
   "id": "babd9dc1",
   "metadata": {},
   "outputs": [
    {
     "data": {
      "text/plain": [
       "<AxesSubplot:ylabel='Count'>"
      ]
     },
     "execution_count": 172,
     "metadata": {},
     "output_type": "execute_result"
    },
    {
     "data": {
      "image/png": "[encoded data removed]",
      "text/plain": [
       "<Figure size 1080x576 with 1 Axes>"
      ]
     },
     "metadata": {},
     "output_type": "display_data"
    }
   ],
   "source": [
    "#(e)\n",
    "sns.histplot(tv, kde=True)"
   ]
  },
  {
   "cell_type": "markdown",
   "id": "195d89fb",
   "metadata": {},
   "source": [
    "## 9"
   ]
  },
  {
   "cell_type": "code",
   "execution_count": 173,
   "id": "e3617a99",
   "metadata": {},
   "outputs": [],
   "source": [
    "phone=[20870,39400,65000,45000,35890,29000,56770,\n",
    "      23000,38550,59800,39880,56780,35200,48990]"
   ]
  },
  {
   "cell_type": "code",
   "execution_count": 174,
   "id": "12c18577",
   "metadata": {},
   "outputs": [
    {
     "data": {
      "text/html": [
       "<div>\n",
       "<style scoped>\n",
       "    .dataframe tbody tr th:only-of-type {\n",
       "        vertical-align: middle;\n",
       "    }\n",
       "\n",
       "    .dataframe tbody tr th {\n",
       "        vertical-align: top;\n",
       "    }\n",
       "\n",
       "    .dataframe thead th {\n",
       "        text-align: right;\n",
       "    }\n",
       "</style>\n",
       "<table border=\"1\" class=\"dataframe\">\n",
       "  <thead>\n",
       "    <tr style=\"text-align: right;\">\n",
       "      <th></th>\n",
       "      <th>0</th>\n",
       "    </tr>\n",
       "  </thead>\n",
       "  <tbody>\n",
       "    <tr>\n",
       "      <th>count</th>\n",
       "      <td>14.000000</td>\n",
       "    </tr>\n",
       "    <tr>\n",
       "      <th>mean</th>\n",
       "      <td>42437.857143</td>\n",
       "    </tr>\n",
       "    <tr>\n",
       "      <th>std</th>\n",
       "      <td>13646.141285</td>\n",
       "    </tr>\n",
       "    <tr>\n",
       "      <th>min</th>\n",
       "      <td>20870.000000</td>\n",
       "    </tr>\n",
       "    <tr>\n",
       "      <th>25%</th>\n",
       "      <td>35372.500000</td>\n",
       "    </tr>\n",
       "    <tr>\n",
       "      <th>50%</th>\n",
       "      <td>39640.000000</td>\n",
       "    </tr>\n",
       "    <tr>\n",
       "      <th>75%</th>\n",
       "      <td>54825.000000</td>\n",
       "    </tr>\n",
       "    <tr>\n",
       "      <th>max</th>\n",
       "      <td>65000.000000</td>\n",
       "    </tr>\n",
       "  </tbody>\n",
       "</table>\n",
       "</div>"
      ],
      "text/plain": [
       "                  0\n",
       "count     14.000000\n",
       "mean   42437.857143\n",
       "std    13646.141285\n",
       "min    20870.000000\n",
       "25%    35372.500000\n",
       "50%    39640.000000\n",
       "75%    54825.000000\n",
       "max    65000.000000"
      ]
     },
     "execution_count": 174,
     "metadata": {},
     "output_type": "execute_result"
    }
   ],
   "source": [
    "#(a)(c)\n",
    "pd.DataFrame(phone).describe()"
   ]
  },
  {
   "cell_type": "code",
   "execution_count": 175,
   "id": "fb136290",
   "metadata": {},
   "outputs": [
    {
     "data": {
      "text/plain": [
       "(34558.80974033922, 50316.90454537507)"
      ]
     },
     "execution_count": 175,
     "metadata": {},
     "output_type": "execute_result"
    }
   ],
   "source": [
    "#(b)\n",
    "st.t.interval(alpha=0.95, df=len(phone)-1, loc=np.mean(phone), scale=st.sem(phone)) "
   ]
  },
  {
   "cell_type": "code",
   "execution_count": 176,
   "id": "4a0cc768",
   "metadata": {},
   "outputs": [
    {
     "data": {
      "text/plain": [
       "<AxesSubplot:>"
      ]
     },
     "execution_count": 176,
     "metadata": {},
     "output_type": "execute_result"
    },
    {
     "data": {
      "image/png": "[encoded data removed]",
      "text/plain": [
       "<Figure size 1080x576 with 1 Axes>"
      ]
     },
     "metadata": {},
     "output_type": "display_data"
    }
   ],
   "source": [
    "#(d)\n",
    "sns.boxplot(phone)"
   ]
  },
  {
   "cell_type": "code",
   "execution_count": 177,
   "id": "d203cf21",
   "metadata": {},
   "outputs": [
    {
     "data": {
      "text/plain": [
       "<AxesSubplot:ylabel='Count'>"
      ]
     },
     "execution_count": 177,
     "metadata": {},
     "output_type": "execute_result"
    },
    {
     "data": {
      "image/png": "[encoded data removed]",
      "text/plain": [
       "<Figure size 1080x576 with 1 Axes>"
      ]
     },
     "metadata": {},
     "output_type": "display_data"
    }
   ],
   "source": [
    "sns.histplot(phone, kde=True)"
   ]
  },
  {
   "cell_type": "markdown",
   "id": "893387bc",
   "metadata": {},
   "source": [
    "## 11"
   ]
  },
  {
   "cell_type": "code",
   "execution_count": 178,
   "id": "7eafe798",
   "metadata": {},
   "outputs": [],
   "source": [
    "sleep=[5.6,7.8,6.5,7.2,6.9,7.3,5.8,7.5,8.2,7.8]"
   ]
  },
  {
   "cell_type": "code",
   "execution_count": 180,
   "id": "0de99ca6",
   "metadata": {},
   "outputs": [
    {
     "data": {
      "text/html": [
       "<div>\n",
       "<style scoped>\n",
       "    .dataframe tbody tr th:only-of-type {\n",
       "        vertical-align: middle;\n",
       "    }\n",
       "\n",
       "    .dataframe tbody tr th {\n",
       "        vertical-align: top;\n",
       "    }\n",
       "\n",
       "    .dataframe thead th {\n",
       "        text-align: right;\n",
       "    }\n",
       "</style>\n",
       "<table border=\"1\" class=\"dataframe\">\n",
       "  <thead>\n",
       "    <tr style=\"text-align: right;\">\n",
       "      <th></th>\n",
       "      <th>0</th>\n",
       "    </tr>\n",
       "  </thead>\n",
       "  <tbody>\n",
       "    <tr>\n",
       "      <th>count</th>\n",
       "      <td>10.000000</td>\n",
       "    </tr>\n",
       "    <tr>\n",
       "      <th>mean</th>\n",
       "      <td>7.060000</td>\n",
       "    </tr>\n",
       "    <tr>\n",
       "      <th>std</th>\n",
       "      <td>0.864356</td>\n",
       "    </tr>\n",
       "    <tr>\n",
       "      <th>min</th>\n",
       "      <td>5.600000</td>\n",
       "    </tr>\n",
       "    <tr>\n",
       "      <th>25%</th>\n",
       "      <td>6.600000</td>\n",
       "    </tr>\n",
       "    <tr>\n",
       "      <th>50%</th>\n",
       "      <td>7.250000</td>\n",
       "    </tr>\n",
       "    <tr>\n",
       "      <th>75%</th>\n",
       "      <td>7.725000</td>\n",
       "    </tr>\n",
       "    <tr>\n",
       "      <th>max</th>\n",
       "      <td>8.200000</td>\n",
       "    </tr>\n",
       "  </tbody>\n",
       "</table>\n",
       "</div>"
      ],
      "text/plain": [
       "               0\n",
       "count  10.000000\n",
       "mean    7.060000\n",
       "std     0.864356\n",
       "min     5.600000\n",
       "25%     6.600000\n",
       "50%     7.250000\n",
       "75%     7.725000\n",
       "max     8.200000"
      ]
     },
     "execution_count": 180,
     "metadata": {},
     "output_type": "execute_result"
    }
   ],
   "source": [
    "#(a)(c)\n",
    "pd.DataFrame(sleep).describe()"
   ]
  },
  {
   "cell_type": "code",
   "execution_count": 181,
   "id": "94eb3081",
   "metadata": {},
   "outputs": [
    {
     "data": {
      "text/plain": [
       "(6.4416770421841285, 7.678322957815871)"
      ]
     },
     "execution_count": 181,
     "metadata": {},
     "output_type": "execute_result"
    }
   ],
   "source": [
    "#(b)\n",
    "st.t.interval(alpha=0.95, df=len(sleep)-1, loc=np.mean(sleep), scale=st.sem(sleep)) "
   ]
  },
  {
   "cell_type": "code",
   "execution_count": 182,
   "id": "fbb42a15",
   "metadata": {},
   "outputs": [
    {
     "data": {
      "text/plain": [
       "<AxesSubplot:>"
      ]
     },
     "execution_count": 182,
     "metadata": {},
     "output_type": "execute_result"
    },
    {
     "data": {
      "image/png": "[encoded data removed]",
      "text/plain": [
       "<Figure size 1080x576 with 1 Axes>"
      ]
     },
     "metadata": {},
     "output_type": "display_data"
    }
   ],
   "source": [
    "#(d)\n",
    "sns.boxplot(sleep)"
   ]
  },
  {
   "cell_type": "code",
   "execution_count": 183,
   "id": "2eb090b3",
   "metadata": {},
   "outputs": [],
   "source": [
    "from sklearn.preprocessing import StandardScaler\n",
    "standardScaler = StandardScaler()\n",
    "sleep_standardScaled = standardScaler.fit_transform(np.array(sleep).reshape(-1, 1))"
   ]
  },
  {
   "cell_type": "code",
   "execution_count": 184,
   "id": "bcda55e8",
   "metadata": {},
   "outputs": [
    {
     "data": {
      "text/plain": [
       "array([[-1.7804878 ],\n",
       "       [ 0.90243902],\n",
       "       [-0.68292683],\n",
       "       [ 0.17073171],\n",
       "       [-0.19512195],\n",
       "       [ 0.29268293],\n",
       "       [-1.53658537],\n",
       "       [ 0.53658537],\n",
       "       [ 1.3902439 ],\n",
       "       [ 0.90243902]])"
      ]
     },
     "execution_count": 184,
     "metadata": {},
     "output_type": "execute_result"
    }
   ],
   "source": [
    "sleep_standardScaled"
   ]
  },
  {
   "cell_type": "code",
   "execution_count": 185,
   "id": "4e722288",
   "metadata": {},
   "outputs": [
    {
     "data": {
      "text/plain": [
       "<AxesSubplot:>"
      ]
     },
     "execution_count": 185,
     "metadata": {},
     "output_type": "execute_result"
    },
    {
     "data": {
      "image/png": "[encoded data removed]",
      "text/plain": [
       "<Figure size 1080x576 with 1 Axes>"
      ]
     },
     "metadata": {},
     "output_type": "display_data"
    }
   ],
   "source": [
    "sns.boxplot(sleep_standardScaled)"
   ]
  },
  {
   "cell_type": "code",
   "execution_count": null,
   "id": "b3751f08",
   "metadata": {},
   "outputs": [],
   "source": []
  }
 ],
 "metadata": {
  "kernelspec": {
   "display_name": "Python 3 (ipykernel)",
   "language": "python",
   "name": "python3"
  },
  "language_info": {
   "codemirror_mode": {
    "name": "ipython",
    "version": 3
   },
   "file_extension": ".py",
   "mimetype": "text/x-python",
   "name": "python",
   "nbconvert_exporter": "python",
   "pygments_lexer": "ipython3",
   "version": "3.9.7"
  }
 },
 "nbformat": 4,
 "nbformat_minor": 5
}
